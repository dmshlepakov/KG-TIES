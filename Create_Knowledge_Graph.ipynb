{
  "nbformat": 4,
  "nbformat_minor": 0,
  "metadata": {
    "colab": {
      "name": "Create Knowledge Graph.ipynb",
      "provenance": [],
      "authorship_tag": "ABX9TyNDtwhXSDDQdPJuERnizaaT",
      "include_colab_link": true
    },
    "kernelspec": {
      "name": "python3",
      "display_name": "Python 3"
    }
  },
  "cells": [
    {
      "cell_type": "markdown",
      "metadata": {
        "id": "view-in-github",
        "colab_type": "text"
      },
      "source": [
        "<a href=\"https://colab.research.google.com/github/dmshlepakov/KG-TIES/blob/master/Create_Knowledge_Graph.ipynb\" target=\"_parent\"><img src=\"https://colab.research.google.com/assets/colab-badge.svg\" alt=\"Open In Colab\"/></a>"
      ]
    },
    {
      "cell_type": "code",
      "metadata": {
        "id": "MQVFd3276w_e",
        "colab_type": "code",
        "colab": {
          "base_uri": "https://localhost:8080/",
          "height": 515
        },
        "outputId": "690e418c-f8e5-4f4a-9c45-cd0ccae87596"
      },
      "source": [
        "! pip install -U spacy\n",
        "import spacy\n",
        "from spacy.matcher import Matcher\n",
        "\n",
        "nlp = spacy.load(\"en_core_web_sm\")\n",
        "matcher = Matcher(nlp.vocab)\n",
        "\n"
      ],
      "execution_count": 1,
      "outputs": [
        {
          "output_type": "stream",
          "text": [
            "Requirement already up-to-date: spacy in /usr/local/lib/python3.6/dist-packages (2.2.4)\n",
            "Requirement already satisfied, skipping upgrade: setuptools in /usr/local/lib/python3.6/dist-packages (from spacy) (46.1.3)\n",
            "Requirement already satisfied, skipping upgrade: plac<1.2.0,>=0.9.6 in /usr/local/lib/python3.6/dist-packages (from spacy) (1.1.3)\n",
            "Requirement already satisfied, skipping upgrade: preshed<3.1.0,>=3.0.2 in /usr/local/lib/python3.6/dist-packages (from spacy) (3.0.2)\n",
            "Requirement already satisfied, skipping upgrade: thinc==7.4.0 in /usr/local/lib/python3.6/dist-packages (from spacy) (7.4.0)\n",
            "Requirement already satisfied, skipping upgrade: srsly<1.1.0,>=1.0.2 in /usr/local/lib/python3.6/dist-packages (from spacy) (1.0.2)\n",
            "Requirement already satisfied, skipping upgrade: tqdm<5.0.0,>=4.38.0 in /usr/local/lib/python3.6/dist-packages (from spacy) (4.38.0)\n",
            "Requirement already satisfied, skipping upgrade: murmurhash<1.1.0,>=0.28.0 in /usr/local/lib/python3.6/dist-packages (from spacy) (1.0.2)\n",
            "Requirement already satisfied, skipping upgrade: numpy>=1.15.0 in /usr/local/lib/python3.6/dist-packages (from spacy) (1.18.3)\n",
            "Requirement already satisfied, skipping upgrade: requests<3.0.0,>=2.13.0 in /usr/local/lib/python3.6/dist-packages (from spacy) (2.23.0)\n",
            "Requirement already satisfied, skipping upgrade: cymem<2.1.0,>=2.0.2 in /usr/local/lib/python3.6/dist-packages (from spacy) (2.0.3)\n",
            "Requirement already satisfied, skipping upgrade: catalogue<1.1.0,>=0.0.7 in /usr/local/lib/python3.6/dist-packages (from spacy) (1.0.0)\n",
            "Requirement already satisfied, skipping upgrade: blis<0.5.0,>=0.4.0 in /usr/local/lib/python3.6/dist-packages (from spacy) (0.4.1)\n",
            "Requirement already satisfied, skipping upgrade: wasabi<1.1.0,>=0.4.0 in /usr/local/lib/python3.6/dist-packages (from spacy) (0.6.0)\n",
            "Requirement already satisfied, skipping upgrade: idna<3,>=2.5 in /usr/local/lib/python3.6/dist-packages (from requests<3.0.0,>=2.13.0->spacy) (2.9)\n",
            "Requirement already satisfied, skipping upgrade: chardet<4,>=3.0.2 in /usr/local/lib/python3.6/dist-packages (from requests<3.0.0,>=2.13.0->spacy) (3.0.4)\n",
            "Requirement already satisfied, skipping upgrade: certifi>=2017.4.17 in /usr/local/lib/python3.6/dist-packages (from requests<3.0.0,>=2.13.0->spacy) (2020.4.5.1)\n",
            "Requirement already satisfied, skipping upgrade: urllib3!=1.25.0,!=1.25.1,<1.26,>=1.21.1 in /usr/local/lib/python3.6/dist-packages (from requests<3.0.0,>=2.13.0->spacy) (1.24.3)\n",
            "Requirement already satisfied, skipping upgrade: importlib-metadata>=0.20; python_version < \"3.8\" in /usr/local/lib/python3.6/dist-packages (from catalogue<1.1.0,>=0.0.7->spacy) (1.6.0)\n",
            "Requirement already satisfied, skipping upgrade: zipp>=0.5 in /usr/local/lib/python3.6/dist-packages (from importlib-metadata>=0.20; python_version < \"3.8\"->catalogue<1.1.0,>=0.0.7->spacy) (3.1.0)\n",
            "Total matches found: 5\n",
            "Match found: beautiful design\n",
            "Match found: smart search\n",
            "Match found: automatic labels\n",
            "Match found: optional voice\n",
            "Match found: optional voice responses\n"
          ],
          "name": "stdout"
        }
      ]
    },
    {
      "cell_type": "markdown",
      "metadata": {
        "id": "6eNGE2jxtKoO",
        "colab_type": "text"
      },
      "source": [
        "['Measles (incubation period of 7-18 days), mumps (incubation period of 12-25 days), rubella (incubation period of 14-23 days), and varicella (incubation period of 10-21 days) are relevant examples.',\n",
        " 'Measles (incubation period of 7-18 days), mumps (incubation period of 12-25 days), rubella (incubation period of 14-23 days), and varicella (incubation period of 10-21 days) are relevant examples.',\n",
        " 'The average incubation period is 5-6 days with the longest incubation period of 14 days.',\n",
        " 'The average incubation period is 5-6 days with the longest incubation period of 14 days.',\n",
        " 'Estimating SARS Incubation Period',\n",
        " '\\nTransmission and Incubation period\\n',\n",
        " 'The incubation period ( S1 ).',\n",
        " 'The incubation period ( S1 ).',\n",
        " '\\nTransmission and Incubation period\\n',\n",
        " '\\nIncubation period and pathogenesis.',\n",
        " 'From our definition of incubation period, his incubation period will be 28 days, which is surprisingly high.',\n",
        " 'From our definition of incubation period, his incubation period will be 28 days, which is surprisingly high.',\n",
        " \"54 The maximum incubation period is less clear, with a number of reports of incubation periods exceeding WHO's maximum incubation period of 10 days.\",\n",
        " 'The theoretical modeling of incubation period further illustrates that the incubation period may follow the logarithmic normal distribution.',\n",
        " 'The theoretical modeling of incubation period further illustrates that the incubation period may follow the logarithmic normal distribution.',\n",
        " 'Incubation period: 2–6 weeks.',\n",
        " 'Incubation period: 3–5 days.',\n",
        " 'Incubation period: 14–21 days.',\n",
        " 'The incubation period may vary.',\n",
        " '$# \" \" to represent its incubation period.',\n",
        " 'Incubation period: 14–21 days.',\n",
        " 'Incubation period is several weeks.',\n",
        " 'Incubation period: 2–6 weeks.',\n",
        " 'Incubation period: 3–5 days.',\n",
        " 'Incubation period: 14–21 days.',\n",
        " 'Incubation period is several weeks.',\n",
        " '$# \" \" to represent its incubation period.',\n",
        " 'The incubation period may vary.',\n",
        " 'To theoretically model the incubation period, we suppose the incubation period τ follows the logarithm normal distribution [16, 33] :',\n",
        " 'The incubation period for disease ranges from 10 to 21 days, with an average incubation period of 2 weeks.',\n",
        " 'The incubation period for disease ranges from 10 to 21 days, with an average incubation period of 2 weeks.',\n",
        " 'To theoretically model the incubation period, we suppose the incubation period τ follows the logarithm normal distribution [16, 33] :',\n",
        " 'On PubMed we searched for the words “incubation”, “period”, and the virus name, on Google Scholar we searched for the phrases “incubation period of [virus name]” and “incubation period for [virus name]”, and on ISI Web of Knowledge we searched for “incubation period” and the virus name [20].',\n",
        " 'On PubMed we searched for the words “incubation”, “period”, and the virus name, on Google Scholar we searched for the phrases “incubation period of [virus name]” and “incubation period for [virus name]”, and on ISI Web of Knowledge we searched for “incubation period” and the virus name [20].',\n",
        " 'After the extrinsic incubation period (EIP',\n",
        " 'Incubation period is 2–21 days.',\n",
        " 'Incubation period of 7–14 days.',\n",
        " 'The mean incubation period is −1 .',\n",
        " 'Furthermore, the extrinsic incubation period (EIP',\n",
        " 'The incubation period is quite variable.',\n",
        " 'The incubation period is 1e2 weeks.',\n",
        " 'The incubation period was 7À14 days.',\n",
        " 'The incubation period is 4À30 days.',\n",
        " 'The incubation period is 2À7 days.',\n",
        " '(6) What is the incubation period?',\n",
        " 'Incubation period is 2-8 days.',\n",
        " 'The incubation period is relatively long.',\n",
        " 'The median incubation period for TBE',\n",
        " 'The maximum incubation period is unclear.',\n",
        " 'The incubation period is relatively long.',\n",
        " 'The median incubation period for TBE',\n",
        " 'The maximum incubation period is unclear.',\n",
        " 'The incubation period is quite variable.',\n",
        " 'There is a long incubation period.',\n",
        " 'The incubation period approxinlated 48 hours.',\n",
        " 'The incubation period approximated 48 hours.',\n",
        " 'Incubation period is 2-8 days.',\n",
        " 'Incubation period is 2–21 days.',\n",
        " '(6) What is the incubation period?',\n",
        " 'The incubation period is 1e2 weeks.',\n",
        " 'The incubation period was 7À14 days.',\n",
        " 'The incubation period is 4À30 days.',\n",
        " 'The incubation period is 2À7 days.',\n",
        " 'After the extrinsic incubation period (EIP',\n",
        " 'With mean infectious period (compartments → ) set as 3.9 days and mean incubation period ) set as 3.9 days and mean incubation period (compartments → ) set as 3.9 days and mean incubation period ) set as 5 days, we first use ordinary differential equations based on Markov processes to estimate the infection rate compartments → ) set as 3.9 days and mean incubation period',\n",
        " 'Documents included in full-text review were classified as containing (1) an incubation period estimate based on original data and/or analysis, (2) a sourced statement of incubation period (i.e., citation provided), (3) an unsourced statement of incubation period (i.e., no citation provided), or (4) no statement of incubation period.',\n",
        " 'Documents included in full-text review were classified as containing (1) an incubation period estimate based on original data and/or analysis, (2) a sourced statement of incubation period (i.e., citation provided), (3) an unsourced statement of incubation period (i.e., no citation provided), or (4) no statement of incubation period.',\n",
        " 'Thus, this strategy is more appropriate for diseases like smallpox (incubation period 12 days) than SARS (incubation period 2–7 days).',\n",
        " 'In contrast, the median seroconversion day post onset was longer for the short incubation period group than the long incubation period',\n",
        " 'Thus, this strategy is more appropriate for diseases like smallpox (incubation period 12 days) than SARS (incubation period 2–7 days).',\n",
        " 'In contrast, the median seroconversion day post onset was longer for the short incubation period group than the long incubation period',\n",
        " 'The period from onset to hospitalization, including the incubation period, was considered the contagion period.',\n",
        " 'The period from onset to hospitalization, including the incubation period, was considered the contagion period.',\n",
        " 'This period is commonly known as the incubation period of a disease.',\n",
        " 'This period is commonly known as the incubation period of a disease.',\n",
        " 'Our study initially demonstrated asymptomatic transmission of COVID-19 in the incubation period, especially in the last three days of incubation period, by estimating the incubation period with the use of accurate exposure history of confirmed cases.',\n",
        " 'Our study initially demonstrated asymptomatic transmission of COVID-19 in the incubation period, especially in the last three days of incubation period, by estimating the incubation period with the use of accurate exposure history of confirmed cases.',\n",
        " 'Before entering into details of historical works on the incubation period, the various uses of the incubation period distribution are briefly discussed.',\n",
        " 'The average incubation period for the RABV is 20–90 days with rare cases reported with an extended incubation period [200, 201].',\n",
        " 'Before entering into details of historical works on the incubation period, the various uses of the incubation period distribution are briefly discussed.',\n",
        " 'The average incubation period for the RABV is 20–90 days with rare cases reported with an extended incubation period [200, 201].',\n",
        " 'The average incubation period of author/funder.',\n",
        " 'Ebola has a highly variable incubation period.',\n",
        " 'The incubation period is 2–10 days.',\n",
        " 'The incubation period is 3–6 days.',\n",
        " 'b) Incubation period estimates and standard deviation.',\n",
        " 'The incubation period is 2–6 days.',\n",
        " 'The incubation period is 5–21 days.',\n",
        " 'The incubation period can be >50 days.',\n",
        " 'The incubation period is 4–42 days.',\n",
        " 'The incubation period is ~18 days [90].',\n",
        " 'A 2-week incubation period was deduced.',\n",
        " 'The incubation period lasts 1–3 days.',\n",
        " 'The incubation period is 2–7 days.',\n",
        " 'The mean incubation period was 5.2 days.',\n",
        " 'The median incubation period was 4 days.',\n",
        " 'The longest incubation period was 55 days.',\n",
        " 'The incubation period is 2-10 days.',\n",
        " 'The incubation period is 2-10 days.',\n",
        " 'The incubation period is 1-14 days.']"
      ]
    },
    {
      "cell_type": "code",
      "metadata": {
        "id": "IEooQwVIhp5c",
        "colab_type": "code",
        "colab": {}
      },
      "source": [
        "def getIncubation(sentence):\n",
        "  \n",
        "  extra_tok = 3 \n",
        "  relations = []\n",
        "\n",
        "  nlp = spacy.load(\"en_core_web_sm\")\n",
        "  matcher = Matcher(nlp.vocab)\n",
        "  doc = nlp(sentence)\n",
        "   \n",
        "  # Incubation period is about/approximately 14 days\n",
        "  pattern_term = [ {\"LOWER\": \"incubation\"},{\"LOWER\": \"period\"}, {\"POS\": \"AUX\"}, {\"OP\":\"?\"}, {\"POS\":\"NUM\"}]\n",
        "  pattern_numrange =  [ {\"POS\":\"NUM\"}, {\"TAG\":\"HYPH\"}, {\"POS\":\"NUM\"} ]\n",
        "\n",
        "  # Add the pattern to the matcher and apply the matcher to the doc\n",
        "  matcher.add(\"INCPER\", None, pattern_term)\n",
        "  matches = matcher(doc)\n",
        "  \n",
        "  # Iterate over the matches and print the span text\n",
        "  for match_id, start, end in matches:\n",
        "    r = \"\"\n",
        "    r += \"INCPER: \"\n",
        "    r += doc[start:end + extra_tok].text\n",
        "    r += \" ...\"\n",
        "    relations.append(r)\n",
        "  \n",
        "  matcher = Matcher(nlp.vocab)\n",
        "  doc = nlp(sentence)\n",
        "  matcher.add(\"INCNUM\", None, pattern_numrange)\n",
        "  matches = matcher(doc)\n",
        "  \n",
        "    # Iterate over the matches and print the span text\n",
        "  for match_id, start, end in matches:\n",
        "    print(\"<>\")\n",
        "    r = \"\"\n",
        "    r += \"INCPERSTART: \"\n",
        "    r += doc[start].text\n",
        "    relations.append(r)\n",
        "    r = \"\"\n",
        "    r += \"INCPEREND: \"\n",
        "    r += doc[end-1].text\n",
        "    relations.append(r)     \n",
        "  \n",
        "  return(relations)"
      ],
      "execution_count": 0,
      "outputs": []
    },
    {
      "cell_type": "code",
      "metadata": {
        "id": "KqJFyqkukww6",
        "colab_type": "code",
        "colab": {
          "base_uri": "https://localhost:8080/",
          "height": 54
        },
        "outputId": "6b602749-b6e4-4946-ad92-5d88c9b00363"
      },
      "source": [
        "sent =  \"Features incubation period is approximately 2-3 days a beautiful design, smart search, automatic labels and optional voice responses.\"\n",
        "      \n",
        "rel = getIncubation(sent)\n",
        "print(rel)"
      ],
      "execution_count": 154,
      "outputs": [
        {
          "output_type": "stream",
          "text": [
            "\n",
            "['INCPER: incubation period is approximately 2-3 days ...']\n"
          ],
          "name": "stdout"
        }
      ]
    },
    {
      "cell_type": "code",
      "metadata": {
        "id": "0wWB4oy48IZg",
        "colab_type": "code",
        "colab": {
          "base_uri": "https://localhost:8080/",
          "height": 72
        },
        "outputId": "595bb5bf-64f6-4f82-c8db-12f4119be3cd"
      },
      "source": [
        "nlp = spacy.load(\"en_core_web_sm\")\n",
        "matcher = Matcher(nlp.vocab)\n",
        "\n",
        "doc = nlp(\n",
        "    \"Features incubation period is approximately 2 a beautiful design, smart search, automatic \"\n",
        "    \"labels and optional voice responses.\"\n",
        ")\n",
        "\n",
        "# Write a pattern for adjective plus one or two nouns\n",
        "pattern1 = [ {\"LOWER\": \"incubation\"},{\"LOWER\": \"period\"}, {\"POS\": \"AUX\"}, {\"OP\":\"?\"}, {\"POS\":\"NUM\"}]\n",
        "#pattern2 = []\n",
        "\n",
        "# Add the pattern to the matcher and apply the matcher to the doc\n",
        "matcher.add(\"ADJ_NOUN_PATTERN\", None, pattern1)\n",
        "matches = matcher(doc)\n",
        "print(\"Total matches found:\", len(matches))\n",
        "\n",
        "# Iterate over the matches and print the span text\n",
        "for match_id, start, end in matches:\n",
        "    print(\"Match found:\", doc[start:end].text)\n",
        "print(matches)"
      ],
      "execution_count": 50,
      "outputs": [
        {
          "output_type": "stream",
          "text": [
            "Total matches found: 1\n",
            "Match found: incubation period is approximately 2\n",
            "[(5488211386492616699, 1, 6)]\n"
          ],
          "name": "stdout"
        }
      ]
    },
    {
      "cell_type": "code",
      "metadata": {
        "id": "gNKH5XAU9yT2",
        "colab_type": "code",
        "colab": {
          "base_uri": "https://localhost:8080/",
          "height": 72
        },
        "outputId": "7f4abd56-aa2c-46e6-d363-5bb4e9fb72dc"
      },
      "source": [
        "# Initialize with the shared vocab\n",
        "from spacy.matcher import Matcher\n",
        "matcher = Matcher(nlp.vocab)\n",
        "\n",
        "# Patterns are lists of dictionaries describing the tokens\n",
        "pattern = [{\"LEMMA\": \"love\", \"POS\": \"VERB\"}, {\"LOWER\": \"cats\"}]\n",
        "matcher.add(\"LOVE_CATS\", None, pattern)\n",
        "\n",
        "# Operators can specify how often a token should be matched\n",
        "pattern = [{\"TEXT\": \"very\", \"OP\": \"+\"}, {\"TEXT\": \"happy\"}]\n",
        "matcher.add(\"VERY_HAPPY\", None, pattern)\n",
        "\n",
        "# Calling matcher on doc returns list of (match_id, start, end) tuples\n",
        "doc = nlp(\"I love cats and I'm very very happy\")\n",
        "matches = matcher(doc)\n",
        "\n",
        "# Iterate over the matches\n",
        "for match_id, start, end in matcher(doc):\n",
        "    # Print pattern string name and text of matched span\n",
        "    print(doc.vocab.strings[match_id], doc[start:end].text)"
      ],
      "execution_count": 11,
      "outputs": [
        {
          "output_type": "stream",
          "text": [
            "LOVE_CATS love cats\n",
            "VERY_HAPPY very happy\n",
            "VERY_HAPPY very very happy\n"
          ],
          "name": "stdout"
        }
      ]
    },
    {
      "cell_type": "code",
      "metadata": {
        "id": "5fjiyQzqCQZf",
        "colab_type": "code",
        "colab": {
          "base_uri": "https://localhost:8080/",
          "height": 35
        },
        "outputId": "215a5c63-db08-4508-ae9c-741db27dfdc6"
      },
      "source": [
        "import json\n",
        "from spacy.lang.en import English\n",
        "\n",
        "COUNTRIES = [\"Czech Republic\", \"Ukraine\", \"Slovakia\", \"Poland\"]\n",
        "\n",
        "nlp = English()\n",
        "doc = nlp(\"Czech Republic may help Slovakia protect its airspace\")\n",
        "\n",
        "# Import the PhraseMatcher and initialize it\n",
        "from spacy.matcher import PhraseMatcher\n",
        "\n",
        "matcher = PhraseMatcher(nlp.vocab)\n",
        "\n",
        "# Create pattern Doc objects and add them to the matcher\n",
        "# This is the faster version of: [nlp(country) for country in COUNTRIES]\n",
        "patterns = list(nlp.pipe(COUNTRIES))\n",
        "matcher.add(\"COUNTRY\", None, *patterns)\n",
        "\n",
        "# Call the matcher on the test document and print the result\n",
        "matches = matcher(doc)\n",
        "print([doc[start:end] for match_id, start, end in matches])"
      ],
      "execution_count": 14,
      "outputs": [
        {
          "output_type": "stream",
          "text": [
            "[Czech Republic, Slovakia]\n"
          ],
          "name": "stdout"
        }
      ]
    },
    {
      "cell_type": "code",
      "metadata": {
        "id": "B-6qRe8fCQIg",
        "colab_type": "code",
        "colab": {}
      },
      "source": [
        "TEXT = [\n",
        "        \"After the Cold War, the UN saw a radical expansion in its peacekeeping duties, taking on more missions in ten years than it had in the previous four decades.\",\n",
        "        \"Between 1988 and 2000, the number of adopted Security Council resolutions more than doubled, and the peacekeeping budget increased more than tenfold.\",\n",
        "        \"The UN negotiated an end to the Salvadoran Civil War, launched a successful peacekeeping mission in Namibia, and oversaw democratic elections in post-apartheid South Africa and post-Khmer Rouge Cambodia.\",\n",
        "        \"In 1991, the UN authorized a US-led coalition that repulsed the Iraqi invasion of Kuwait.\",\n",
        "        \"Brian Urquhart, Under-Secretary-General from 1971 to 1985, later described the hopes raised by these successes as a false renaissance for the organization, given the more troubled missions that followed.\",\n",
        "        \"Though the UN Charter had been written primarily to prevent aggression by one nation against another, in the early 1990s the UN faced a number of simultaneous, serious crises within nations such as Somalia, Haiti, Mozambique, and the former Yugoslavia.\",\n",
        "        \"The UN mission in Somalia was widely viewed as a failure after the US withdrawal following casualties in the Battle of Mogadishu, and the UN mission to Bosnia faced worldwide ridicule for its indecisive and confused mission in the face of ethnic cleansing.\",\n",
        "        \"In 1994, the UN Assistance Mission for Rwanda failed to intervene in the Rwandan genocide amid indecision in the Security Council.\",\n",
        "        \"Beginning in the last decades of the Cold War, American and European critics of the UN condemned the organization for perceived mismanagement and corruption.\",\n",
        "        \"In 1984, the US President, Ronald Reagan, withdrew his nation's funding from UNESCO (the United Nations Educational, Scientific and Cultural Organization, founded 1946) over allegations of mismanagement, followed by Britain and Singapore.\",\n",
        "        \"Boutros Boutros-Ghali, Secretary-General from 1992 to 1996, initiated a reform of the Secretariat, reducing the size of the organization somewhat.\",\n",
        "        \"His successor, Kofi Annan (1997–2006), initiated further management reforms in the face of threats from the United States to withhold its UN dues.\",\n",
        "        \"In the late 1990s and 2000s, international interventions authorized by the UN took a wider variety of forms.\",\n",
        "        \"The UN mission in the Sierra Leone Civil War of 1991–2002 was supplemented by British Royal Marines, and the invasion of Afghanistan in 2001 was overseen by NATO.\",\n",
        "        \"In 2003, the United States invaded Iraq despite failing to pass a UN Security Council resolution for authorization, prompting a new round of questioning of the organization's effectiveness.\",\n",
        "        \"Under the eighth Secretary-General, Ban Ki-moon, the UN has intervened with peacekeepers in crises including the War in Darfur in Sudan and the Kivu conflict in the Democratic Republic of Congo and sent observers and chemical weapons inspectors to the Syrian Civil War.\",\n",
        "        \"In 2013, an internal review of UN actions in the final battles of the Sri Lankan Civil War in 2009 concluded that the organization had suffered systemic failure.\",\n",
        "        \"One hundred and one UN personnel died in the 2010 Haiti earthquake, the worst loss of life in the organization's history.\",\n",
        "        \"The Millennium Summit was held in 2000 to discuss the UN's role in the 21st century.\",\n",
        "        \"The three day meeting was the largest gathering of world leaders in history, and culminated in the adoption by all member states of the Millennium Development Goals (MDGs), a commitment to achieve international development in areas such as poverty reduction, gender equality, and public health.\",\n",
        "        \"Progress towards these goals, which were to be met by 2015, was ultimately uneven.\",\n",
        "        \"The 2005 World Summit reaffirmed the UN's focus on promoting development, peacekeeping, human rights, and global security.\",\n",
        "        \"The Sustainable Development Goals were launched in 2015 to succeed the Millennium Development Goals.\",\n",
        "        \"In addition to addressing global challenges, the UN has sought to improve its accountability and democratic legitimacy by engaging more with civil society and fostering a global constituency.\"\n",
        "        \"In an effort to enhance transparency, in 2016 the organization held its first public debate between candidates for Secretary-General.\",\n",
        "        \"On 1 January 2017, Portuguese diplomat António Guterres, who previously served as UN High Commissioner for Refugees, became the ninth Secretary-General.\", \n",
        "        \"Guterres has highlighted several key goals for his administration, including an emphasis on diplomacy for preventing conflicts, more effective peacekeeping efforts, and streamlining the organization to be more responsive and versatile to global needs.\"\n",
        "]\n",
        "\n",
        "COUNTRIES = [\n",
        "             'Afghanistan', 'Åland Islands', 'Albania', 'Algeria', 'American Samoa', 'Andorra', 'Angola', 'Anguilla', 'Antarctica', 'Antigua and Barbuda', 'Argentina', 'Armenia', 'Aruba', 'Australia', 'Austria', 'Azerbaijan', \n",
        "             'Bahamas', 'Bahrain', 'Bangladesh', 'Barbados', 'Belarus', 'Belgium', 'Belize', 'Benin', 'Bermuda', 'Bhutan', 'Bolivia (Plurinational State of)', 'Bonaire, Sint Eustatius and Saba', 'Bosnia and Herzegovina', 'Botswana', 'Bouvet Island', 'Brazil', 'British Indian Ocean Territory', \n",
        "             'United States Minor Outlying Islands', 'Virgin Islands (British)', 'Virgin Islands (U.S.)','Brunei Darussalam', 'Bulgaria', 'Burkina Faso', 'Burundi', \n",
        "             'Cambodia', 'Cameroon', 'Canada', 'Cabo Verde', 'Cayman Islands', 'Central African Republic', 'Chad', 'Chile', 'China', 'Christmas Island', 'Cocos (Keeling) Islands', 'Colombia', 'Comoros', 'Congo', 'Congo (Democratic Republic of the)', 'Cook Islands', 'Costa Rica', 'Croatia', 'Cuba', 'Curaçao', 'Cyprus', 'Czech Republic', \n",
        "             'Denmark', 'Djibouti', 'Dominica', 'Dominican Republic', 'Ecuador', 'Egypt', 'El Salvador', 'Equatorial Guinea', 'Eritrea', 'Estonia', 'Ethiopia', \n",
        "             'Falkland Islands (Malvinas)', 'Faroe Islands', 'Fiji', 'Finland', 'France', 'French Guiana', 'French Polynesia', 'French Southern Territories', \n",
        "             'Gabon', 'Gambia', 'Georgia', 'Germany', 'Ghana', 'Gibraltar', 'Greece', 'Greenland', 'Grenada', 'Guadeloupe', 'Guam', 'Guatemala', 'Guernsey', 'Guinea', 'Guinea-Bissau', 'Guyana', \n",
        "             'Haiti', 'Heard Island and McDonald Islands', 'Holy See', 'Honduras', 'Hong Kong', 'Hungary', 'Iceland', 'India', 'Indonesia', \"Côte d'Ivoire\", 'Iran (Islamic Republic of)', 'Iraq', 'Ireland', 'Isle of Man', 'Israel', 'Italy', \n",
        "             'Jamaica', 'Japan', 'Jersey', 'Jordan', 'Kazakhstan', 'Kenya', 'Kiribati', 'Kuwait', 'Kyrgyzstan', \n",
        "             \"Lao People's Democratic Republic\", 'Latvia', 'Lebanon', 'Lesotho', 'Liberia', 'Libya', 'Liechtenstein', 'Lithuania', 'Luxembourg', \n",
        "             'Macao', 'Macedonia (the former Yugoslav Republic of)', 'Madagascar', 'Malawi', 'Malaysia', 'Maldives', 'Mali', 'Malta', 'Marshall Islands', 'Martinique', 'Mauritania', 'Mauritius', 'Mayotte', 'Mexico', 'Micronesia (Federated States of)', 'Moldova (Republic of)', 'Monaco', 'Mongolia', 'Montenegro', 'Montserrat', 'Morocco', 'Mozambique', 'Myanmar', \n",
        "             'Namibia', 'Nauru', 'Nepal', 'Netherlands', 'New Caledonia', 'New Zealand', 'Nicaragua', 'Niger', 'Nigeria', 'Niue', 'Norfolk Island', \n",
        "             \"Korea (Democratic People's Republic of)\", 'Northern Mariana Islands', 'Norway', 'Oman', \n",
        "             'Pakistan', 'Palau', 'Palestine, State of', 'Panama', 'Papua New Guinea', 'Paraguay', 'Peru', 'Philippines', 'Pitcairn', 'Poland', 'Portugal', 'Puerto Rico', 'Qatar', \n",
        "             'Republic of Kosovo', 'Réunion', 'Romania', 'Russian Federation', 'Rwanda', \n",
        "             'Saint Barthélemy', 'Saint Helena, Ascension and Tristan da Cunha', 'Saint Kitts and Nevis', 'Saint Lucia', 'Saint Martin (French part)', 'Saint Pierre and Miquelon', 'Saint Vincent and the Grenadines', 'Samoa', 'San Marino', 'Sao Tome and Principe', 'Saudi Arabia', 'Senegal', 'Serbia', 'Seychelles', 'Sierra Leone', 'Singapore', 'Sint Maarten (Dutch part)', 'Slovakia', 'Slovenia', 'Solomon Islands', 'Somalia', 'South Africa', 'South Georgia and the South Sandwich Islands', 'Korea (Republic of)', 'South Sudan', 'Spain', 'Sri Lanka', 'Sudan', 'Suriname', 'Svalbard and Jan Mayen', 'Swaziland', 'Sweden', 'Switzerland', 'Syrian Arab Republic', \n",
        "             'Taiwan', 'Tajikistan', 'Tanzania, United Republic of', 'Thailand', 'Timor-Leste', 'Togo', 'Tokelau', 'Tonga', 'Trinidad and Tobago', 'Tunisia', 'Turkey', 'Turkmenistan', 'Turks and Caicos Islands', 'Tuvalu', \n",
        "             'Uganda', 'Ukraine', 'United Arab Emirates', 'United Kingdom of Great Britain and Northern Ireland', 'United States of America', 'Uruguay', 'Uzbekistan', 'Vanuatu', 'Venezuela (Bolivarian Republic of)', 'Viet Nam', 'Wallis and Futuna', 'Western Sahara', 'Yemen', 'Zambia', 'Zimbabwe']"
      ],
      "execution_count": 0,
      "outputs": []
    },
    {
      "cell_type": "code",
      "metadata": {
        "id": "KEnJfD3QH70Q",
        "colab_type": "code",
        "colab": {
          "base_uri": "https://localhost:8080/",
          "height": 329
        },
        "outputId": "6d254b91-41aa-46df-9b14-4dfa10635b6b"
      },
      "source": [
        "import spacy\n",
        "from spacy.matcher import PhraseMatcher\n",
        "from spacy.tokens import Span\n",
        "\n",
        "nlp = spacy.load(\"en_core_web_sm\")\n",
        "matcher = PhraseMatcher(nlp.vocab)\n",
        "patterns = list(nlp.pipe(COUNTRIES))\n",
        "matcher.add(\"COUNTRY\", None, *patterns)\n",
        "\n",
        "# Create a doc and reset existing entities\n",
        "for t in TEXT:\n",
        "  doc = nlp(t)\n",
        "\n",
        "  doc.ents = []\n",
        "\n",
        "  # Iterate over the matches\n",
        "  for match_id, start, end in matcher(doc):\n",
        "    # Create a Span with the label for \"GPE\"\n",
        "    span = Span(doc, start, end, label=\"GPE\")\n",
        "\n",
        "    # Overwrite the doc.ents and add the span\n",
        "    doc.ents = list(doc.ents) + [span]\n",
        "\n",
        "    # Get the span's root head token\n",
        "    span_root_head = span.root.head\n",
        "    # Print the text of the span root's head token and the span text\n",
        "    print(span_root_head.text, \"-->\", span.text)\n",
        "\n",
        "# Print the entities in the document\n",
        "print([(ent.text, ent.label_) for ent in doc.ents if ent.label_ == \"GPE\"])"
      ],
      "execution_count": 20,
      "outputs": [
        {
          "output_type": "stream",
          "text": [
            "in --> Namibia\n",
            "in --> South Africa\n",
            "Africa --> Cambodia\n",
            "of --> Kuwait\n",
            "as --> Somalia\n",
            "Somalia --> Haiti\n",
            "Haiti --> Mozambique\n",
            "in --> Somalia\n",
            "for --> Rwanda\n",
            "Britain --> Singapore\n",
            "War --> Sierra Leone\n",
            "of --> Afghanistan\n",
            "invaded --> Iraq\n",
            "in --> Sudan\n",
            "of --> Congo\n",
            "earthquake --> Haiti\n",
            "[]\n"
          ],
          "name": "stdout"
        }
      ]
    },
    {
      "cell_type": "code",
      "metadata": {
        "id": "aoLviS1TLzhg",
        "colab_type": "code",
        "colab": {
          "base_uri": "https://localhost:8080/",
          "height": 72
        },
        "outputId": "338d1b1a-25cf-4995-8296-8c4109e9922d"
      },
      "source": [
        "import spacy\n",
        "from spacy.matcher import PhraseMatcher\n",
        "from spacy.tokens import Span\n",
        "\n",
        "nlp = spacy.load(\"en_core_web_sm\")\n",
        "\n",
        "ties = [\"transmission\", \"incubation period\", \"incubation\"]\n",
        "ties_patterns = list(nlp.pipe(ties))\n",
        "print(\"TIES patterns:\", ties_patterns)\n",
        "matcher = PhraseMatcher(nlp.vocab)\n",
        "matcher.add(\"TIES\", None, *ties_patterns)\n",
        "\n",
        "# Define the custom component\n",
        "def TIES_component(doc):\n",
        "    # Apply the matcher to the doc\n",
        "    matches = matcher(doc)\n",
        "    # Create a Span for each match and assign the label \"TIES\"\n",
        "    spans = [Span(doc, start, end, label=\"TIES\") for match_id, start, end in matches]\n",
        "    # Overwrite the doc.ents with the matched spans\n",
        "    doc.ents = spans\n",
        "    return doc\n",
        "\n",
        "\n",
        "# Add the component to the pipeline after the \"ner\" component\n",
        "nlp.add_pipe(TIES_component, after=\"ner\")\n",
        "print(nlp.pipe_names)\n",
        "\n",
        "# Process the text and print the text and label for the doc.ents\n",
        "doc = nlp(\"I have a cat and a Golden incubation Retriever. i\")\n",
        "print([(ent.text, ent.label_) for ent in doc.ents])"
      ],
      "execution_count": 35,
      "outputs": [
        {
          "output_type": "stream",
          "text": [
            "TIES patterns: [transmission, incubation period, incubation]\n",
            "['tagger', 'parser', 'ner', 'TIES_component']\n",
            "[('incubation', 'TIES')]\n"
          ],
          "name": "stdout"
        }
      ]
    },
    {
      "cell_type": "code",
      "metadata": {
        "id": "1mI3vQZfMOtv",
        "colab_type": "code",
        "colab": {
          "base_uri": "https://localhost:8080/",
          "height": 495
        },
        "outputId": "ae57486e-5e3d-4495-c3dd-cd31a5d07f85"
      },
      "source": [
        "for doc in nlp.pipe(TEXT):\n",
        "    print([token.text for token in doc if token.pos_ == \"ADJ\"])"
      ],
      "execution_count": 22,
      "outputs": [
        {
          "output_type": "stream",
          "text": [
            "['radical', 'more', 'previous']\n",
            "[]\n",
            "['Salvadoran', 'successful', 'democratic', 'post', '-', 'apartheid', 'post', '-']\n",
            "['Iraqi']\n",
            "['false', 'troubled']\n",
            "['early', 'simultaneous', 'serious', 'such', 'former']\n",
            "['worldwide', 'indecisive', 'confused', 'ethnic']\n",
            "['Rwandan']\n",
            "['last', 'American', 'European']\n",
            "[]\n",
            "[]\n",
            "['further']\n",
            "['late', 'international', 'wider']\n",
            "[]\n",
            "['new']\n",
            "['eighth', 'chemical', 'Syrian']\n",
            "['internal', 'final', 'systemic']\n",
            "['worst']\n",
            "['21st']\n",
            "['largest', 'international', 'such', 'public']\n",
            "['uneven']\n",
            "['human', 'global']\n",
            "[]\n",
            "['global', 'democratic', 'more', 'civil', 'global', 'first', 'public']\n",
            "['Portuguese', 'ninth']\n",
            "['several', 'key', 'effective', 'responsive', 'versatile', 'global']\n"
          ],
          "name": "stdout"
        }
      ]
    },
    {
      "cell_type": "code",
      "metadata": {
        "id": "16B--0T7O-p7",
        "colab_type": "code",
        "colab": {
          "base_uri": "https://localhost:8080/",
          "height": 35
        },
        "outputId": "363867b4-1cd9-4a9d-e82b-6ff12533eebd"
      },
      "source": [
        "docs = list(nlp.pipe(TEXT))\n",
        "entities = [doc.ents for doc in docs]\n",
        "print(*entities)"
      ],
      "execution_count": 23,
      "outputs": [
        {
          "output_type": "stream",
          "text": [
            "() () () () () () () () () () () () () () () () () () () () () () () () () ()\n"
          ],
          "name": "stdout"
        }
      ]
    },
    {
      "cell_type": "code",
      "metadata": {
        "id": "DagJntrFPqDJ",
        "colab_type": "code",
        "colab": {}
      },
      "source": [
        "DATA = [\" \""
      ],
      "execution_count": 0,
      "outputs": []
    }
  ]
}