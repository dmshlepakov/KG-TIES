{
  "nbformat": 4,
  "nbformat_minor": 0,
  "metadata": {
    "colab": {
      "name": "Create Knowledge Graph.ipynb",
      "provenance": [],
      "collapsed_sections": [
        "6r4A2_3PSUJ5"
      ],
      "authorship_tag": "ABX9TyPic2TxnmDXgUTsfiLFVJqf",
      "include_colab_link": true
    },
    "kernelspec": {
      "name": "python3",
      "display_name": "Python 3"
    },
    "widgets": {
      "application/vnd.jupyter.widget-state+json": {
        "dd5bc38065b24c82937d430ac34a5078": {
          "model_module": "@jupyter-widgets/controls",
          "model_name": "HBoxModel",
          "state": {
            "_view_name": "HBoxView",
            "_dom_classes": [],
            "_model_name": "HBoxModel",
            "_view_module": "@jupyter-widgets/controls",
            "_model_module_version": "1.5.0",
            "_view_count": null,
            "_view_module_version": "1.5.0",
            "box_style": "",
            "layout": "IPY_MODEL_86774b53c56944aab97948e3c8f250ea",
            "_model_module": "@jupyter-widgets/controls",
            "children": [
              "IPY_MODEL_de03b26c260b4e9a8e312cddccdd4f8f",
              "IPY_MODEL_c4311ce2219a42b28ce26fd801fee2ff"
            ]
          }
        },
        "86774b53c56944aab97948e3c8f250ea": {
          "model_module": "@jupyter-widgets/base",
          "model_name": "LayoutModel",
          "state": {
            "_view_name": "LayoutView",
            "grid_template_rows": null,
            "right": null,
            "justify_content": null,
            "_view_module": "@jupyter-widgets/base",
            "overflow": null,
            "_model_module_version": "1.2.0",
            "_view_count": null,
            "flex_flow": null,
            "width": null,
            "min_width": null,
            "border": null,
            "align_items": null,
            "bottom": null,
            "_model_module": "@jupyter-widgets/base",
            "top": null,
            "grid_column": null,
            "overflow_y": null,
            "overflow_x": null,
            "grid_auto_flow": null,
            "grid_area": null,
            "grid_template_columns": null,
            "flex": null,
            "_model_name": "LayoutModel",
            "justify_items": null,
            "grid_row": null,
            "max_height": null,
            "align_content": null,
            "visibility": null,
            "align_self": null,
            "height": null,
            "min_height": null,
            "padding": null,
            "grid_auto_rows": null,
            "grid_gap": null,
            "max_width": null,
            "order": null,
            "_view_module_version": "1.2.0",
            "grid_template_areas": null,
            "object_position": null,
            "object_fit": null,
            "grid_auto_columns": null,
            "margin": null,
            "display": null,
            "left": null
          }
        },
        "de03b26c260b4e9a8e312cddccdd4f8f": {
          "model_module": "@jupyter-widgets/controls",
          "model_name": "FloatProgressModel",
          "state": {
            "_view_name": "ProgressView",
            "style": "IPY_MODEL_2b3eb7c214ea45a6bd2c0af9e74bc1ab",
            "_dom_classes": [],
            "description": "100%",
            "_model_name": "FloatProgressModel",
            "bar_style": "success",
            "max": 170,
            "_view_module": "@jupyter-widgets/controls",
            "_model_module_version": "1.5.0",
            "value": 170,
            "_view_count": null,
            "_view_module_version": "1.5.0",
            "orientation": "horizontal",
            "min": 0,
            "description_tooltip": null,
            "_model_module": "@jupyter-widgets/controls",
            "layout": "IPY_MODEL_3de1a43e3c7447d397bf9a26fd1d80b7"
          }
        },
        "c4311ce2219a42b28ce26fd801fee2ff": {
          "model_module": "@jupyter-widgets/controls",
          "model_name": "HTMLModel",
          "state": {
            "_view_name": "HTMLView",
            "style": "IPY_MODEL_7ca778c4aaaf41988878118ffec2c551",
            "_dom_classes": [],
            "description": "",
            "_model_name": "HTMLModel",
            "placeholder": "​",
            "_view_module": "@jupyter-widgets/controls",
            "_model_module_version": "1.5.0",
            "value": " 170/170 [00:34&lt;00:00,  4.96it/s]",
            "_view_count": null,
            "_view_module_version": "1.5.0",
            "description_tooltip": null,
            "_model_module": "@jupyter-widgets/controls",
            "layout": "IPY_MODEL_caef836ddfff49d9b6a5c4a776e307f1"
          }
        },
        "2b3eb7c214ea45a6bd2c0af9e74bc1ab": {
          "model_module": "@jupyter-widgets/controls",
          "model_name": "ProgressStyleModel",
          "state": {
            "_view_name": "StyleView",
            "_model_name": "ProgressStyleModel",
            "description_width": "initial",
            "_view_module": "@jupyter-widgets/base",
            "_model_module_version": "1.5.0",
            "_view_count": null,
            "_view_module_version": "1.2.0",
            "bar_color": null,
            "_model_module": "@jupyter-widgets/controls"
          }
        },
        "3de1a43e3c7447d397bf9a26fd1d80b7": {
          "model_module": "@jupyter-widgets/base",
          "model_name": "LayoutModel",
          "state": {
            "_view_name": "LayoutView",
            "grid_template_rows": null,
            "right": null,
            "justify_content": null,
            "_view_module": "@jupyter-widgets/base",
            "overflow": null,
            "_model_module_version": "1.2.0",
            "_view_count": null,
            "flex_flow": null,
            "width": null,
            "min_width": null,
            "border": null,
            "align_items": null,
            "bottom": null,
            "_model_module": "@jupyter-widgets/base",
            "top": null,
            "grid_column": null,
            "overflow_y": null,
            "overflow_x": null,
            "grid_auto_flow": null,
            "grid_area": null,
            "grid_template_columns": null,
            "flex": null,
            "_model_name": "LayoutModel",
            "justify_items": null,
            "grid_row": null,
            "max_height": null,
            "align_content": null,
            "visibility": null,
            "align_self": null,
            "height": null,
            "min_height": null,
            "padding": null,
            "grid_auto_rows": null,
            "grid_gap": null,
            "max_width": null,
            "order": null,
            "_view_module_version": "1.2.0",
            "grid_template_areas": null,
            "object_position": null,
            "object_fit": null,
            "grid_auto_columns": null,
            "margin": null,
            "display": null,
            "left": null
          }
        },
        "7ca778c4aaaf41988878118ffec2c551": {
          "model_module": "@jupyter-widgets/controls",
          "model_name": "DescriptionStyleModel",
          "state": {
            "_view_name": "StyleView",
            "_model_name": "DescriptionStyleModel",
            "description_width": "",
            "_view_module": "@jupyter-widgets/base",
            "_model_module_version": "1.5.0",
            "_view_count": null,
            "_view_module_version": "1.2.0",
            "_model_module": "@jupyter-widgets/controls"
          }
        },
        "caef836ddfff49d9b6a5c4a776e307f1": {
          "model_module": "@jupyter-widgets/base",
          "model_name": "LayoutModel",
          "state": {
            "_view_name": "LayoutView",
            "grid_template_rows": null,
            "right": null,
            "justify_content": null,
            "_view_module": "@jupyter-widgets/base",
            "overflow": null,
            "_model_module_version": "1.2.0",
            "_view_count": null,
            "flex_flow": null,
            "width": null,
            "min_width": null,
            "border": null,
            "align_items": null,
            "bottom": null,
            "_model_module": "@jupyter-widgets/base",
            "top": null,
            "grid_column": null,
            "overflow_y": null,
            "overflow_x": null,
            "grid_auto_flow": null,
            "grid_area": null,
            "grid_template_columns": null,
            "flex": null,
            "_model_name": "LayoutModel",
            "justify_items": null,
            "grid_row": null,
            "max_height": null,
            "align_content": null,
            "visibility": null,
            "align_self": null,
            "height": null,
            "min_height": null,
            "padding": null,
            "grid_auto_rows": null,
            "grid_gap": null,
            "max_width": null,
            "order": null,
            "_view_module_version": "1.2.0",
            "grid_template_areas": null,
            "object_position": null,
            "object_fit": null,
            "grid_auto_columns": null,
            "margin": null,
            "display": null,
            "left": null
          }
        },
        "c064089eff394b40b590b1b22e61e05d": {
          "model_module": "@jupyter-widgets/controls",
          "model_name": "HBoxModel",
          "state": {
            "_view_name": "HBoxView",
            "_dom_classes": [],
            "_model_name": "HBoxModel",
            "_view_module": "@jupyter-widgets/controls",
            "_model_module_version": "1.5.0",
            "_view_count": null,
            "_view_module_version": "1.5.0",
            "box_style": "",
            "layout": "IPY_MODEL_81031160a2504b06becffeffb1f779f2",
            "_model_module": "@jupyter-widgets/controls",
            "children": [
              "IPY_MODEL_bce248b5b9fc49628b3a2ca8a617d0a8",
              "IPY_MODEL_a71f3c109e2248098d72f07b9fa1ab87"
            ]
          }
        },
        "81031160a2504b06becffeffb1f779f2": {
          "model_module": "@jupyter-widgets/base",
          "model_name": "LayoutModel",
          "state": {
            "_view_name": "LayoutView",
            "grid_template_rows": null,
            "right": null,
            "justify_content": null,
            "_view_module": "@jupyter-widgets/base",
            "overflow": null,
            "_model_module_version": "1.2.0",
            "_view_count": null,
            "flex_flow": null,
            "width": null,
            "min_width": null,
            "border": null,
            "align_items": null,
            "bottom": null,
            "_model_module": "@jupyter-widgets/base",
            "top": null,
            "grid_column": null,
            "overflow_y": null,
            "overflow_x": null,
            "grid_auto_flow": null,
            "grid_area": null,
            "grid_template_columns": null,
            "flex": null,
            "_model_name": "LayoutModel",
            "justify_items": null,
            "grid_row": null,
            "max_height": null,
            "align_content": null,
            "visibility": null,
            "align_self": null,
            "height": null,
            "min_height": null,
            "padding": null,
            "grid_auto_rows": null,
            "grid_gap": null,
            "max_width": null,
            "order": null,
            "_view_module_version": "1.2.0",
            "grid_template_areas": null,
            "object_position": null,
            "object_fit": null,
            "grid_auto_columns": null,
            "margin": null,
            "display": null,
            "left": null
          }
        },
        "bce248b5b9fc49628b3a2ca8a617d0a8": {
          "model_module": "@jupyter-widgets/controls",
          "model_name": "FloatProgressModel",
          "state": {
            "_view_name": "ProgressView",
            "style": "IPY_MODEL_11f96f15acc14272bd0b85d81187d7ee",
            "_dom_classes": [],
            "description": "100%",
            "_model_name": "FloatProgressModel",
            "bar_style": "success",
            "max": 170,
            "_view_module": "@jupyter-widgets/controls",
            "_model_module_version": "1.5.0",
            "value": 170,
            "_view_count": null,
            "_view_module_version": "1.5.0",
            "orientation": "horizontal",
            "min": 0,
            "description_tooltip": null,
            "_model_module": "@jupyter-widgets/controls",
            "layout": "IPY_MODEL_1c91f1ec96114f1eb3b8bd5ee96c6907"
          }
        },
        "a71f3c109e2248098d72f07b9fa1ab87": {
          "model_module": "@jupyter-widgets/controls",
          "model_name": "HTMLModel",
          "state": {
            "_view_name": "HTMLView",
            "style": "IPY_MODEL_d38f741ab0e149bb850f3b128cd5a509",
            "_dom_classes": [],
            "description": "",
            "_model_name": "HTMLModel",
            "placeholder": "​",
            "_view_module": "@jupyter-widgets/controls",
            "_model_module_version": "1.5.0",
            "value": " 170/170 [00:28&lt;00:00,  6.02it/s]",
            "_view_count": null,
            "_view_module_version": "1.5.0",
            "description_tooltip": null,
            "_model_module": "@jupyter-widgets/controls",
            "layout": "IPY_MODEL_6d6ac0e231a54312b245e8c23381347f"
          }
        },
        "11f96f15acc14272bd0b85d81187d7ee": {
          "model_module": "@jupyter-widgets/controls",
          "model_name": "ProgressStyleModel",
          "state": {
            "_view_name": "StyleView",
            "_model_name": "ProgressStyleModel",
            "description_width": "initial",
            "_view_module": "@jupyter-widgets/base",
            "_model_module_version": "1.5.0",
            "_view_count": null,
            "_view_module_version": "1.2.0",
            "bar_color": null,
            "_model_module": "@jupyter-widgets/controls"
          }
        },
        "1c91f1ec96114f1eb3b8bd5ee96c6907": {
          "model_module": "@jupyter-widgets/base",
          "model_name": "LayoutModel",
          "state": {
            "_view_name": "LayoutView",
            "grid_template_rows": null,
            "right": null,
            "justify_content": null,
            "_view_module": "@jupyter-widgets/base",
            "overflow": null,
            "_model_module_version": "1.2.0",
            "_view_count": null,
            "flex_flow": null,
            "width": null,
            "min_width": null,
            "border": null,
            "align_items": null,
            "bottom": null,
            "_model_module": "@jupyter-widgets/base",
            "top": null,
            "grid_column": null,
            "overflow_y": null,
            "overflow_x": null,
            "grid_auto_flow": null,
            "grid_area": null,
            "grid_template_columns": null,
            "flex": null,
            "_model_name": "LayoutModel",
            "justify_items": null,
            "grid_row": null,
            "max_height": null,
            "align_content": null,
            "visibility": null,
            "align_self": null,
            "height": null,
            "min_height": null,
            "padding": null,
            "grid_auto_rows": null,
            "grid_gap": null,
            "max_width": null,
            "order": null,
            "_view_module_version": "1.2.0",
            "grid_template_areas": null,
            "object_position": null,
            "object_fit": null,
            "grid_auto_columns": null,
            "margin": null,
            "display": null,
            "left": null
          }
        },
        "d38f741ab0e149bb850f3b128cd5a509": {
          "model_module": "@jupyter-widgets/controls",
          "model_name": "DescriptionStyleModel",
          "state": {
            "_view_name": "StyleView",
            "_model_name": "DescriptionStyleModel",
            "description_width": "",
            "_view_module": "@jupyter-widgets/base",
            "_model_module_version": "1.5.0",
            "_view_count": null,
            "_view_module_version": "1.2.0",
            "_model_module": "@jupyter-widgets/controls"
          }
        },
        "6d6ac0e231a54312b245e8c23381347f": {
          "model_module": "@jupyter-widgets/base",
          "model_name": "LayoutModel",
          "state": {
            "_view_name": "LayoutView",
            "grid_template_rows": null,
            "right": null,
            "justify_content": null,
            "_view_module": "@jupyter-widgets/base",
            "overflow": null,
            "_model_module_version": "1.2.0",
            "_view_count": null,
            "flex_flow": null,
            "width": null,
            "min_width": null,
            "border": null,
            "align_items": null,
            "bottom": null,
            "_model_module": "@jupyter-widgets/base",
            "top": null,
            "grid_column": null,
            "overflow_y": null,
            "overflow_x": null,
            "grid_auto_flow": null,
            "grid_area": null,
            "grid_template_columns": null,
            "flex": null,
            "_model_name": "LayoutModel",
            "justify_items": null,
            "grid_row": null,
            "max_height": null,
            "align_content": null,
            "visibility": null,
            "align_self": null,
            "height": null,
            "min_height": null,
            "padding": null,
            "grid_auto_rows": null,
            "grid_gap": null,
            "max_width": null,
            "order": null,
            "_view_module_version": "1.2.0",
            "grid_template_areas": null,
            "object_position": null,
            "object_fit": null,
            "grid_auto_columns": null,
            "margin": null,
            "display": null,
            "left": null
          }
        }
      }
    }
  },
  "cells": [
    {
      "cell_type": "markdown",
      "metadata": {
        "id": "view-in-github",
        "colab_type": "text"
      },
      "source": [
        "<a href=\"https://colab.research.google.com/github/dmshlepakov/KG-TIES/blob/master/Create_Knowledge_Graph.ipynb\" target=\"_parent\"><img src=\"https://colab.research.google.com/assets/colab-badge.svg\" alt=\"Open In Colab\"/></a>"
      ]
    },
    {
      "cell_type": "markdown",
      "metadata": {
        "id": "PCnsV1mNwYb-",
        "colab_type": "text"
      },
      "source": [
        "## Install, Import Libs, Global Settings"
      ]
    },
    {
      "cell_type": "code",
      "metadata": {
        "id": "oolTar35SVPZ",
        "colab_type": "code",
        "outputId": "c3ac2fc8-2dae-47af-8810-1084d01e561e",
        "colab": {
          "base_uri": "https://localhost:8080/",
          "height": 377
        }
      },
      "source": [
        "! pip install -U spacy"
      ],
      "execution_count": 0,
      "outputs": [
        {
          "output_type": "stream",
          "text": [
            "Requirement already up-to-date: spacy in /usr/local/lib/python3.6/dist-packages (2.2.4)\n",
            "Requirement already satisfied, skipping upgrade: cymem<2.1.0,>=2.0.2 in /usr/local/lib/python3.6/dist-packages (from spacy) (2.0.3)\n",
            "Requirement already satisfied, skipping upgrade: blis<0.5.0,>=0.4.0 in /usr/local/lib/python3.6/dist-packages (from spacy) (0.4.1)\n",
            "Requirement already satisfied, skipping upgrade: catalogue<1.1.0,>=0.0.7 in /usr/local/lib/python3.6/dist-packages (from spacy) (1.0.0)\n",
            "Requirement already satisfied, skipping upgrade: numpy>=1.15.0 in /usr/local/lib/python3.6/dist-packages (from spacy) (1.18.4)\n",
            "Requirement already satisfied, skipping upgrade: srsly<1.1.0,>=1.0.2 in /usr/local/lib/python3.6/dist-packages (from spacy) (1.0.2)\n",
            "Requirement already satisfied, skipping upgrade: requests<3.0.0,>=2.13.0 in /usr/local/lib/python3.6/dist-packages (from spacy) (2.23.0)\n",
            "Requirement already satisfied, skipping upgrade: wasabi<1.1.0,>=0.4.0 in /usr/local/lib/python3.6/dist-packages (from spacy) (0.6.0)\n",
            "Requirement already satisfied, skipping upgrade: thinc==7.4.0 in /usr/local/lib/python3.6/dist-packages (from spacy) (7.4.0)\n",
            "Requirement already satisfied, skipping upgrade: tqdm<5.0.0,>=4.38.0 in /usr/local/lib/python3.6/dist-packages (from spacy) (4.41.1)\n",
            "Requirement already satisfied, skipping upgrade: plac<1.2.0,>=0.9.6 in /usr/local/lib/python3.6/dist-packages (from spacy) (1.1.3)\n",
            "Requirement already satisfied, skipping upgrade: murmurhash<1.1.0,>=0.28.0 in /usr/local/lib/python3.6/dist-packages (from spacy) (1.0.2)\n",
            "Requirement already satisfied, skipping upgrade: preshed<3.1.0,>=3.0.2 in /usr/local/lib/python3.6/dist-packages (from spacy) (3.0.2)\n",
            "Requirement already satisfied, skipping upgrade: setuptools in /usr/local/lib/python3.6/dist-packages (from spacy) (47.1.1)\n",
            "Requirement already satisfied, skipping upgrade: importlib-metadata>=0.20; python_version < \"3.8\" in /usr/local/lib/python3.6/dist-packages (from catalogue<1.1.0,>=0.0.7->spacy) (1.6.0)\n",
            "Requirement already satisfied, skipping upgrade: urllib3!=1.25.0,!=1.25.1,<1.26,>=1.21.1 in /usr/local/lib/python3.6/dist-packages (from requests<3.0.0,>=2.13.0->spacy) (1.24.3)\n",
            "Requirement already satisfied, skipping upgrade: certifi>=2017.4.17 in /usr/local/lib/python3.6/dist-packages (from requests<3.0.0,>=2.13.0->spacy) (2020.4.5.1)\n",
            "Requirement already satisfied, skipping upgrade: idna<3,>=2.5 in /usr/local/lib/python3.6/dist-packages (from requests<3.0.0,>=2.13.0->spacy) (2.9)\n",
            "Requirement already satisfied, skipping upgrade: chardet<4,>=3.0.2 in /usr/local/lib/python3.6/dist-packages (from requests<3.0.0,>=2.13.0->spacy) (3.0.4)\n",
            "Requirement already satisfied, skipping upgrade: zipp>=0.5 in /usr/local/lib/python3.6/dist-packages (from importlib-metadata>=0.20; python_version < \"3.8\"->catalogue<1.1.0,>=0.0.7->spacy) (3.1.0)\n"
          ],
          "name": "stdout"
        }
      ]
    },
    {
      "cell_type": "code",
      "metadata": {
        "id": "MQVFd3276w_e",
        "colab_type": "code",
        "colab": {}
      },
      "source": [
        "import spacy\n",
        "from spacy.matcher import Matcher\n",
        "\n",
        "nlp = spacy.load(\"en_core_web_sm\")\n"
      ],
      "execution_count": 0,
      "outputs": []
    },
    {
      "cell_type": "code",
      "metadata": {
        "id": "CVQMSF12Xa1o",
        "colab_type": "code",
        "colab": {}
      },
      "source": [
        "from collections import defaultdict\n",
        "from gensim import corpora\n",
        "from gensim import similarities\n",
        "from gensim import models"
      ],
      "execution_count": 0,
      "outputs": []
    },
    {
      "cell_type": "code",
      "metadata": {
        "id": "o6X2Ni5PPYnK",
        "colab_type": "code",
        "outputId": "d07b8ab9-b896-41f0-bfcc-8086c61ae347",
        "colab": {
          "base_uri": "https://localhost:8080/",
          "height": 275
        }
      },
      "source": [
        "! pip install rdfpandas\n",
        "! pip install rdflib\n",
        "\n",
        "import random\n",
        "from tqdm.auto import tqdm\n",
        "\n",
        "import pandas as pd\n",
        "import json\n",
        "\n",
        "import rdfpandas.graph\n",
        "import rdfpandas as rpd\n",
        "\n",
        "from rdflib.namespace import RDF\n",
        "from rdflib import Graph\n",
        "from rdflib import Literal"
      ],
      "execution_count": 0,
      "outputs": [
        {
          "output_type": "stream",
          "text": [
            "Collecting rdfpandas\n",
            "  Downloading https://files.pythonhosted.org/packages/c0/82/74ed72758e56732a9b8654f48a512ff7eb4f68e7c95f586461f5663772b8/rdfpandas-0.1.1-py2.py3-none-any.whl\n",
            "Installing collected packages: rdfpandas\n",
            "Successfully installed rdfpandas-0.1.1\n",
            "Collecting rdflib\n",
            "\u001b[?25l  Downloading https://files.pythonhosted.org/packages/d0/6b/6454aa1db753c0f8bc265a5bd5c10b5721a4bb24160fb4faf758cf6be8a1/rdflib-5.0.0-py3-none-any.whl (231kB)\n",
            "\u001b[K     |████████████████████████████████| 235kB 8.1MB/s \n",
            "\u001b[?25hRequirement already satisfied: six in /usr/local/lib/python3.6/dist-packages (from rdflib) (1.12.0)\n",
            "Collecting isodate\n",
            "\u001b[?25l  Downloading https://files.pythonhosted.org/packages/9b/9f/b36f7774ff5ea8e428fdcfc4bb332c39ee5b9362ddd3d40d9516a55221b2/isodate-0.6.0-py2.py3-none-any.whl (45kB)\n",
            "\u001b[K     |████████████████████████████████| 51kB 5.4MB/s \n",
            "\u001b[?25hRequirement already satisfied: pyparsing in /usr/local/lib/python3.6/dist-packages (from rdflib) (2.4.7)\n",
            "Installing collected packages: isodate, rdflib\n",
            "Successfully installed isodate-0.6.0 rdflib-5.0.0\n"
          ],
          "name": "stdout"
        }
      ]
    },
    {
      "cell_type": "code",
      "metadata": {
        "id": "Im5qSWMdeYWC",
        "colab_type": "code",
        "outputId": "eda2343c-ae44-4905-dd43-731327cfd5d3",
        "colab": {
          "base_uri": "https://localhost:8080/",
          "height": 34
        }
      },
      "source": [
        "#Open up MongoDB\n",
        "!pip install pymongo\n",
        "import pandas as pd\n",
        "from pymongo import MongoClient"
      ],
      "execution_count": 0,
      "outputs": [
        {
          "output_type": "stream",
          "text": [
            "Requirement already satisfied: pymongo in /usr/local/lib/python3.6/dist-packages (3.10.1)\n"
          ],
          "name": "stdout"
        }
      ]
    },
    {
      "cell_type": "markdown",
      "metadata": {
        "id": "UsdueDO6Thet",
        "colab_type": "text"
      },
      "source": [
        "### Import Data"
      ]
    },
    {
      "cell_type": "markdown",
      "metadata": {
        "id": "aZWvgUv0ez2l",
        "colab_type": "text"
      },
      "source": [
        "# Mongo Db Import Block"
      ]
    },
    {
      "cell_type": "code",
      "metadata": {
        "id": "eO8eGBMreym6",
        "colab_type": "code",
        "colab": {}
      },
      "source": [
        "# Read-only credentials\n",
        "mongouser = 'coronawhyguest'\n",
        "mongopass = 'coro901na'\n",
        "cordversion = 'v22'\n",
        "client = MongoClient(\"mongodb://%s:%s@mongodb.coronawhy.org\" % (mongouser, mongopass))\n",
        "db = client.get_database('cord19')\n",
        "collection = db.v22"
      ],
      "execution_count": 0,
      "outputs": []
    },
    {
      "cell_type": "code",
      "metadata": {
        "id": "1GLy8x3Ze5Gv",
        "colab_type": "code",
        "outputId": "a26a18cd-31ce-475c-9142-be7fb9ff0521",
        "colab": {
          "base_uri": "https://localhost:8080/",
          "height": 1000
        }
      },
      "source": [
        "#Get all trusted papers in list (via cord_uid)\n",
        "corduid_list =  {'cord_uid': {\"$in\": [ \n",
        "                                        'l7eq3oeb',\n",
        "                                        'xgp2vx6o',\n",
        "                                        'gxk5t1yp',\n",
        "                                        '8rfhwqp5',\n",
        "                                        'txnegebz',\n",
        "                                        'vkgnwxzc',\n",
        "                                        'pc16duhj',\n",
        "                                        'awgyxn3t'\n",
        "                                     ] } }\n",
        "\n",
        "doi_list = {'doi': {\"$in\": [ \n",
        "                              #'10.1101/2020.04.14.20065896', \n",
        "                              #'10.1016/j.jinf.2020.03.006',\n",
        "                              #'10.1038/s41591-020-0869-5',\n",
        "                              #'10.1101/2020.02.24.20027474',\n",
        "                              #'10.1101/2020.03.10.20032136',\n",
        "                              #'10.1101/2020.03.12.20034686', \n",
        "                              '10.1101/2020.03.15.20036533',\n",
        "                              '10.1101/2020.03.24.20042382',\n",
        "                              '10.1101/2020.03.26.20044826',\n",
        "                              '10.15585/mmwr.mm6914e1',\n",
        "                              '10.1101/2020.03.24.20042606',\n",
        "                              '10.3760/cma.j.cn112150-20200227-00199',\n",
        "                              '10.1101/2020.03.21.20040329',\n",
        "                              '10.1101/2020.03.06.20031955'\n",
        "                            ] } }\n",
        "                  #  '10.1038/s41591-020-0869-5', - NOT in  CORD\n",
        "                  #  '10.3760/cma.j.cn112150-20200227-00199', - NOT in CORD\n",
        "                  #  '10.1101/2020.03.21.20040329',  - NOT in CORD\n",
        "                  #  '10.1101/2020.03.06.20031955' - NOT in CORD\n",
        "\n",
        "#metadata = collection.find(doi_list)\n",
        "metadata = collection.find(corduid_list)\n",
        "df = pd.DataFrame(metadata)\n",
        "df"
      ],
      "execution_count": 100,
      "outputs": [
        {
          "output_type": "execute_result",
          "data": {
            "text/html": [
              "<div>\n",
              "<style scoped>\n",
              "    .dataframe tbody tr th:only-of-type {\n",
              "        vertical-align: middle;\n",
              "    }\n",
              "\n",
              "    .dataframe tbody tr th {\n",
              "        vertical-align: top;\n",
              "    }\n",
              "\n",
              "    .dataframe thead th {\n",
              "        text-align: right;\n",
              "    }\n",
              "</style>\n",
              "<table border=\"1\" class=\"dataframe\">\n",
              "  <thead>\n",
              "    <tr style=\"text-align: right;\">\n",
              "      <th></th>\n",
              "      <th>_id</th>\n",
              "      <th>who_covidence_id</th>\n",
              "      <th>source_x</th>\n",
              "      <th>pmcid</th>\n",
              "      <th>pubmed_id</th>\n",
              "      <th>license</th>\n",
              "      <th>publish_time</th>\n",
              "      <th>authors</th>\n",
              "      <th>journal</th>\n",
              "      <th>mag_id</th>\n",
              "      <th>arxiv_id</th>\n",
              "      <th>s2_id</th>\n",
              "      <th>year</th>\n",
              "      <th>path</th>\n",
              "      <th>cord_uid</th>\n",
              "      <th>title</th>\n",
              "      <th>abstract</th>\n",
              "      <th>body_text</th>\n",
              "      <th>tables</th>\n",
              "      <th>body_rows</th>\n",
              "    </tr>\n",
              "  </thead>\n",
              "  <tbody>\n",
              "    <tr>\n",
              "      <th>0</th>\n",
              "      <td>5ec6aa1750ceb4d90ad72618</td>\n",
              "      <td>~</td>\n",
              "      <td>Elsevier; Medline; PMC</td>\n",
              "      <td>PMC7194554</td>\n",
              "      <td>3.22832e+07</td>\n",
              "      <td>no-cc</td>\n",
              "      <td>2020-04-10</td>\n",
              "      <td>Huang, Lei; Zhang, Xiuwen; Zhang, Xinyue; Wei, Zhijian; Zhang, Lingli; Xu, Jingjing; Liang, Peipei; Xu, Yuanhong; Zhang, Chengyuan; Xu, Aman</td>\n",
              "      <td>J Infect</td>\n",
              "      <td>~</td>\n",
              "      <td>~</td>\n",
              "      <td>2.15759e+08</td>\n",
              "      <td>2020</td>\n",
              "      <td>document_parses/pdf_json/541408c63b1bd096adc6fefa3354f10f3e0a0f4d.json/document_parses/pdf_json/541408c63b1bd096adc6fefa3354f10f3e0a0f4d.json/pdf_json/541408c63b1bd096adc6fefa3354f10f3e0a0f4d.json</td>\n",
              "      <td>8rfhwqp5</td>\n",
              "      <td>Rapid asymptomatic transmission of COVID-19 during the incubation period demonstrating strong infectivity in a cluster of youngsters aged 16-23 years outside Wuhan and characteristics of young pat...</td>\n",
              "      <td>[]</td>\n",
              "      <td>[{'text': 'The outbreak of the 2019-novel-coronavirus-disease (COVID- 19) caused by severe-acute-respiratory-syndrome-coronavirus-2 (SARS-CoV-2) emerging from Wuhan in December 2019 has been arous...</td>\n",
              "      <td>[[541408c63b1bd096adc6fefa3354f10f3e0a0f4d, FIGREF0, Patients 2, 3, and 8; the other patients remain in hospital. Values shown in bold indicate abnormal ones. ↑ , above the upper limit of the norm...</td>\n",
              "      <td>[{'cord_uid': '8rfhwqp5', 'section': 'title', 'subsection': 0, 'text': 'Rapid asymptomatic transmission of COVID-19 during the incubation period demonstrating strong infectivity in a cluster of yo...</td>\n",
              "    </tr>\n",
              "    <tr>\n",
              "      <th>1</th>\n",
              "      <td>5ec68fa450ceb4d90ad6f71f</td>\n",
              "      <td>~</td>\n",
              "      <td>MedRxiv</td>\n",
              "      <td>~</td>\n",
              "      <td>~</td>\n",
              "      <td>medrxiv</td>\n",
              "      <td>2020-03-16</td>\n",
              "      <td>Zhang, Che; Gu, Jiaowei; Chen, Quanjing; Deng, Na; Li, Jingfeng; Huang, Li; Zhou, Xihui</td>\n",
              "      <td>~</td>\n",
              "      <td>~</td>\n",
              "      <td>~</td>\n",
              "      <td>2.16482e+08</td>\n",
              "      <td>2020</td>\n",
              "      <td>document_parses/pdf_json/8ac9fa119b1818e217ab8c1f5b20b0d6a32c74ef.json/document_parses/pdf_json/8ac9fa119b1818e217ab8c1f5b20b0d6a32c74ef.json/pdf_json/8ac9fa119b1818e217ab8c1f5b20b0d6a32c74ef.json</td>\n",
              "      <td>awgyxn3t</td>\n",
              "      <td>Clinical Characteristics of 34 Children with Coronavirus Disease-2019 in the West of China: a Multiple-center Case Series</td>\n",
              "      <td>[{'text': 'Background Up to 9 March, 2020, 109577 patients were diagnosed with', 'cite_spans': [], 'ref_spans': [], 'section': 'Abstract'}]</td>\n",
              "      <td>[{'text': '47.60% of patients were noticed without any exposure history. The median incubation period was 10.50 (7.75 -25.25) days. Infections of other respiratory pathogens were reported in 16 pa...</td>\n",
              "      <td>[[8ac9fa119b1818e217ab8c1f5b20b0d6a32c74ef, FIGREF0, -2019 (COVID-19) globally. The clinical and epidemiological characteristics of adult patients have been revealed recently. However, the informa...</td>\n",
              "      <td>[{'cord_uid': 'awgyxn3t', 'section': 'title', 'subsection': 0, 'text': 'Clinical Characteristics of 34 Children with Coronavirus Disease-2019 in the West of China: a Multiple-center Case Series'},...</td>\n",
              "    </tr>\n",
              "    <tr>\n",
              "      <th>2</th>\n",
              "      <td>5ec690af50ceb4d90ad6f901</td>\n",
              "      <td>~</td>\n",
              "      <td>MedRxiv</td>\n",
              "      <td>~</td>\n",
              "      <td>~</td>\n",
              "      <td>medrxiv</td>\n",
              "      <td>2020-04-18</td>\n",
              "      <td>Jiang, Ally Bi-zhu; Lieu, Richard; Quenby, Siobhan</td>\n",
              "      <td>~</td>\n",
              "      <td>~</td>\n",
              "      <td>~</td>\n",
              "      <td>2.16055e+08</td>\n",
              "      <td>2020</td>\n",
              "      <td>document_parses/pdf_json/3dac6b5cc9ca97a44c1553cd96d6ba69593296eb.json/document_parses/pdf_json/3dac6b5cc9ca97a44c1553cd96d6ba69593296eb.json/pdf_json/3dac6b5cc9ca97a44c1553cd96d6ba69593296eb.json</td>\n",
              "      <td>gxk5t1yp</td>\n",
              "      <td>Significantly longer Covid-19 incubation times for the elderly, from a case study of 136 patients throughout China</td>\n",
              "      <td>[{'text': 'Objective: To infer Covid-19 incubation time distribution from a large sample.', 'cite_spans': [], 'ref_spans': [], 'section': 'Abstract'}, {'text': 'Method: Based on individual case da...</td>\n",
              "      <td>[{'text': 'The incubation time of Covid-19 [1] and the closely related question of asymptomatic case numbers are two topics of major interest and concern. On the former, the research results prese...</td>\n",
              "      <td>[[3dac6b5cc9ca97a44c1553cd96d6ba69593296eb, FIGREF0, the incubation time we report below is significantly longer. For nearly every city in China, daily information on list of COVID-19 cases is rel...</td>\n",
              "      <td>[{'cord_uid': 'gxk5t1yp', 'section': 'title', 'subsection': 0, 'text': 'Significantly longer Covid-19 incubation times for the elderly, from a case study of 136 patients throughout China'}, {'cord...</td>\n",
              "    </tr>\n",
              "    <tr>\n",
              "      <th>3</th>\n",
              "      <td>5ec66d5250ceb4d90ad6bab5</td>\n",
              "      <td>~</td>\n",
              "      <td>PMC</td>\n",
              "      <td>PMC5657983</td>\n",
              "      <td>2.84939e+07</td>\n",
              "      <td>cc-by</td>\n",
              "      <td>2017-05-12</td>\n",
              "      <td>Midgley, Claire M.; Baber, Jill K.; Biggs, Holly M.; Singh, Twila; Feist, Michelle; Miller, Tracy K.; Kruger, Kirby; Gerber, Susan I.; Watson, John T.; Howell, Molly A.</td>\n",
              "      <td>MMWR Morb Mortal Wkly Rep</td>\n",
              "      <td>~</td>\n",
              "      <td>~</td>\n",
              "      <td>~</td>\n",
              "      <td>2017</td>\n",
              "      <td>document_parses/pdf_json/c8978a8074a9df4bf07e49393821886d0b80979f.json/document_parses/pdf_json/c8978a8074a9df4bf07e49393821886d0b80979f.json/pdf_json/c8978a8074a9df4bf07e49393821886d0b80979f.json</td>\n",
              "      <td>l7eq3oeb</td>\n",
              "      <td>Notes from the Field: Severe Human Metapneumovirus Infections — North Dakota, 2016</td>\n",
              "      <td>[]</td>\n",
              "      <td>[{'text': 'Indian Health Service personnel did not describe a notable increase in respiratory illness during the investigation period, although testing for HMPV was not routinely done.', 'cite_spa...</td>\n",
              "      <td>[[c8978a8074a9df4bf07e49393821886d0b80979f, TABREF0, Selected demographic and clinical characteristics of pediatric (aged &lt;18 years) and adult inpatients with laboratory-confirmed human metapneumo...</td>\n",
              "      <td>[{'cord_uid': 'l7eq3oeb', 'section': 'title', 'subsection': 0, 'text': 'Notes from the Field: Severe Human Metapneumovirus Infections — North Dakota, 2016'}, {'cord_uid': 'l7eq3oeb', 'section': 'a...</td>\n",
              "    </tr>\n",
              "    <tr>\n",
              "      <th>4</th>\n",
              "      <td>5ec68f4f50ceb4d90ad6f686</td>\n",
              "      <td>~</td>\n",
              "      <td>MedRxiv</td>\n",
              "      <td>~</td>\n",
              "      <td>~</td>\n",
              "      <td>medrxiv</td>\n",
              "      <td>2020-02-29</td>\n",
              "      <td>Han, Henry</td>\n",
              "      <td>~</td>\n",
              "      <td>~</td>\n",
              "      <td>~</td>\n",
              "      <td>2.15719e+08</td>\n",
              "      <td>2020</td>\n",
              "      <td>document_parses/pdf_json/c1ae608c7ffb926a0f50a6a34c0780983274ea74.json/document_parses/pdf_json/c1ae608c7ffb926a0f50a6a34c0780983274ea74.json/pdf_json/c1ae608c7ffb926a0f50a6a34c0780983274ea74.json</td>\n",
              "      <td>vkgnwxzc</td>\n",
              "      <td>Estimate the incubation period of coronavirus 2019 (COVID-19)</td>\n",
              "      <td>[{'text': 'Wuhan pneumonia is an acute infectious disease caused by the 2019 novel coronavirus for Hubei province. To achieve the accurate calculation of the incubation period, we only involved th...</td>\n",
              "      <td>[{'text': 'Novel coronaviruses (COVID- 19) , which was found in Wuhan, China in December 2019 presents an acute public health threat to the whole world [1] [2] . The new virus is different from kn...</td>\n",
              "      <td>[[c1ae608c7ffb926a0f50a6a34c0780983274ea74, FIGREF0, days. More details about the dataset can be found in the Result section.], [c1ae608c7ffb926a0f50a6a34c0780983274ea74, FIGREF1, summarizes age a...</td>\n",
              "      <td>[{'cord_uid': 'vkgnwxzc', 'section': 'title', 'subsection': 0, 'text': 'Estimate the incubation period of coronavirus 2019 (COVID-19)'}, {'cord_uid': 'vkgnwxzc', 'section': 'abstract', 'subsection...</td>\n",
              "    </tr>\n",
              "    <tr>\n",
              "      <th>5</th>\n",
              "      <td>5ec66c6450ceb4d90ad6b90b</td>\n",
              "      <td>~</td>\n",
              "      <td>PMC</td>\n",
              "      <td>PMC5111008</td>\n",
              "      <td>2.79004e+07</td>\n",
              "      <td>cc-by-nc</td>\n",
              "      <td>2016-11-19</td>\n",
              "      <td>Park, Donghyun; Huh, Hee Jae; Kim, Yeon Jeong; Son, Dae-Soon; Jeon, Hyo-Jeong; Im, Eu-Hyun; Kim, Jong-Won; Lee, Nam Yong; Kang, Eun-Suk; Kang, Cheol In; Chung, Doo Ryeon; Ahn, Jin-Hyun; Peck, Kyon...</td>\n",
              "      <td>Cold Spring Harb Mol Case Stud</td>\n",
              "      <td>~</td>\n",
              "      <td>~</td>\n",
              "      <td>~</td>\n",
              "      <td>2016</td>\n",
              "      <td>document_parses/pdf_json/c3e25d0cb02656c82dfac2860225f14588489066.json/document_parses/pdf_json/c3e25d0cb02656c82dfac2860225f14588489066.json/pdf_json/c3e25d0cb02656c82dfac2860225f14588489066.json</td>\n",
              "      <td>xgp2vx6o</td>\n",
              "      <td>Analysis of intrapatient heterogeneity uncovers the microevolution of Middle East respiratory syndrome coronavirus</td>\n",
              "      <td>[{'text': 'Genome sequence analysis of Middle East respiratory syndrome coronavirus (MERS-CoV) variants from patient specimens has revealed the evolutionary dynamics and mechanisms of pathogenesis...</td>\n",
              "      <td>[{'text': 'Middle East respiratory syndrome coronavirus (MERS-CoV) was first isolated from a patient in Saudi Arabia in 2012 and has been shown to cause severe acute respiratory illness, including...</td>\n",
              "      <td>[[c3e25d0cb02656c82dfac2860225f14588489066, FIGREF0, Summary of genetic variants in the full-genome sequences of Middle East respiratory syndrome coronavirus (MERS-CoVs) isolates from the South Ko...</td>\n",
              "      <td>[{'cord_uid': 'xgp2vx6o', 'section': 'title', 'subsection': 0, 'text': 'Analysis of intrapatient heterogeneity uncovers the microevolution of Middle East respiratory syndrome coronavirus'}, {'cord...</td>\n",
              "    </tr>\n",
              "  </tbody>\n",
              "</table>\n",
              "</div>"
            ],
            "text/plain": [
              "                        _id  ...                                                                                                                                                                                                body_rows\n",
              "0  5ec6aa1750ceb4d90ad72618  ...  [{'cord_uid': '8rfhwqp5', 'section': 'title', 'subsection': 0, 'text': 'Rapid asymptomatic transmission of COVID-19 during the incubation period demonstrating strong infectivity in a cluster of yo...\n",
              "1  5ec68fa450ceb4d90ad6f71f  ...  [{'cord_uid': 'awgyxn3t', 'section': 'title', 'subsection': 0, 'text': 'Clinical Characteristics of 34 Children with Coronavirus Disease-2019 in the West of China: a Multiple-center Case Series'},...\n",
              "2  5ec690af50ceb4d90ad6f901  ...  [{'cord_uid': 'gxk5t1yp', 'section': 'title', 'subsection': 0, 'text': 'Significantly longer Covid-19 incubation times for the elderly, from a case study of 136 patients throughout China'}, {'cord...\n",
              "3  5ec66d5250ceb4d90ad6bab5  ...  [{'cord_uid': 'l7eq3oeb', 'section': 'title', 'subsection': 0, 'text': 'Notes from the Field: Severe Human Metapneumovirus Infections — North Dakota, 2016'}, {'cord_uid': 'l7eq3oeb', 'section': 'a...\n",
              "4  5ec68f4f50ceb4d90ad6f686  ...  [{'cord_uid': 'vkgnwxzc', 'section': 'title', 'subsection': 0, 'text': 'Estimate the incubation period of coronavirus 2019 (COVID-19)'}, {'cord_uid': 'vkgnwxzc', 'section': 'abstract', 'subsection...\n",
              "5  5ec66c6450ceb4d90ad6b90b  ...  [{'cord_uid': 'xgp2vx6o', 'section': 'title', 'subsection': 0, 'text': 'Analysis of intrapatient heterogeneity uncovers the microevolution of Middle East respiratory syndrome coronavirus'}, {'cord...\n",
              "\n",
              "[6 rows x 20 columns]"
            ]
          },
          "metadata": {
            "tags": []
          },
          "execution_count": 100
        }
      ]
    },
    {
      "cell_type": "code",
      "metadata": {
        "id": "_PNUKFmX-eaD",
        "colab_type": "code",
        "colab": {
          "base_uri": "https://localhost:8080/",
          "height": 32
        },
        "outputId": "7c909d56-f530-4e35-d085-0dfcc1f35357"
      },
      "source": [
        "# Get altmetrics\n",
        "altmetricsdb = client.get_database('altmetrics')\n",
        "altcollection = altmetricsdb[cordversion]\n",
        "metadata = altcollection.find(corduid_list)\n",
        "alt_df = pd.DataFrame(metadata)\n",
        "alt_df"
      ],
      "execution_count": 101,
      "outputs": [
        {
          "output_type": "execute_result",
          "data": {
            "text/html": [
              "<div>\n",
              "<style scoped>\n",
              "    .dataframe tbody tr th:only-of-type {\n",
              "        vertical-align: middle;\n",
              "    }\n",
              "\n",
              "    .dataframe tbody tr th {\n",
              "        vertical-align: top;\n",
              "    }\n",
              "\n",
              "    .dataframe thead th {\n",
              "        text-align: right;\n",
              "    }\n",
              "</style>\n",
              "<table border=\"1\" class=\"dataframe\">\n",
              "  <thead>\n",
              "    <tr style=\"text-align: right;\">\n",
              "      <th></th>\n",
              "    </tr>\n",
              "  </thead>\n",
              "  <tbody>\n",
              "  </tbody>\n",
              "</table>\n",
              "</div>"
            ],
            "text/plain": [
              "Empty DataFrame\n",
              "Columns: []\n",
              "Index: []"
            ]
          },
          "metadata": {
            "tags": []
          },
          "execution_count": 101
        }
      ]
    },
    {
      "cell_type": "code",
      "metadata": {
        "id": "Ur1nO-RaFOdA",
        "colab_type": "code",
        "outputId": "fdb5b86d-f0a1-44f4-d682-ef1145060ca8",
        "colab": {
          "base_uri": "https://localhost:8080/",
          "height": 1000
        }
      },
      "source": [
        "# Extracting sentences preventing broken sentences\n",
        "\n",
        "sentences = []\n",
        "previtem = ''\n",
        "\n",
        "for br in df.body_rows.values:\n",
        "  for item in br:\n",
        "    if item['subsection'] != 0:\n",
        "      if item['text'].endswith(\".\"):\n",
        "        sentences.append(previtem + item['text'])\n",
        "        previtem = ''\n",
        "      else:\n",
        "        previtem = item['text'] + ' ' \n",
        "           \n",
        "sentences"
      ],
      "execution_count": 102,
      "outputs": [
        {
          "output_type": "execute_result",
          "data": {
            "text/plain": [
              "['We collected and analyzed detailed data from a cluster of youngsters aged 16-23 years with laboratory-confirmed COVID-19 in Hefei, China, originating from a 22-year-old youngster (Patient-Index) returning from Wuhan who rapidly transmitted COVID-19 to seven other youngsters of similar ages without recent travel to Wuhan, where rapid transmission had occurred during the incubation-period of illness in Patient-Index. We also identified all the SARS-CoV-2-negative close-contacts of Patient-Index, and further compared them with the SARS-CoV-2-positive patients. We carefully examined the infectivity and transmission dynamics by obtaining valid information directly from the patients and contacts themselves. We are herein describing the demographic, epidemiological, clinical, radiological, and laboratory features, management, and outcomes of the cluster of youngsters with COVID-19 and also the SARS-CoV-2-negative close-contacts.',\n",
              " 'The data that support the findings of this study are all included in the manuscript, with no additional data available.',\n",
              " 'None of the funders had any role in the study design and the collection, analysis, and interpretation of data or in the writing of the article and the decision to submit it for publication. The researchers confirm their independence from funders.',\n",
              " 'At noon on January 20, he met and ate hotpot with a female (Contact-2; later excluded from infection), sitting face-to-face for about one hour, and went shopping together afterwards. The following day on January 21, he took part in a classmate-get-together in Feidong where he had dinner in a restaurant-room with airconditioning and also windows open at about 11:30-14:00 and afterwards sang Karaoke in a confined-room at about 14:00-16:30 with air-conditioning and with some fruits shared, with 15 of his previous classmates whose hometowns are all in Hefei. Further details on the get-together are shown in Supplementary results, Table S1, and Figs. S1 and S4. Afterwards, he had supper with a 22year-old otherwise-healthy male (Patient-4) while the others went right back home. Nobody found him unhealthy that day. He reported that he was totally asymptomatic and well before and on January 21. Among his classmates he contacted, six (Patients-3-8) were later confirmed with COVID-19, and the person who first ex-perienced any relevant symptoms was Patients-4 and 8 (both on January 22).',\n",
              " 'Patient-Index reported that the very first symptom that he experienced was itchy eyes at noon on January 22 (Fig. S1 ). In the afternoon, he felt dizzy with a fever of 37.5 °C developed (measured by himself), and he (starting to wear a mask) attended a local outpatient-clinic in Feidong and was prescribed amoxicillin capsules, paracetamol and amantadine compound capsules, and ambroxol dispersible-tablets, after taking which his temperature returned to normal (36.5 °C). On the same day, he also developed mild nasal-congestion and rhinorrhea, both lasting 2 days. On January 23, his body temperature was normal in the morning but rose again to 37.5 °C at noon, which was again temporarily controlled by the drugs; however, in the evening he had fever again. On the same day before the onset of fever, Patient-2 went to visit Patient-Index, and brought him some home-made food. They ate and chatted together in his room which was tightly confined with no doors or windows open and without air-conditioning for about 0.5 h. Patient-2 later became infected. Having learned about the COVID-19 emergence in Wuhan and the possible humanto-human-transmission from Internet at noon on January 22, he decided to go to Hospital-1 for further assessment and management in the evening on January 23. Virus-RNA detection using respiratory-samples taken on January 26 and 27 both revealed positive results on rRT-PCR assays, confirming the SARS-CoV-2 infection ( Fig. 1 ). Assays to detect other pathogens were all negative. Further descriptions of the disease-course and management of Patient-Index are detailed in Supplementary results . Tracing of the contacts of Patient-Index started immediately after his admission to hospital. Before illness onset, he closely contacted 22 people (15 classmates and seven family-members). 16 of the contacts were admitted to hospital under isolation: seven (Patients-2-8) developed COVID-19-relavent symptoms, and were later identified to have laboratory-confirmed SARS-CoV-2-infection, and nine (Contacts-1-9) tested negative for SARS-CoV-2 and had normal CT-scan findings, and were discharged to home-isolation 4-5 days after admission. The other six contacts were quarantined and isolated at home, and closely watched by healthcare-workers; they all tested negative for SARS-CoV-2.',\n",
              " 'None of the contacts had visited any wet-markets or hospitals, contacted any wild-animals, or eaten any game-meat within three months (Tables S1). None of them had resided in, traveled to, or passed Wuhan, other cities in Hubei, or any region where SARS-CoV-2-transmission was known to be occurring within three months. They reported no contacts with any individual recently returning from such a region, with anyone having any suspicious symptoms (e.g., fever, cough, or other respiratory or relevant digestive symptoms), or with anybody later developing relevant symptoms or confirmed with COVID-19 except Patient-Index within three months (this was ascertained by an investigation by the healthcare-authority in Hefei). They did not have any infected family-members or members having visited Wuhan. None of the contacts had any symptom of illness during exposure.',\n",
              " \"Patients-2-8 were admitted to hospital under isolation 1-3 days after the admission of Patient-Index on February 25-27. The respiratory-samples of all patients tested positive for SARS-CoV-2 for at least two times. Five of the classmates Patient-Index contacted in the get-together initially tested positive for SARS-CoV-2 on January 26, and another classmate and Patient-Index's cousin initially on January 27. We did not find any evidence of co-infection with other known respiratory viral, bacterial, or fungal pathogens in any of the patients on microbiological-testing.\",\n",
              " 'Of all the eight infected youngsters, the median-age was 22 years (range, 16-23; Table 1 ), and six were male. Three were company-employees, four university-students, and Patient-2 a senior-high-school-student. Three were overweight. Patients-4 and 8 were current-smokers. Three had mild comorbidities (Patients-5 and 7, chronic gastritis; Patient 6, fatty-liver). While Patient-3 initially reported no coexisting medical-conditions, his blood-pressure was measured to be 150/94 mm Hg on admission. They all immediately wore masks and paid special attention to hand-hygiene after illness-onset.',\n",
              " 'The median incubation-period for Patients-3-8 was two days (range, 1-4; Table 1 ). The median serial-interval in the youngcluster was one day (range, 0-4; Patients-4 and 8 had symptom onset on the same day as Patient-Index). Among the eight youngsters with COVID-19, the median duration from illness-onset to first-hospital-admission was two days (range, 1-3). The median interval between illness-onset and second positive-test for SARS-CoV-2 which ascertained the COVID-19 diagnosis was four days (range, [2] [3] [4] [5] .',\n",
              " 'The presentations of the eight young-patients are shown in Table 2 and Fig. S2 . Because manifestations acquired after hospitalization may be influenced by the hospital-environment and drug-use, we primarily describe those developed before or on admission. We did not identify any patients asymptomatic on admission but testing positive for SARS-CoV-2. All patients had mild clinical-conditions, and developed ≥2 symptoms and/or signs before or on admission. Most youngsters (seven) developed fever (except Patient-6). The median body-temperature on admission was 37.5 °C (range, 37.0-38.2), and the median highest temperature during disease-course was 38.5 °C (range, 37.1-38.9). None had a high fever (temperature > 39 °C). The fever of Patients-Index, 2, and 5 showed an intermittent pattern, and Patients-3-5 experienced chills. Four patients had productive-cough, and Patients-6 and 7 had dry-cough. Five patients had both fever and cough. Four youngsters experienced fatigue, and three myalgia. Patients-2 and 7 reported experiencing no upper-respiratory-tract-infection symptoms (sore-throat, nasal-congestion, rhinorrhea, and/or sneezing), while five youngsters had more than two such symptoms. Patient-7 reported shortness of breath for two days on admission. None of the youngsters developed dyspnea, or chest-discomfort or pain. Three patients had headache, and Patient-Index reported dizziness. Eye-discomfort was noted in Patients-Index and 3, and backache in Patient-3. Two patients had anorexia, and three nausea, but vomiting did not develop in any of them before or on admission. Only Patient-8 developed diarrhea, and Patient-5 reported abdominal-discomfort. Nobody only presented with digestive-symptoms. Patient-2, the youngest patient (16 years), had only two presentations on admission: intermittent fever for two days and headache for one day, while the others reported 4-11 symptoms. The symptoms on illness onset are described in Supplementary results.',\n",
              " \"On admission, abnormalities in chest-CT-images suggesting viral-pneumonia were detected in six (all males; 22-23 years) of the eight youngsters confirmed with COVID-19 ( Table 2 ; Fig. 1 ). None of the conditions were severe. Of the six pneumonia-patients, five had unilateral-involvement, and Patient-8 had bilateralpneumonia on admission; four had involvement of the lowerlobe, and the other two of the middle-lobe. Of the five patients with unilateral-disease, pneumonia was located in the right-lung in four patients, and in the left-lung in Patient-3. The typicalfindings on chest-CT-scan, multifocal-mottling, patchy-shadows, and/or ground-glass-opacities, 2 which were mostly around the peripheral-parts of the lungs and which were compatible with abnormalities seen in viral-pneumonia, were detected in the pneumonia-patients on admission. Patient-Index's pneumonia progressed to bilateral-pneumonia two days after the initial scan. For the youngest patient (Patient-2; 16 years), while no abnormalities were detected the next day after illness-onset, a few infiltrates were noticed in the lower-lob of left-lung six days later.\",\n",
              " 'The blood-routine tests of the seven youngsters with available information on admission showed leucopenia and substantial neutropenia in Patients-2 and 4 ( Table 3 ). Patient-8 had increased neutrophils, but decreased lymphocytes. Patient-7 also had lymphopenia. Patients-1 and 3 had both red-blood-cell count and hemoglobin above the normal-range. Patient-2 had slightly shortened prothrombin-time, while Patient-4 showed mildly extended activated-partial-thromboplastin-time, and Patient-8 slightly increased international-normalized-ratio. Patient-3 had elevation of creatine-kinase and lactate-dehydrogenase reaching the upperlimit of reference-range. Regarding the infection-index, procalcitonin was above the normal-range in Patient-4. Patient-1 had an elevated level of C-reactive-protein. Most patients had normal serum levels of procalcitonin on admission (five of six youngsters with available information).',\n",
              " 'While testing negative for SARS-CoV-2, Contacts-1-9 also showed some changes in blood-examinations ( Table 4 ; Supplementary results ). When comparing the laboratory-findings between Patients-1-5 ascertained with COVID-19 with Contacts-1-9 with negative SARS-CoV-2-tests (Fig. S3) , all of whom were initially admitted to Hospital-1, lymphocyte-count on admission was lower in the SARS-CoV patients (p = 0.016). Plasma-concentrations of C-reactive-protein were markedly higher in SARS-CoV-2-positive patients (p = 0.016). Management and outcomes of the eight youngsters with laboratory-confirmed COVID-19, and description of all the other contacts are detailed in Supplementary results .',\n",
              " 'The incubation-period was defined as days from infection/exposure to illness-onset was estimated. The serial-interval was defined as the time delay between illness-onset dates in successive cases in a transmission-chain.',\n",
              " 'Continuous variables were shown as median (range), and categorical variables as count (percentage). Blood laboratoryexamination findings were illustrated using boxplots, assessed regarding whether the measurements were outside the referencerange, and compared between SARS-CoV-2-positive patients and SARS-CoV-2-negative contacts using the Mann-Whitney-Wilcoxontest for unpaired samples. Considering the potential type-I-error, the findings should be interpreted as exploratory.',\n",
              " 'A two-sided p -value of < 0.05 was considered statisticallysignificant. Statistical-analyses were performed using the R 3.6.2 software ( https://www.r-project.org/ ). 2020, four days before the \"lockdown\" of Wuhan, and arrived at his hometown in Feidong in the afternoon for the China Spring-Festival ( Fig. 1 ). In the evening on January 19, he went to visit (talk and have supper with) his cousin, a 16-year-old otherwisehealthy female (Patient-2) and his uncle (Contact-1; later excluded from infection), in their apartment for about 0.5 hours without airconditioning or wearing a mask. Further exposure and contact details are shown in Supplementary results and Table S1 .',\n",
              " 'We provide valid evidence supporting efficient asymptomatic human-to-human transmission of SARS-CoV-2 showing strong infectivity based on a cluster of youngsters aged 16-23 years in a local community setting outside Wuhan. COVID-19 was rapidly transmitted by the index patient during the (late) incubationperiod to other seven youngsters, demonstrating strong infectivity. The symptoms of the youngsters with COVID-19 had fast-onset, and were generally mild, nonspecific, atypical, and diverse.',\n",
              " 'None reported.',\n",
              " \"Drs Lei Huang, Xiuwen Zhang, Xinyue Zhang, and Zhijian Wei contributed equally to this article. LH, XWZ, CYZ, and AMX had the idea for the study and full access to all data in the study and take responsibility for the integrity of the data and the accuracy of the data analysis. LH is an epidemiologist and physician scientist with clinical epidemiology as the major subject and public health and statistics as subjects during his PhD, XWZ is an infectious disease specialist with rich work experience in isolation ward, XYZ is a statistician, ZJW is a physician scientist, LLX and JJX have rich experience in clinical communication and data collection, PPL is an emergency medicine specialist, YHX is a professor of laboratory medicine, CYZ is a respiratory medicine and critical care medicine specialist, and AMX is a physician scientist with interest in clinical epidemiology and public health. LH, XWZ, ZYZ, ZJW, CYZ, and AMX played roles in the literature search, study conception and design, patient recruitment, clinical management, sample collection, data collection, analysis, and interpretation, and writing of the report. LLZ, JJX, and YHX played roles in the laboratory assays, data collection, analysis, interpretation, and confirmation and critical revision of the report. PPL played roles in recruitment, clinical management, data collection, and critical revision of the report. All authors reviewed and approved the final version of the manuscript. AMX is the guarantor. The corresponding authors attest that all listed authors meet authorship criteria and that no others meeting the criteria have been omitted.  On January 23, 2020, we initially enrolled a 22-year-old male (Patient-Index/1) returning from Wuhan who initially presented to Feidong People's Hospital (Hospital-1; the eastern branch of First Affiliated Hospital of Anhui Medical University ) in Hefei, with fever, productive cough, myalgia, and lung infiltrates on chest-computed-tomography (CT)-scan. He was suspected to be infected with COVID-19. We immediately formed an expert investigation-team prospectively following-up and tracing all the contacts.\",\n",
              " 'Subsequently, from January 25 through 27, seven young symptomatic close-contacts of Patient-Index (his cousin and six classmates) also presented to hospital ( Table 1 ; Fig. S1 ) for management of relevant manifestations and assessment of heath-conditions after having learned about the COVID-19 outbreak in Wuhan and the human-to-human-transmission. All the eight patients tested positive for SARS-CoV-2 using realtime-reverse-transcriptase-polymerase-chain-reaction (rRT-PCR), confirming COVID-19. Starting from January 27, the other contacts of Patient-Index were admitted to Hospital-1 for quarantine (nine; Contacts-1-9) if residing in Feidong, a county > 400 kilometers northeast of Wuhan, or directly isolated at home and home-visited by local healthcare-authorities if living in other parts of Hefei (two), and they all tested negative for SARS-CoV-2. This study was approved by the Ethics Committee of Hospital 1. Informed consent was obtained from all patients and contacts.',\n",
              " 'We prospectively collected information on the demographic, epidemiological, clinical, radiological, and laboratory characteristics and management and outcomes for all the eight youngsters with laboratory-confirmed COVID-19 and the nine admitted SARS-CoV-2-negative contacts of Patient-Index. All data were collected into a standardized and customized data-collection form, and validated by a trained team of physician-scientists. At least two investigators independently reviewed the collected information to double-check the data and verify the accuracy. Follow-up was until February 20.',\n",
              " 'We directly communicated with and interviewed all SARS-CoV-2-positive patients and SARS-CoV-2-negative contacts themselves, and their family-members, relatives, classmates, friends, and healthcare-workers when necessary, to collect and ascertain all medical-history, epidemiological (exposure-history, timelines of events, close-contact identification, etc.), and symptom data, which were cross-checked with information from multiple sources. We determined exposure-histories during the three months before illness-onset or hospital-admission, including the dates, time, frequencies, and patterns of contacts with any person who had fever, respiratory-symptoms, or other relevant symptoms, with any wildanimals, or with any relevant environments such as any wetmarkets or medical-institutes. Information on history of travel to Wuhan and direct contact with people returning from Wuhan within three months before symptom-onset or hospital-admission was also included.',\n",
              " 'The definitions and management of all suspected and ascertained COVID-19 cases enrolled were according to the World Health Organization (WHO) guidance 12 and the New Coronavirus Pneumonia Prevention and Control Program by the China National Health Commission, 13 and pathogen examinations are detailed in Supplementary methods .',\n",
              " 'Currently, our understanding of the spectrum and naturalhistory of SARS-CoV-2-infection remains limited. We herein provide an assessment of the infectivity, transmission dynamics, and other characteristics of a cluster of eight young-patients aged 16-23 years confirmed with SARS-CoV-2 on rRT-PCR originating from Patient-Index returning from Wuhan who rapidly transmitted COVID-19 when totally asymptomatic, and compare them to the other nine close-contacts of Patient-Index testing negative for SARS-CoV-2. The disease was transmitted outside Wuhan and all patients were diagnosed and managed in Hefei. The young patients admitted with COVID-19 had fast illness-onset and symptoms somehow resembling a common-cold, which were much milder than those of older hospitalized adults with COVID-19 as recentlyreported. 1 , 2 , 10 While patchy-shadows and ground-glass-opacity on CT-scan were common, they were much less severe than the older patients. 2 , 10 Not all patients had radiological-changes indicating viral-pneumonia on admission.',\n",
              " 'Notably, our findings provide valid evidence demonstrating efficient local human-to-human-transmission with strong infectivity of SARS-CoV-2 within this cluster of youngsters during the incubation-period and asymptomatic-phase of COVID-19. SARS-CoV-2 tested positive in six of the 15 young classmates Patient-Index contacted in the get-together when he was totally asymptomatic, with the minimal exposure-duration of only two hours. The attack-rate is high (40%). The symptoms of Patients-4 and 8 developed on the same day as that of Patient-Index. We carefully had interviews directly with both Patient-Index himself and all the other contacts to confirm the absence of any symptoms of Patient-Index before and during the contacts, thus ascertaining the transmission during asymptomatic-phase. We may need to pay special attention to preventing COVID-19 transmission from people looking asymptomatic but with exposure-history. The incubationperiod and serial-interval in this young cluster were much shorter than previously-reported for majorly older patients at the earlier stage of the epidemic. 1 Infected-youngsters may act as important sources-of-infection. Notably, Patient-6 remained afebrile throughout the diseasecourse. These cryptic cases of walking-SARS-CoV-2-infection might act as potential sources to propagate the epidemic. Since it is difficult to differentiate and screen patients during the incubationperiod, further studies on the popularity of this transmissionpattern and the epidemiological-significance of cases with null or mild symptoms are warranted, which would help make relevant control-measures to prevent the future spread of infection. It may be needed to commit sufficient resources to examination in outpatient-clinics and emergency-departments for proactive caseidentification, both as part of the containment-strategy in locations without local-spread yet and to permit earlier clinical-management of infected-individuals.',\n",
              " 'The most likely transmission-scenario is that Patient-Index acquired the SARS-CoV-2-infection in Wuhan, and then transmitted the virus to Patient-2 after two contacts and Patients-3-8 during get-together on January 21 after returning to Feidong on January 19. Patient-2 more likely acquired the infection during the second contact on January 23 with an incubation-period of three days rather than on January 19, since Contacts-1 and 2, with whom Patient-Index had close-contacts in the evening on January 19 and on January 20, respectively, did not develop the infection. These indicate the relatively weak infectivity up till January 20, and the possibility of dynamic changes in infectivity, which possibly became strong enough to enable the disease to affect others sometime on January 20 or 21, still during the incubation-period of Patient-Index. Further studies on the diverse infectivity during different stages of disease and the corresponding time-points are warranted.',\n",
              " 'Almost half of the previously-reported cases were in adults aged ≥60 years. 1 Younger patients were thought to be less likely infected. 1 Few reports exist on younger patients aged 15-25 years. Delays from illness-onset to admission were generally short in these eight youngsters with COVID-19 in our study, with five hospitalized within two days of illness-onset. The symptoms of these youngsters were all mild and largely-nonspecific, which may be hardly clinically-distinguishable from many other common infectious-diseases, particularly in winter.',\n",
              " 'The first three most common symptoms on illness-onset were fever, cough, and sore-throat. None initially presented with a digestive-symptom. On admission, half or more of the youngsters with COVID-19 presented with fever, cough, sputum-production, nasal-congestion, and fatigue, which are much milder than previous reports including majorly older hospitalized-patients with frequent comorbidities, who may have lower immune-function than younger people. 2 , 10 Fever developed in seven of the eight youngsters, with six having fever on illness-onset. Three youngsters developed one or more digestive-manifestations before or on admission, which are more frequent than the previous report on older hospitalized-patients. 2 , 10 Patient-8 developed diarrhea before admission. About 11% of SARS-CoV 14 and 30% of MERS-CoV patients 15 also had diarrhea. None of the abovementioned symptoms was present in all youngsters. Notably, two youngsters presented with eye-discomfort on admission (one had itchy-eyes as the very initial symptom) and one with backache at illness-onset, which appears to not have been observed in older patients. 2 , 10 For the six youngsters showing pneumonia on admission, multifocal ground-glass opacities typical of viral-pneumonia on chest-CT-scans were frequently seen, while their lung-involvement was much milder and more local and limited than older patients. 2 , 10 Unlike older patients typically having bilateral-pneumonia, 2 , 10 the pneumonia youngsters mostly had showed unilateral lunginvolvement on admission.',\n",
              " 'Regarding laboratory-examinations, two patients had leucopenia. The absolute neutrophil-counts were reduced in the same two patients, while they were elevated in another patient. Furthermore, lymphopenia occurred in two patients, and two youngsters had both elevated red-blood-cell-count and hemoglobin level. These changes were not consistent with the previous report on older patients with more severe conditions. 10 These may suggest diverse immune-status against the virus. Neutrophilia may be related to cytokine-storm induced by SARS-CoV-2 invasion. Compared with SARS-CoV-2-negative contacts, SARS-CoV-2-positive patients had fewer lymphocytes and higher fibrinogen and C-reactive-protein levels. These suggest that SARS-CoV-2-infection may be associated with deficiency in immune-function and activation of coagulation, which could have been related to inflammatory-response.',\n",
              " 'As of February 20, 2020, none of the eight young patients had dyspnea, developed any severe clinical-conditions, complications, or adverse-outcomes, were admitted to an intensive-care-unit, required machine-ventilation, or died, which is largely different from the findings in older patients. 2 , 3 , 10 They mostly remained stable during hospitalization. These suggest that age, comorbidity, and symptoms on illness-onset or admission may be important prognostic factors.',\n",
              " 'Our study has some limitations. First, the case number is limited, which necessitates the cautious interpretation of the generalizability of our findings. Collection of data for a larger cohort would help to enable a more comprehensive understanding of COVID-19 among youngsters. Second, the route of transmission was not totally clear. While the most likely one was via droplets or aerosol or airborne, we did not collect urine or fecal samples, which prevented us from analyzing whether COVID-19 could be transmitted through the fecal-oral pathway. Third, the relative-risk of infection among youngsters compared to older individuals and the association of timing or mode of manifestations and CT and laboratory findings with disease-course, outcomes, and spread need to be further evaluated. Fourth, the serum of patients and contacts was not obtained to evaluate possible viremia. Respiratory-tract samples were used to diagnose COVID-19 through rRT-PCR according to the guidelines, 1 , 16-19 and they have a higher positive rate than blood and other samples and are more clinically and epidemiologically relevant. 20 There could have been transient viremia in the SARS-CoV-2-negative contacts, which was not captured on admission. The corresponding epidemiological and clinical significances need to be further clarified.',\n",
              " 'Patients 2, 3, and 8; the other patients remain in hospital. Values shown in bold indicate abnormal ones. ↑ , above the upper limit of the normal range; ↓ , below the lower limit of the normal range; -, not applicable; Y, Yes; N, No; rRT-PCR, real-time reverse-transcriptase polymerase-chain-reaction. Please cite this article as: L. Huang, X. Zhang and X. Zhang et al., Rapid asymptomatic transmission of COVID-19 during the incubation period demonstrating strong infectivity in a cluster of youngsters aged 16-23 years outside Wuhan and characteristics of young patients with COVID-19: A prospective contact-tracing study, Journal of Infection, https://doi.org/10.1016/j.jinf.2020.03.006 Representative transverse chest computed tomography scan images . (A) Day 1 after illness onset for Patient Index. A few infiltrates (slight slice-like shadow with increased density) in the lower lobe of the right lung were seen. (B) Day 3 after illness onset for Patient Index. In the peripheral zones of both lungs, scattered ground-glass opacities with fuzzy edges were seen, suggesting bilateral pneumonia with highly likely viral nature. (C) Day 2 after illness onset for Patient 3. A few infiltrates and ground-glass opacities were detected in the lower lobe of left lung. (D) Day 3 after illness onset for Patient 4. Ground-glass opacities and infiltrates in the right lung were observed. (E) Day 2 after illness onset for Patient 7. Small patchy and mottling high-density sub-pleural shadows were seen in the upper lobe of left lung. (F) Day 5 after illness onset for Patient 7. The left upper lung lesion progressed. Antiviral therapy started. (G) Day 13 after illness onset for Patient 7. Patchy blurring infiltrates in the peripheral parts of the left lung with obscure boundary remained. (H) Day 21 after illness onset for Patient 7. The patchy ground-glass density shadows and infiltrates with fuzzy edges in the left lung had been obviously absorbed. (I) Day 3 after illness onset for Patient 8. Few strip-like shadows with uneven density were seen in both lungs. (J) Day 6 after illness onset for Patient 8. Multifocal ground-glass density shadows and opacities in the peripheral parts of both lungs were observed. Antiviral therapy started. (K) Day 14 after illness onset for Patient 8. The multiple patchy high-density shadows consistent with novel coronavirus pneumonia with unclear boundary seen in the peripheral parts of both lungs progressed. (K) Day 18 after illness onset for Patient 8. Absorption of pneumonia lesions in both lungs was observed compared to the previous scan.',\n",
              " '-2-positive patients than the SARS-CoV-2-negative contacts (p = 0.042). Initial fibrinogen-concentrations were higher in the patients (p = 0.019). Levels of sodium were lower in the Please cite this article as: L. Huang, X. Zhang and X. Zhang et al., Rapid asymptomatic transmission of COVID-19 during the incubation period demonstrating strong infectivity in a cluster of youngsters aged 16-23 years outside Wuhan and characteristics of young patients with COVID-19: A prospective contact-tracing study, Journal of Infection, https://doi.org/10.1016/j.jinf.2020.03.006 ARTICLE IN PRESS JID: YJINF [m5G; April 17, 2020;1:18 ] continued on next page ) Please cite this article as: L. Huang, X. Zhang and X. Zhang et al., Rapid asymptomatic transmission of COVID-19 during the incubation period demonstrating strong infectivity in a cluster of youngsters aged 16-23 years outside Wuhan and characteristics of young patients with COVID-19: A prospective contact-tracing study, Journal of Infection, https://doi.org/10.1016/j.jinf.2020.',\n",
              " 'Index/1 is a 22-year-old overweight otherwise-healthy male-nonsmoker and a Wuhan company-employee. He took the high-speed-rail leaving Wuhan in the morning on January 19, Please cite this article as: L. Huang, X. Zhang and X. Zhang et al., Rapid asymptomatic transmission of COVID-19 during the incubation period demonstrating strong infectivity in a cluster of youngsters aged 16-23 years outside Wuhan and characteristics of young patients with COVID-19: A prospective contact-tracing study, Journal of Infection, https://doi.org/10.1016/j.jinf.2020.03.006 Demographic and baseline characteristics of the eight young patients with confirmed 2019 novel coronavirus disease as of February 17, 2020 Symptoms, signs, radiological findings, treatment, and outcomes of the young cluster infected with the 2019 novel coronavirus disease.',\n",
              " \"Laboratory findings of the young cluster with the 2019 novel coronavirus disease, on admission to hospital 1 . Laboratory findings for Patient 6 whose blood was initially examined in the Hefei City Infectious Disease Hospital have not been obtained. Summary data are count/total number of patients with available data (percentage) for abnormal values.-, not available; ↑ , value above the upper limit of the normal range; ↓ , value below the lower limit of the normal range;AN, all measured values were within normal range; FDCPH, Feidong County People's Hospital; FAHAMU, First Affiliated Hospital of Anhui Medical University. Please cite this article as: L. Huang, X. Zhang and X. Zhang et al., Rapid asymptomatic transmission of COVID-19 during the incubation period demonstrating strong infectivity in a cluster of youngsters aged 16-23 years outside Wuhan and characteristics of young patients with COVID-19: A prospective contact-tracing study, Journal of Infection, https://doi.org/10.1016/j.jinf.2020.03.006 Close contacts of the index patient admitted to hospital and testing negative for SARS-CoV-2 on rRT-PCR for at least two times.\",\n",
              " 'Please cite this article as: L. Huang, X. Zhang and X. Zhang et al., Rapid asymptomatic transmission of COVID-19 during the incubation period demonstrating strong infectivity in a cluster of youngsters aged 16-23 years outside Wuhan and characteristics of young patients with COVID-19: A prospective contact-tracing study, Journal of Infection, https://doi.org/10.1016/j.jinf.2020.03.006 None.',\n",
              " '. CC-BY-NC-ND 4.0 International license It is made available under a perpetuity.',\n",
              " 'is the author/funder, who has granted medRxiv a license to display the preprint in (which was not certified by peer review) preprint is the author/funder, who has granted medRxiv a license to display the preprint in (which was not certified by peer review) preprint is the author/funder, who has granted medRxiv a license to display the preprint in (which was not certified by peer review) preprint . CC-BY-NC-ND 4.0 International license It is made available under a perpetuity.',\n",
              " 'The copyright holder for this this version posted March 16, 2020 . . https://doi.org/10.1101 /2020  The 2019-novel coronavirus (2019-nCoV) infection has spread worldwide rapidly since its outbreak from Wuhan city in China in early December 2019 [1] . The epidemic of 2019-nCoV has been declared as a public health emergency of international concern by World Health Organization (WHO) on January 30, 2020 [2].',\n",
              " 'Up to date, 80904 cumulative laboratory-confirmed cases have been reported in [4] . The clinical characteristics of adult patients with COVID-19 have been revealed in recent studies, mainly including fever, cough, dyspnea, and radiographic findings of pneumonia [5] [6] [7] . However, the information of paediatric patients remains unclear.',\n",
              " 'This case series describes the clinical and epidemiological features of 34 paediatric patients on the basis of epidemiological, demographic, laboratory as well as radiological data, and aims to contribute to a comprehensive understanding of the characteristics of COVID-19.',\n",
              " 'This retrospective, observational study was approved by the institutional review is the author/funder, who has granted medRxiv a license to display the preprint in (which was not certified by peer review) preprint The copyright holder for this this version posted March 16, 2020. . https://doi.org/10.1101/2020.03.12.20034686 doi: medRxiv preprint 6 positive results were included in the study from 4 hospitals of China during January 1 to February 23, 2020. And the final follow-up visit was completed by February 28, 2020. Informed consent was obtained from the patients and their guardians prior to data collection.',\n",
              " 'Patchy lesions in lung lobules were indicated by chest CT scans in 28 patients (82.36%) on admission. However, lesions in lobules were detected in 4 -5 days after admission for 5 cases (14.71%) among the patients with normal initial CT image on admission. There was only 1 case (2.94%) without abnormal radiological finding during hospitalization. Moreover, unilateral lesions were detected in 14 patients (41.18%), while bilateral lesions were shown in 14 patients (41.18%) ( Table 3 ). The typical features of lesions were presented with patchy shadows of high density in lobules (Fig 2) .',\n",
              " 'This case series described the clinical and epidemiological characteristics in paediatric patients with COVID-19. Our data presented the clinical features of paediatric patients to facilitate early identification and intervention of suspected patients. Notwithstanding the relatively limited samples, our findings offer valuable insight into early diagnosis and epidemic control of COVID-19 in children.',\n",
              " 'The medical records of included patients were accessed by study team for data collection. And the data was cross-checked by staff from the Institute of Drug Clinical Trial of Taihe Hospital for quality control. Specifically, demographic information, medical history, and exposure history were collected from patients and their guardians. Vital signs, physical exams, laboratory tests, and electroencephalogram (ECG) were performed and recorded in routine process for inpatient paediatric patients. Chest computed tomographic (CT) scans were performed to detect signs of pneumonia if any. In particular, other respiratory pathogens were detected for differential diagnosis screening, including influenza A virus, influenza B virus, parainfluenza virus, respiratory syncytial virus, adenovirus, epstein-barr virus, and mycoplasma pneumoniae. Therapeutic information was also collected from electronic medical records. In addition, the median incubation period and disease course were analysed for epidemiological and clinical features of paediatric patients with COVID-19.',\n",
              " 'On admission, hematology tests indicated lymphocyte count was increased in 17 patients (50.00%), although the median value is the author/funder, who has granted medRxiv a license to display the preprint in (which was not certified by peer review) preprint The copyright holder for this this version posted March 16, 2020. . https://doi.org/10.1101/2020.03.12.20034686 doi: medRxiv preprint sensitivity C-reactive protein (hs-CRP) for 17 patients (58.62%). In addition, a noticeable increase was observed in lactate dehydrogenase (LDH) for 28 patients (82.35%) and α-hydroxybutyrate dehydrogenase (α-HBDH) for 25 patients (73.53%).',\n",
              " 'However, the results of creatine kinase (CK) and creatine kinase-MB (CK-MB) were in normal level for all patients (Table 2) , as well as ECG exam. No other significant findings were observed in blood coagulation tests, urine and stool routine tests.',\n",
              " 'Multimodality therapies were employed, including antibiotic therapy (88.24%), antiviral therapy (82.35%), interferon-α nebulization (82.35%), corticosteroid therapy (14.71%), and oxygen inhalation supportive therapy (8.82%) ( Table 3) .',\n",
              " 'Descriptive statistics were performed using SPSS software (version 20.0, IBM, Armonk, NY, USA). No imputation was made for missing data. Categorical variables . CC-BY-NC-ND 4.0 International license It is made available under a perpetuity.',\n",
              " 'is the author/funder, who has granted medRxiv a license to display the preprint in (which was not certified by peer review) preprint The copyright holder for this this version posted March 16, 2020 . . https://doi.org/10.1101 /2020 8 are presented as number and frequency rates, and continuous variables are presented as median and interquartile range (IQR).',\n",
              " \"Samples for pathogen detection were obtained from throat swab or lower respiratory is the author/funder, who has granted medRxiv a license to display the preprint in (which was not certified by peer review) preprint The copyright holder for this this version posted March 16, 2020. . https://doi.org/10. 1101 /2020 nCoV nucleic acid detection were analyzed following the manufacturer's instructions.\",\n",
              " 'Specifically, a test result with a cycle threshold value (Ct-value) ≤ 38 and a significant amplification curve was defined as positive. And a negative result was defined with a Ct-value > 38. Retesting was required in cases other than those mentioned above. Besides, negative cases were double checked by re-sampling and retesting with an interval as 24 h, and could be confirmed when negative results were obtained in 2 consecutive tests.',\n",
              " '• We collected and analyzed clinical data of 34 paediatric patients with coronavirus disease-2019 (COVID-19) in 4 hospitals of China from January 1 to February 25, 2020.',\n",
              " '• We described the clinical and epidemiological features of the patients, and focused on the differences in initial symptoms and radiological findings between paediatric patients and adult patients.',\n",
              " '• Distinguished from adult patients, higher incidences of fever, vomiting, and diarrhea were noticed on admission in paediatric cases. is the author/funder, who has granted medRxiv a license to display the preprint in (which was not certified by peer review) preprint The copyright holder for this this version posted March 16, 2020 March 16, . . https://doi.org/10.1101 March 16, /2020 doi: medRxiv preprint 4 • Patchy shadows of high density were common in lobules lesions, while the typical features of ground-glass opacity in adults were rare in paediatric cases.',\n",
              " '• A late-onset pattern of lobules lesions was revealed on the basis of chest computed tomographic scans.',\n",
              " \"As mentioned in the literature review, the morbidity of COVID-19 was reported as 0.9% among children age 0 -14 [1] . However, the clinical and epidemiological characteristics of paediatric patients haven't been determined clearly yet. So far, this is the largest case series to present the clinical and epidemiological characteristics in children with COVID-19, as well as the first study to analyze the clinical features in is the author/funder, who has granted medRxiv a license to display the preprint in (which was not certified by peer review) preprint The copyright holder for this this version posted March 16, 2020 . . https://doi.org/10.1101 /2020 paediatric patients systematically.\",\n",
              " 'Our findings in paediatric patients indicated several features distinguished from adult patients, concerning epidemiological data, characteristics, initial symptoms, laboratory tests, and CT findings. In respect to exposure history, up to 72.30% of non-residents of Wuhan had contact with residents of Wuhan [1] . Thus, close contact with residents of Wuhan was indicated as a high risk factor for transmission in adult patients. However, a considerable proportion of patients (47.60%) were noticed without any exposure history in our study. The unanticipated finding suggested the referential value of exposure history for diagnosis of COVID-19 should be considered carefully for paediatric patients. In addition, family cluster transmission was common in paediatric patients. Close dynamic monitoring for families with adult patients would contribute to early identification for paediatric patients. In accordance with the features of indirect contact exposure, the incubation period was 10.50 (7.75 -25.25) days in paediatric patients, while 4.00 (2.00 -7.00) days of incubation was revealed for patients in all age groups [1] . The epidemiological features of paediatric patients indicated dynamic observation was necessary for suspected cases in children due to extended incubation period.',\n",
              " 'Dramatically, infections of other respiratory pathogens were detected in 16 patients (47.06%), however negative results were shown for these pathogens in adult patients [6] . In alignment with the results of pathogens detection, a response to viral infection was indicted by laboratory tests. Increasing lymphocyte count was detected in 17 (50.00%) patients. The levels of SAA and hs-CRP were increased.',\n",
              " 'Meanwhile, decreasing level of prealbumin was noticed.',\n",
              " 'Basically, mild cases were common in paediatric patients with COVID-19 [1] , presenting with acute upper respiratory tract infection or mild pneumonia. Generally, . CC-BY-NC-ND 4.0 International license It is made available under a perpetuity.',\n",
              " 'is the author/funder, who has granted medRxiv a license to display the preprint in (which was not certified by peer review) preprint The copyright holder for this this version posted March 16, 2020 . . https://doi.org/10.1101 /2020 comorbidities were considered to predict the clinical outcomes. In our study, comorbidities were found in 6 patients (17.65%), similar to that in adult patients with mild symptoms (21.00%) [1] . In addition, effective control of disease was attributed to the prompt access to medical care in paediatric patients. Intervention before admission was reported in 30 patients (88.24%) upon initial symptom onset. And the median duration was 2.00 (1.00 -3.50) days from symptom onset to admission.',\n",
              " 'Typically, initial symptoms were valuable to predict the suspected cases. The most common initial symptom, fever, was identified in 26 children (76.47%) in our study, however it was presented in only 43.8% of adults patients on admission [1] . Besides, vomiting (11.76%) and diarrhea (11.76%) were also complained on admission, which were more common than that in adult patients (5.00% for vomiting and 3.80% for diarrhea) [1] . Consistent with previous reports for adults [1, 6] , the levels of LDH and α-HBDH were increased remarkably without any symptom or sign of myocardial impairment.',\n",
              " 'According to our current data in chest CT images, patchy shadows were detected in 82.36% of patients on admission, in accordance with that in adults (86.20%) [1] . We also noticed the lesions in lobules were characterized with patchy shadows of high density in most cases (97.06%). Meanwhile, the typical feature of ground-glass opacity in adults (56.4%) [1] was rare in paediatric patients (2.94%). It was noteworthy that lesions in lobules would develop promptly in a few days, since they could be shown initially in some cases (14.71%) in 4 -5 days after admission.',\n",
              " 'The late-onset pattern of lesions was indicated in initial CT scan after 6 -12 days upon symptom onset [11] . However, the clinical presentations were not so aggressive as the signs shown in CT images. Nonetheless, our findings suggested a close monitoring for paediatric patients due to the aggressive development of lesions . CC-BY-NC-ND 4.0 International license It is made available under a perpetuity.',\n",
              " 'is the author/funder, who has granted medRxiv a license to display the preprint in (which was not certified by peer review) preprint The copyright holder for this this version posted March 16, 2020 . . https://doi.org/10.1101 /2020 in lobules, and the late-onset pattern in some cases as well.',\n",
              " \"The therapeutic strategy was on the basis of antiviral and antibiotic therapies, which was in alignment with the recommendations of National Health Commission of the People's Republic of China [12] . The patients recovered from fever in 3.00 (2.00 -4.00) days upon admission after treatments. The lesions in lobules still existed in discharge of patients, although great improvements were shown in CT scans after treatments.\",\n",
              " 'The current study was limited by small sample size due to low morbidity in paediatric patients. The small sample size did not allow for intensive epidemiological analysis and stratified analysis of the clinical features. Further information in this field would help us to figure out a whole picture of COVID-19.',\n",
              " 'In this case series, data from 34 paediatric patients with COVID-19 were analyzed, including 14 male patients (41.18%) and 20 female patients (58.82%). and expectoration (20.59%) were complained most frequently. Meanwhile, tachypnea, vomiting, and diarrhea were reported as well (Table 1) . Regarding the disease course, the median incubation period was 10.50 (7.75 -25.25) days.',\n",
              " 'Moreover, the median day was 2.00 (1.00 -3.50) from symptom onset to admission, and 3.00 (2.00 -4.00) between admission and recover from fever (Fig. 1) .',\n",
              " '-2019 (COVID-19) globally. The clinical and epidemiological characteristics of adult patients have been revealed recently. However, the information of paediatric patients remains unclear. We describe the clinical and epidemiological characteristics of paediatric patients to provide valuable insight into early diagnosis of COVID-19 in children, as well as epidemic control policy making. Methods and Findings This retrospective, observational study was a case series performed at 4 hospitals in the west of China. Thirty-four paediatric patients with COVID-19 were included from January 1 to February 25, 2020. And the final followup visit was completed by February 28, 2020. Clinical and epidemiological characteristics were analyzed on the basis of demographic data, medical history, laboratory tests, radiological findings, and treatment information. Data analysis was performed on 34 paediatrics patients with COVID-19 aged from 1 to 144 months (median 33.00, IQR 10.00 -94.25), among whom 14 males (41.18%) were included.',\n",
              " 'Our data presented the clinical and epidemiological features of paediatric patients systemically. The findings offer new insight into the early identification and intervention of paediatric patients with COVID-19. Key words Coronavirus disease-2019, 2019-novel coronavirus, Children, Clinical characteristics Author summary Why was this study done? • The 2019-novel coronavirus (2019-nCoV) infection has spread worldwide rapidly. • Early identification and intervention are necessary for effective epidemic control in both adults and children, however the clinical and epidemiological characteristics of paediatric patients remains unclear.',\n",
              " 'The epidemiological model in children was characterized with dominant family cluster transmission and extended incubation period, which should be taken into consideration in policy making for epidemic control.',\n",
              " 'The median age was 33 (IQR 10.00 -94.25) months with a range of 1 to 144 months. Eighteen patients (52.40%) had exposure to residents of Wuhan, among whom history of close contact was reported in 13 patients (72.22%). In particular, infections of other respiratory pathogens were reported in 16 patients (47.06%), including mycoplasma pneumoniae (26.47%), influenza B virus (17.65%), influenza A virus (8.82%), respiratory syncytial virus (5.88%), epstein-barr virus (5.88%), parainfluenza virus (2.94%), and adenovirus (2.94%). Comorbidities were reported in 6 patients (17.65%). In respect of initial symptoms and signs, fever (76.47%), cough (58.82%), The copyright holder for this this version posted March 16, 2020. . https://doi.org/10.1101/2020.03.12.20034686 doi: medRxiv preprint . CC-BY-NC-ND 4.0 International license It is made available under a perpetuity.',\n",
              " 'The copyright holder for this this version postedMarch 16, 2020.  .  https://doi.org/10.1101/2020 Wuhan, China [published onlineFebruary 7, 2020]. JAMA. 2020;doi: 10.1001/jama.2020.1585 PMID: 32031570. 8. who.int [Internet]. Clinical management of severe acute respiratory infection when novel coronavirus (2019-nCoV) infection is suspected [cited 2020 Mar Pediatric Branch of Hubei Medical Association, Pediatric Branch of Wuhan Medical Association, Pediatric Medical Quality Control Center of Hubei. Recommendation for the diagnosis and treatment of novel coronavirus infection in children in Hubei (Trial version 1). CJCP. 2020;22(2):96-99. 10. nhc.gov.cn [Internet]. Prevention and control strategy of 2019-novel coronavirus (version 5) [cited 2020 Mar 10]. Available from: http://www.nhc.gov.cn/jkj/s3577/202002/a5d6f7b8c48c451c87dba14889b301 47.shtml. 11. Bernheim A, Mei X, Huang M, Yang Y, Fayad ZA, Zhang N, et al. Chest CT findings in coronavirus disease-19 (COVID-19) relationship to duration of infection [published online February 20, 2020]. RADIOLOGY. 2020;doi: 10.1148/radiol.2020200463 PMID: 32077789. 12. nhc.gov.cn [Internet]. National recommendations for diagnosis and treatment of COVID-2019 (version 6) [cited 2020 Mar 10]. Available from: http://www.nhc.gov.cn/yzygj/s7653p/202002/8334a8326dd94d329df351d7da8 aefc2/files/b218cfeb1bc54639af227f922bf6b817.pdf. . CC-BY-NC-ND 4.0 International license It is made available under a perpetuity.',\n",
              " 'Laboratory Findings of Patients on Admission (n=34)Abbreviations: ALT, alanine aminotransferase; AST, aspartate aminotransferase; CK, creatine kinase; CK-MB, creatine kinase-MB; ESR, erythrocyte sedimentation rate; hs-CRP, high-sensitivity C-reactive protein; IQR, interquartile range; LDH, lactate dehydrogenase; SAA, serum amyloid A; α-HBDH, α-hydroxybutyrate dehydrogenase To facilitate introducing the modified model fitting algorithm we first remind the reader of the standard maximum likelihood method 2 , which relies upon the n k 1 limit for all time intervals k, the limit where a Poisson distribution of counts tend to a Gaussian with equality between variance and mean. Thus the 2 The maximum likelihood method only works when there is independence of measurement intervals. Thus it is incorrect to apply the model to fitting the data of a cumulative (or integral) distribution, in which the counts of previous intervals affect the later ones.',\n",
              " '. CC-BY-NC-ND 4.0 International license It is made available under a author/funder, who has granted medRxiv a license to display the preprint in perpetuity.',\n",
              " 'is the (which was not peer-reviewed) The copyright holder for this preprint . https://doi.org/10.1101/2020.04.14.20065896 doi: medRxiv preprint . CC-BY-NC-ND 4.0 International license It is made available under a author/funder, who has granted medRxiv a license to display the preprint in perpetuity.',\n",
              " 'In the current investigation we included only those COVID-19 patients who stayed in Hubei for at most two calendar days. The day of exposure was taken as the first day to Hubei if the patient stayed in Hubei for one calendar day; or 20 as the middle of the first and second day in Hubei if the patient stayed for two calendar days. By excluding COVID-19 patients who stayed in Hubei for more than two days, one can better define the the day of exposure. The incubation period for each COVID-19 patient is inferred as the number of days between exposure and symptom onset. 25  . CC-BY-NC-ND 4.0 International license It is made available under a author/funder, who has granted medRxiv a license to display the preprint in perpetuity.',\n",
              " \"is the (which was not peer-reviewed) The copyright holder for this preprint . https://doi.org/10.1101/2020.04.14.20065896 doi: medRxiv preprint likelihood of a match between the number of counts n k predicted by the model 70 and observational datan k for all incubation time intervals k is given by the conditional probability and one's task is to maximize P (data|model) w.r.t. the model parameters α, β, γ, · · ·, where m is the total number of time intervals spanned by the data. If the number of counts per bin does not satisfy n k 1, however, the distribution 75 of counts will not be normal, i.e. it will not be genuinely Poisson, in which case the expression on the right side of (6) is not strictly valid. In this limit, which does apply to the second of our two age groups (viz. 65 -86 of age), one should use likelihood ratios [7] instead of (6), but because the difference between the two output parameter values are small compared to their uncertainties there is 80 no real advantage in deviating from (6); we simply feel that for completeness sake this subtle point should be mentioned.\",\n",
              " 'the procedure would be equivalent to solving Thus there are 3 equations in 3 unknowns, and the minimization process is fully deterministic.',\n",
              " 'If, as mentioned above, the total incubation time mτ 0 spanned by the entire database is not long enough to clinch the full extent of the log normal distri-90 bution, one will have to constrain the fitting procedure to ensure that the area under the log normal is exactly equal to the total number of cases N over the time mτ 0 . The specific question one seeks to answer here is: given there are 5 . CC-BY-NC-ND 4.0 International license It is made available under a author/funder, who has granted medRxiv a license to display the preprint in perpetuity.',\n",
              " \"is the (which was not peer-reviewed) The copyright holder for this preprint . https://doi.org/10.1101/2020.04.14.20065896 doi: medRxiv preprint N cases to be randomly distributed into m time intervals in accordance with a prescribed set of average proportions {n k }, k = 1, 2, · · · , m satisfying n 1 + n 2 + · · · + n m = N, and n k = n k (n 0 , µ, σ), how would one tune n 0 , µ, and σ to maximize the likelihood of the hypothetical distribution agreeing with the data, when Poisson counting uncertainties in the latter are taken into account? Note that the model for n k does not have to cut off at k = m, i.e. (9) is merely there to enforce the equality between expected and actual total number of cases within the full 100 range of incubation times available to the study. In this way, one is obliged to respect only those 'in range' parameter values ensuing from the best fit model.\",\n",
              " 'Thus one would now extremize the statistic  where the vanishing of the last partial derivative enforces the area (λ is a La-105 grange multiplier). Once again there are 4 equations solving for 4 unknowns, and the number of free parameters is reduced from the previously 3 to currently 2 (note however that the area constraint is not as simple as fixing n 0 ; note also that the degrees of freedom of the whole problem is increased from the m − 3 to m − 2).',\n",
              " 'Turning to the confidence interval for an interested parameter η(n k ) = η(µ, σ, n 0 ), such as the expected (arithmetic) mean incubation time within the observation interval mτ 0 , one could re-extremize F subject to yet another additional constraint which ensures η equals some fixed value η 0 by invoking one more Lagrange multiplier 115 6 . CC-BY-NC-ND 4.0 International license It is made available under a author/funder, who has granted medRxiv a license to display the preprint in perpetuity.',\n",
              " 'is the (which was not peer-reviewed) The copyright holder for this preprint .',\n",
              " 'and requiring The resulting increase in χ 2 w.r.t. (11), ∆χ 2 , is also χ 2 distributed with one degree of freedom, because the extra constraint enforced by ν has likewise increased the degrees of freedom by one 3 . Thus, to obtain the 95 % confidence 120 interval in η, one needs to find the value of η 0 such that (14) leads to a χ 2 increase of ∆χ 2 = 3.8. This procedure applies if η is a mean, variance, or quantile, or any other attribute of the distribution.',\n",
              " 'By adopting the aforementioned procedure, we obtained the best-fit parameters as shown in Table 1 , the goodness of fit in Figures 1 and 2 , cumulative 125 frequencies in Figures 3 and 4 , and 95 % confidence contours in Figure 5 , for the two age groups 15-64 and > 65.',\n",
              " 'beyond which one ran out of data even though the differential case histogram has not yet peaked ( Figure 3 ). This indicates the potential of much longer author/funder, who has granted medRxiv a license to display the preprint in perpetuity.',\n",
              " 'is the (which was not peer-reviewed) The copyright holder for this preprint . https://doi.org/10.1101/2020.04.14.20065896 doi: medRxiv preprint  . CC-BY-NC-ND 4.0 International license It is made available under a author/funder, who has granted medRxiv a license to display the preprint in perpetuity.',\n",
              " 'is the (which was not peer-reviewed) The copyright holder for this preprint . https://doi.org/10.1101/2020.04.14.20065896 doi: medRxiv preprint  The two age groups being analyzed are clearly distinct samples. For the 15 -64 age group, the median incubation time of 7.00 +1.10 −0.90 days (uncertainties 130 are 95 % CL, see Table 1 ) is broadly consistent with previous measurements [2, 3, 4, 5, 6] . For the 65-90 age group, the median is 10.9 +2.7 −2.0 days is statistically significantly longer. The other equally importantly point is, as revealed by the open confidence contour in Figure 5b, Table 1 : Parameters of the best log normal fit to the two age groups. µ and σ are as defined in (3); while the other parameters are calculated by applying the best-fit model to the incubation time range of 17 days, which is the full range spanned by the data (true for both age groups).',\n",
              " 'The information on each parameter comprises an expectation value sandwiched between the lower and upper uncertainty limit, both of which are 95 % confidence (note that for the 65+ age group their upper µ and σ uncertainties are not constrained by the data, because the data have not revealed the other side of the peak of the differential probability distribution, see As will be shown below, the distribution of incubation times may adequately be fitted with a log normal distribution for the two age groups mentioned above, 2 . CC-BY-NC-ND 4.0 International license It is made available under a author/funder, who has granted medRxiv a license to display the preprint in perpetuity.',\n",
              " 'or, equivalently, both ln(1 + r) and ln τ are additive variates. Moreover, if 35 ln(1 + r j ) is normally distributed because 1 + r j itself is a geometrically many times averaged growth rate of the virus inside the human body (i.e. the Central Limit Theorem may apply to ln(1 + r j )), the distribution of τ j would then be a log normal 1 of (arithmetic) mean µ and standard deviation σ. Thus the expected number of cases within some incubation time interval k, or incubation 40 time τ k = kτ 0 , is with the coefficient 1/τ k originating from the relationship between logarithmic and linear intervals, viz. d ln τ = dτ /τ .',\n",
              " 'The applicability of the log normal model to the Covid-19 incubation times distribution compels one to calculate the mean incubation time as the geometric 45 mean (2) at least as an alternative, as we shall do in the following section.',\n",
              " '1 Under this assumption one can also derive (3) without enlisting the Central Limit Theorem, by consideration the viral interaction with the human body as a thermodynamic process with a fixed mean and variance, i.e. one which maximizes the Entropy − j p j ln p j subject to the constraints p j = 1, j p j ln τ j = µ, and j p j (ln τ j ) 2 = σ 2 + µ 2 .',\n",
              " '3 . CC-BY-NC-ND 4.0 International license It is made available under a author/funder, who has granted medRxiv a license to display the preprint in perpetuity.',\n",
              " 'is the (which was not peer-reviewed) The copyright holder for this preprint .',\n",
              " '. CC-BY-NC-ND 4.0 International license It is made available under a author/funder, who has granted medRxiv a license to display the preprint in perpetuity.',\n",
              " 'is the (which was not peer-reviewed) The copyright holder for this preprint . https://doi.org/10.1101/2020.04.14.20065896 doi: medRxiv preprint probability of null hypothesis rejection). Note however that for this age group the data have not revealed the other side of the peak of the differential probability distribution.',\n",
              " '. CC-BY-NC-ND 4.0 International license It is made available under a author/funder, who has granted medRxiv a license to display the preprint in perpetuity.',\n",
              " 'w.r.t. the model parameters α, β, γ, · · ·, where n k ≡ n k (α, β, γ, · · ·) is the num-50 ber of cases for incubation time interval k as expected by the model,n k is the observed number of cases, and σ 2 k = n k is the expected model variance assuming Poisson fluctuation in the case counts. In the case of the currently scrutinized log normal model distribution consisting of three parameters α = µ, β = σ, and γ = n 0 (where µ, σ, and n 0 are as in (3)), 95 % confidence intervals δµ, δσ, and 55 δn 0 for the best-fit parameters may be inferred from the ∆χ 2 criterion discussed below. For a log normal quantile q = q(m) = e µ+mσ , ∆χ 2 also yields δq. Yet an alternative method is to take advantage of the independence of µ and σ in the model by writing It turns out, however, that the fitting technique of (4) leads to large uncertainties 60 in some parameters of interest, including those computed within the dynamic range of incubation times as set by the data. This is especially the case for the second of the two age groups, consisting of age 65-86 years patients, where the incubation time span of the model is significantly wider than the data. Below we present a slight variation of the method in (4) which avoids the problem.',\n",
              " '. CC-BY-NC-ND 4.0 International license It is made available under a author/funder, who has granted medRxiv a license to display the preprint in perpetuity.',\n",
              " 'the incubation time we report below is significantly longer. For nearly every city in China, daily information on list of COVID-19 cases is released officially to the Chinese social media WeChat accounts of respective cities. However, only a minority of cities include in their official release clear information on the day of symptom onset, which is required in estimating in-10 cubation period. We extracted the information so released between January 22 and February 15, 2020 and compiled a list of patients with COVID-19 who have traveled to Hubei, the origin of the COVID-19 pandemic, from cities which reported the day of symptom onset. The supplementary Excel file containing these raw data on COVID-19 cases reported from 21 cities of China outside 15 Covid-19 incubation time for age 65-86 years old patients. It should also be pointed out that we attempted another model, viz. the Gumbel (or log Weibull) 140 distribution, to see if the situation improves, but the goodness-of-fit turns out to be worse than the log normal (see the caption ofFigure 3for details). Indeed, only a larger sample for this age group can settle the question of the true median incubation time by clinching the tail of the distribution, equivalently by closing the 95 % CL contour ofFigure 5b.',\n",
              " 'Best fit log normal distribution of the 15-64 age group is plotted against the data.Vertical error bars are the Poisson √n k uncertainties in the counts, while horizonal bars mark the duration of 1 day for each time bin. The goodness-of-fit is given by χ 2 = 9.44 for 15 d.o.f., or a 85.3 % probability of rejecting the null hypothesis (namely the hypothesis that the match between data and model occurred purely by random chance).',\n",
              " 'Best fit log normal distribution of the 65-86 age group is plotted against the data. Vertical error bars are the Poisson √n k uncertainties in the counts, while horizonal bars mark the duration of 1 day for each time bin. The goodness-of-fit is given by χ 2 = 7.85 for 15 degrees of freedom, or a 93.0 % probability of null hypothesis rejection (for comparison the Gumbel (log Weibull) model scored, under the same fitting criteria, χ 2 = 8.17, or 91.7 % Cumulative frequency distribution for the 15-64 age group. Solid line is the best-fit log normal model for the differential distribution, while dotted lines mark the 95 % confidence (or ∆χ 2 = 3.8 for one degree of freedom, see text) uncertainties of the model. Vertical error bars for the data are Poisson counting fluctuations (1-σ, and correlated among the time bins because of the accumulation of counts), while horizonal bars mark the duration of 1 day for each time bin.',\n",
              " 'Cumulative frequency distribution for the 15-64 age group. For more information see the caption of the previous graph.',\n",
              " '95 % (i.e. χ 2 + 3.8) confidence contours identifying the likelihood of pairs of µ and σ values. The central black dot locates the best fit model. Note the upper limits of both model parameters are unconstrained by the data in the case of the 65-86 age group.',\n",
              " 'Selected demographic and clinical characteristics of pediatric (aged <18 years) and adult inpatients with laboratory-confirmed human metapneumovirus infection-six hospitals, North Dakota, July 31, 2015-May 26, 2016 The COVID-19 spread even shows that persons without any symptoms or clinically negative in infection can still spread it to others. There is no official vaccine or antiviral drug available up to now (Jan 30, 2020) to treat COVID-19 infected patients [3] [4] . The outbreak of COVID-19 infection is forcing China and many countries to take harsh protection policies. More than eight-thousands of infections have been reported in China and more than a dozen of countries until Jan 30, 2020. More than 15 cities including Wuhan have been quarantined to halt the spread of the COVID-19. It is expected that millions of people can be on lockdown because of COVID-19. WHO declared the coronavirus outbreak a global health emergency on Jan 30, 2020.',\n",
              " 'It is essential to know the accurate incubation period of COVID-19 for the sake of deciphering dynamics of its spread. The incubation period is the time from infection to the onset of the disease. It provides the foundation for epidemiological prevention, clinical actions, and drug discovery. Different viruses have different incubation periods that determine their different dynamics epidemiologically. The incubation period of H7N9 (Human Avian Influenza A) is about 6.5 days, but the incubation period for SARS-CoV is typically 2 to 7 days [5] [6] . However, it remains unclear about its exact incubation period of COVID-19, although WHO estimates it is between 2 to 14 days after exposure [8] . It can be difficult to estimate the All rights reserved. No reuse allowed without permission. author/funder, who has granted medRxiv a license to display the preprint in perpetuity.',\n",
              " 'The copyright holder for this preprint (which was not peer-reviewed) is the . https://doi.org/10.1101/2020.02.24.20027474 doi: medRxiv preprint incubation period of COVID-19 by using original chain-of-infection data that may not be fully available in the Wuhan regions. Or data may lack meaningful exposure history. Furthermore, it is also unknown whether the incubation time will show some statistically significant with respect to Age and Gender. In this study, we aim to accurately estimate the incubation period of COVID-19 by taking advantage of datasets with a well-documented history of exposure. Our results show the incubation mean and median of COVID-19 are 5.84 and 5.0 days respectively and there is a statistical significance with the role of gender. However, the incubation periods of the groups with age>=40 years and age<40 years show a statistically significant difference. Our machine learning analysis also shows that the two groups are linearly separable that demonstrate a clear boundary in knowledge discovery visualization.',\n",
              " 'Pearson correlation coefficient analysis shows the R statistics is 0.244 with p-value: 0.06758. It suggests that that the incubation period is somewhat correlated with age though not that strong. To verify whether the incubation of the age>=40 group is different from that of the age<40 group statistically, Figure 3 compares All rights reserved. No reuse allowed without permission.',\n",
              " 'author/funder, who has granted medRxiv a license to display the preprint in perpetuity.',\n",
              " \"The copyright holder for this preprint (which was not peer-reviewed) is the . https://doi.org/10.1101/2020.02.24.20027474 doi: medRxiv preprint their incubation periods groups using different visualization tools. It indicates that the younger group tends to have a shorter incubation period. The variance of their incubation period also seems to be smaller. The Mann-Whitney rank test shows that there's a statistically significant difference between the incubation of age<40 and age>=40 groups with the null hypothesis: the medians of incubation period between two groups are the same. The p-values for corresponding alternative hypotheses: the age<40 group has a smaller incubation median is 0.00474. It suggests that the age<40 group has a shorter incubation period than the age>=40 group. Similarly, the Siegal-Tukey test indicates the younger group's incubation variance is less than the older group's by p-value: 0.0083. It may suggest COVID-19 has a faster but relatively constant spread speed among people <40 years old than people >=40 years old. Figure 4 illustrates biplots of the dataset by removing two cases with missing items by using PCA (principal component analysis), sparse PCA (sparse principal component analysis, t-SNE (t-distributed stochastic neighbor embedding), and LLE (locally linear embedding) [16] [17] [18] [19] . Data is partitioned as the age>=40 and age<40 groups in visualization. t-SNE shows that only one case in the age>=40 group falls in the cluster of the age < 40 group. But PCA, sparse PCA and LLE all show that the incubation of two groups is linearly separable, which means there exists an obvious linear boundary to separate them, in the subspaces generated by PCA, SPCA, t-SNE, or LLE. Such machine learning results indicate that the two groups are actually independent clusters spatially. However, we also find that the incubation data will no longer demonstrate the linear separability property when we partition it as age>=50 and age<50 groups or age>=55 All rights reserved. No reuse allowed without permission. author/funder, who has granted medRxiv a license to display the preprint in perpetuity.\",\n",
              " 'We propose a Monte Carlo simulation approach that takes advantage of bootstrap techniques to estimate incubation median and mean estimation for the small sample with 59 cases. It is more data-driven compared to traditional parametric approaches to handle parameter estimation for small datasets. The proposed Monte Carlo simulation assumes we have a collected small incubation dataset . We generate a All rights reserved. No reuse allowed without permission. author/funder, who has granted medRxiv a license to display the preprint in perpetuity.',\n",
              " 'The copyright holder for this preprint (which was not peer-reviewed) is the . https://doi.org/10.1101/2020.02.24.20027474 doi: medRxiv preprint large incubation sample * by concatenating n=1000 randomly sampled incubation segments *+ each of which contains at least entries in the interval [ ! , \" ] drawn independently from the existing dataset , i.e., * = ⋃ *+ .',\n",
              " 'We collected a dataset with 59 officially confirmed COVID-19 cases from 10 regions in China except for Hubei province, the assumed origin of the virus. The patient data was dated from Dec 29, 2019, to Feb 5, 2020. We only involved the officially confirmed cases with a clear history of exposure and time of onset in data collection. We exclude those without relevant epidemiological descriptions, working or living in Wuhan for a long time, or hard to determine the possible exposure time.',\n",
              " 'The estimated standard deviation . is calculated as the standard deviation of the median sequence ! , \" , ⋯ / . In our simulation, we chose = 100000, ! = 1, \" = 7, = .2 days in simulation and conduct simulations by employing Google Colab with TPU acceleration [9] [10] . The confidence level probability is calculated by the ratio / , where counts the times that * falls in the interval F . − 2 . , . + 2 . H in the simulation.',\n",
              " 'Similarly, we can estimate the population mean by using the same way where the large incubation sample mean is calculated as The population mean is estimated as = ! / ∑ * / *-! and the estimated standard deviation . According to the central limit theorem, the population mean will be subject to the normal distribution. The confidence interval probability is calculated by following the same procedure.',\n",
              " 'The copyright holder for this preprint (which was not peer-reviewed) is the . https://doi.org/10.1101/2020.02.24.20027474 doi: medRxiv preprint and age<55 groups. It suggests that age 40 can be a key age cutoff for the incubation of COVID-19 along with previous statistical analysis.  Our data consists of 34 male cases, 24 female cases and 1 unidentified gender case from ten regions in China.',\n",
              " 'All 59 cases have complete epidemiological descriptions about the history of exposure. The total 57 cases have complete information in age and gender One case from Beijing has unknown age. The mean and standard deviation of age are 41.9 and 13.2 years old. The mode of his dataset is 4.0 with 14 support cases.',\n",
              " 'The minimum and maximum age are 10 and 70 respectively. author/funder, who has granted medRxiv a license to display the preprint in perpetuity.',\n",
              " 'The copyright holder for this preprint (which was not peer-reviewed) is the . https://doi.org/10.1101/2020.02.24.20027474 doi: medRxiv preprint Table 1 shows incubation statistics for five different groups: Male, Female, Age>=40, Age <40, and All that include all cases. It indicates that the incubation period median and mean of patients more than 40 years old are greater than those of patients less than 40 years old. Similar patterns are also observed for male and female groups. The mean values are always larger than median values for each group suggests the rightskewed distributions of incubation. author/funder, who has granted medRxiv a license to display the preprint in perpetuity.',\n",
              " 'The copyright holder for this preprint (which was not peer-reviewed) is the . https://doi.org/10.1101/2020.02.24.20027474 doi: medRxiv preprint The incubation of COVID-19 is not subject to neither of the widely used incubation distributions such as normal, lognormal, Gamma, and Weibull distributions well [12] . We employ Shapiro-Wilk tests rather than Kolmogorov-Smirnov tests to conduct normality tests because we only have 59 records and Shapiro-Wilk tests can do a much better job on small datasets with a sample size of from 3 to 5000 [13] . Table 2 shows the All rights reserved. No reuse allowed without permission.',\n",
              " 'author/funder, who has granted medRxiv a license to display the preprint in perpetuity.',\n",
              " \"The copyright holder for this preprint (which was not peer-reviewed) is the . https://doi.org/10.1101/2020.02.24.20027474 doi: medRxiv preprint p-values under the Shapiro-Wilk tests for normal and lognormal distributions as well as Goodness-of-fit tests for Gamma and Weibull distributions by using the R package 'goft' [14] . We can reject normal, lognormal, and Weibull distributions strongly under the significance level of 0.05 cutoff [11] [12] . Although we can't reject Gamma distributions for its boundary line p-value (0.06086), it can be risky to use it to fit and estimate the distribution of the incubation period under a small sample size. We further employ the maximum likelihood estimates (MLEs) for the parameters of the gamma, conduct the goodness-fit test, and obtain p-value=8.6807e-04. As such, we only rely on nonparametric techniques in data analysis rather than use any pre-assumed distributions.  We further estimated population mean and standard deviation, median and 2.5 th and 97.5 th percentile by using Bootstrap under 10 6 times resampling. Table 3 author/funder, who has granted medRxiv a license to display the preprint in perpetuity.\",\n",
              " 'The copyright holder for this preprint (which was not peer-reviewed) is the . https://doi.org/10.1101/2020.02.24.20027474 doi: medRxiv preprint [21] . It suggests that COVID-19 could have a faster distribution speed than H7N9, but the same spread speed as SARS and MERS in terms of their incubation periods [22] . The existing spread of COVID-19 is faster than SARS partially because it has more complicate spread dynamics [2] . For example, All rights reserved. No reuse allowed without permission.',\n",
              " 'author/funder, who has granted medRxiv a license to display the preprint in perpetuity.',\n",
              " \"The copyright holder for this preprint (which was not peer-reviewed) is the . https://doi.org/10.1101/2020.02.24.20027474 doi: medRxiv preprint those without clinical symptoms can still spread the virus even if they are 'officially negative' in the COVID-19 virus test [22] .\",\n",
              " 'We also investigate the incubation period of 12 family cases and 47 non-family cases in the dataset. The family cases simply refer to the patients who were caught by COVID-19 because their family members had been infected. The Mann-Whitney rank test shows that there are not significant differences between family patients and non-family patients in terms of the median of incubation period. The Siegal-Tukey tests on scale also verify that the incubation scales are at the same level for family patients and non-family patients.',\n",
              " 'Our studies indicate that incubation periods of the age>=40 years and age<40 years groups not only statistically significant but also linearly separable in machine learning. It may suggest different treatments should be considered for the two different groups. It will be more interesting to estimate different incubation time for them separately. That the estimated 97.5 th percentile of COVID-19 incubation is 12.89 days (95% CI: (11.00, 16.13)) may suggest a long isolation or quarantine time (e.g. 17 days) can be better than the widely accepted 14 days. Furthermore, different quarantine time should be applied to the age>=40 years and age<40 years groups for their different incubation periods. Generally speaking, a longer quarantine time can be considered for the old patients (>=40 years) than young patients (<40 years old). Our ongoing work is to collect more qualified data to extend our existing results and investigate incubation of COVID-19 for different groups besides comparing our incubation estimation with other studies [23] .',\n",
              " 'days. More details about the dataset can be found in the Result section.',\n",
              " 'summarizes age and incubation time variables with respect to region and gender. The median incubation period of males (5.0 days) is slightly shorter than that of females 5.5 days. The median ages of male and female groups are 41 and 42 years old although their age distributions are quite different. The minimum and maximum incubation periods are 1 and 15 days respectively. Among all 10 regions, Shaanxi and Guangdong have 18 and 14 cases that are the largest and 2 nd largest subgroups whose median incubation periods are 5.0 and 5.5 respectively. All rights reserved. No reuse allowed without permission.',\n",
              " 'Age and incubation time summary with respect to region and gender.All rights reserved. No reuse allowed without permission.',\n",
              " 'The probability density functions (p.d.f.) under Gaussian kernel density estimation for different groups.',\n",
              " \"illustrates the probability density functions (p.d.f) of 'male', 'female', and 'all' group incubation using Gaussian kernel density estimation on the left plot. The three groups seem to have similar or the same incubation distributions. The right plot in Figure 2 compares the probability function distributions (p.d.f.) of those of the 'age>= 40 years' and 'age < 40 years' groups. It suggests that the age>=40 group demonstrates very different incubation distributions compared to the age<40 group. The distributions of the incubation of COVID-19.\",\n",
              " 'and females with respect to median with p-value=0.267 for the null hypothesis & : Male and female groups have the same median. Similarly, we employ the Siegal-Tukey test to find the variances of incubation of males and females are at the same level statistically. We have p-values: 0.74725, 0.376, and 0.6258 for the corresponding hypotheses respectively: ! : male and female groups have different incubation variances, \" : the variance of male incubation > and that of the females, and 3 : the variance of male incubation < that of the females. The results indicate that gender may not be a key factor affecting the incubation period of COVID-19.',\n",
              " 'Compare the incubation periods of Age>=40 and Age< 40 groups.',\n",
              " 'The PCA, sparse PCA, t-SNE, and LLE visualization of the incubation of COVID-19 partitioned as Age>=40 and Age<40 groups illustrates that their estimated results for COVID-19 along with the proposed Monte Carlo simulation estimation for the mean: Mean MC and median: Median MC . The median and mean estimations from Monte Carlo simulation are consistent with those of bootstrap. As such, we believe the estimated median and mean of COVID-19 are 5.0 and 5.84 days. We still choose the confidence interval estimations from the bootstrap approach as the final 95% confidence intervals because we choose a smaller variance control parameter in the Monte Carlo simulations. Figure 5 illustrates the histograms of incubation medians, means, and the size of large incubation samples in simulation, all of which are normally distributed. All rights reserved. No reuse allowed without permission.',\n",
              " 'Estimated COVID-19 incubation statistics Fig 5. The histograms of the sizes of large samples, incubation median, and means in simulation. We estimate the incubation period of COVID-19 in this study and analyze its properties by employing statistical and machine learning techniques. We estimate that the mean and median of COVID-19 as 5.84 and 5.01 days by employing nonparametric techniques. The proposed Monte Carlo simulation method echo the nonparametric estimation results. The incubation median of COVID-19: 5.01days (95% CI (4.0, 6.0) Specimens from eight patients who had been identified as MERS-CoV-positive were sequenced. The samples were found positive by both upstream-of-the-envelope gene (upE) and open reading frame 1a (orf1a) real-time polymerase chain reaction (PCR) assays, with cycle threshold (Ct) values averaging 17.3 (15.4-22.6) and 18.3 (15.4-23 .0), respectively (Supplemental Table S1 ). For each patient, a MERS-CoV consensus sequence that indicated the major nucleotide at each genomic position was generated. The genome sequences of the eight isolates differed from each other at only seven positions ( Table 2) . The nucleotide substitutions were all nonsynonymous and occurred in the orf1ab (n = 3) and S (n = 4) genes ( Table 2 ). The sequences of the eight isolates had high nucleotide identities (ranging from 99.96% to 100%, with 99.98% to 100% sequence identities in ORF 1a and 1b [orf1ab] and 99.85% to 100% identities in the spike glycoprotein gene) with recently published sequences of MERS-CoV isolates from the outbreak in South Korea Lu et al. 2015; Seong et al. 2016) . The E, M, and N genes were 100% identical to the previously described MERS-CoV isolates from South Korea. The sequence from Patient 14 in this study differed from the sequence from a previous study at two positions (Seong et al. 2016) .',\n",
              " 'Because the frequencies of the major nucleotides at these positions were close to 50% in this study, the differences between the consensus sequences may have arisen from small technical variations in measurement.',\n",
              " 'Using 105 previously published genome sequences of MERS-CoVs, including those from recent cases in South Korea, we analyzed the phylogenetic relationships of eight newly sequenced isolates. The new sequences clustered together with the other MERS-CoV isolates from the 2015 South Korean outbreak (Supplemental Fig. S2 ; Lu et al. 2015; Seong et al. 2016) .',\n",
              " 'Five microliters of viral RNA from each sample was used as a template for cDNA synthesis using a Superscript III First-Strand Synthesis System (Life Technologies). Equal amounts of cDNA product were used to perform PCR with a Herculase II Fusion DNA polymerase (Agilent Technologies). For full-genome sequencing, primers described by Cotten et al. (2013a) were used with minor modifications for efficient amplification. A set of 60 primers was used to generate fifteen 2.5-kb overlapping amplicons (four primers per amplicon) and three additional primers were added for the extreme termini of the genome (Supplemental Table S5 ). Primers used for the targeted sequencing are listed in Supplemental Table S6 . Primers and nucleotides were removed from the final PCR products using a MiniElute PCR purification kit (QIAGEN).',\n",
              " 'Among the 24 cases, 14 were patients, four were caregivers, and six were health-care workers (HCWs) ( Table 1) . Patient 14 was a second-generation case who had been exposed to the index patient. Exposure to Patient 14 led to a second wave of the outbreak, resulting in a total of 81 third-generation infections (Oh et al. 2015) . Specimens from 20 of these third-generation cases were analyzed in this study (Supplemental Fig. S1 ). Patients 162, 164, and 169 were HCWs and fourth-generation case patients who had been exposed to Patient 135.',\n",
              " 'To determine whether viral genomic variability was related to disease severity, patient cases were categorized as mild (symptomatic cases without pneumonia; n = 3), moderate (cases with pneumonia; n = 11), and severe (cases with respiratory failure or death; n = 10) ( Table 1 ). In eight cases, multiple lower respiratory tract specimens were obtained (Supplemental Table S1 ). Specimens from patients 50, 77, and 135 were obtained before and after respiratory failure.',\n",
              " 'The evolutionary dynamics of RNA viruses are complex because of their high mutation rates, rapid replication rates, and large population sizes. Multiple rounds of replication of a given viral genome can generate a cloud of diverse variants or a heterogeneous viral population. Previous reports on other RNA viruses have suggested that quasispecies diversity, rather than the selection of individual variants, correlates with pathogenicity and enables adaptation to new environments (Vignuzzi et al. 2006; Lauring and Andino 2010) . The importance of characterizing viral populations as swarms with similar variants has led several groups to use next-generation sequencing (NGS) technologies on clinical samples to explore the complexity of the spectrum of mutant viruses, including HIV-1 and hepatitis B virus (Bushman et al. 2008; Eriksson et al. 2008; Margeridon-Thermet et al. 2009 ). Although the description of MERS-CoV quasispecies is far from completion, previous studies that recovered whole MERS-CoV genome sequences from dromedary camels revealed the existence of intrahost single-nucleotide variants (Briese et al. 2014; Borucki et al. 2016) .',\n",
              " 'To date, no intrahost MERS-CoV single-nucleotide variants have been identified in humans, except by Cotton et al. (2013a) , where data from one specimen showed the presence of non-consensus variants (<5%). Currently, it is hard to discern whether only consensus sequences have been reported or whether human MERS-CoV sequences represent almost clonal virus populations within individual cases. By analyzing non-consensus sequences in 35 specimens from 24 patients infected during the South Korean outbreak (2015), we demonstrated the existence of intrapatient heterogeneity and investigated its functional implications.',\n",
              " 'A total of 35 clinical specimens from 24 patients were determined positive for MERS-CoV and were included in this study. Clinical information and information about possible exposure to other MERS-CoV patients was collected from the electronic medical records and publicly available data from multiple sources including the South Korea Centers for Disease Control and Prevention and the South Korea Ministry of Health and Welfare. These data included age, gender, epidemiologic link, dates of suspected exposure to MERS patients, initial symptoms, date of symptom onset, and clinical courses.',\n",
              " 'The PCR products from each patient were combined into a pool of approximately equal molarity and subjected to paired-end library construction with a TruSeq Nano DNA Sample prep kit (Illumina). Libraries were sequenced using an Illumina MiSeq sequencer (Illumina), generating 150-bp paired-end reads. On average, 4113× and 9361× raw read depths were achieved for full-genome and targeted deep sequencing, respectively. Sequencing metrics including mean depth of coverage of each sample are summarized in Supplemental  Table S7 . Bases were called with MiSeq reporter software (ver. 2.4.60). The reads were quality filtered using the command \"fastq_quality_filter,\" which required a minimum of 90% bases with a quality score of 20 or higher. Paired-end reads were aligned with the National Center for Biotechnology Information (NCBI) MERS-CoV reference sequence (NC_019843.3) using the Burrows-Wheeler Aligner (BWA) (Li and Durbin 2010) . SAMtools v0.1.19 (Li et al. 2009 ), GATK v2.4-7 (McKenna et al. 2010 , and Picard v1.93 were used for sorting SAM/BAM files, local realignment, and duplicate markings, respectively. We used the SAMtools \"mpileup\" command to determine the read depth. The consensus sequence was determined from the most commonly expressed nucleotide at each position.',\n",
              " 'We downloaded a total of 105 human MERS-CoV genome sequences from the NCBI database (http://www.ncbi.nlm.nih.gov/genomes/VirusVariation/Database/nph-select.cgi? cmd=database&taxid=1335626). Combining the eight MERS-CoV genome sequences from our study with the downloaded sequences, a phylogenetic analysis was performed after aligning the sequences using MUSCLE (http://drive5.com/muscle). A total of 30,130 aligned nucleotides were input into MEGA 7.0 (http://www.megasoftware.net) (Tamura et al. 2013) , and a phylogenetic tree was constructed using the neighbor-joining method. The GenBank accession number followed by a brief description of the sequence, including the virus variant name and the country of isolation, is provided for each sequence in Supplemental Figure S2 . Evolutionary distances were computed using the Kimura two-parameter model. The scale bar at the bottom of the figure indicates nucleotide substitutions per site.',\n",
              " 'The seven full-length and one partial virus genomes were deposited at GenBank (http:// www.ncbi.nlm.nih.gov/genbank/) under accession numbers KX034093-KX034100. Raw sequencing data were deposited in the Sequence Read Archive (SRA; http://www.ncbi. nlm.nih.gov/sra) under accession number SRP072910.',\n",
              " 'This study was approved by The Samsung Medical Center (Seoul, South Korea) institutional review board (IRB) (no. 2015-07-005) and all methods were carried out in accordance with the approved guidelines. The IRB approved a waiver to document informed consent because the study planned to (1) use residual viral RNA samples without further collection of clinical samples, (2) analyze only viral RNA without human genome analysis, and (3) anonymize and de-identify the specimen and patient information before the analysis.',\n",
              " 'In this study, we demonstrated the intrapatient heterogeneity of MERS-CoVs, ruling out the possibility of technical noise. Based on the statistical test described above, we first selected 16 non-consensus variant candidates with frequencies significantly higher than those from technical noise. Among those variant candidates, we tested nine candidates by Sanger sequencing and validated seven variants, resulting in a 78% validation rate. After removal of the two nonvalidated candidates, we ultimately listed a total of 14 non-consensus variants, expecting an 89% validation rate. There was a tight correlation between the frequencies of the two variants at positions 22984 and 23041. These results suggest that technical artifacts were highly unlikely to have generated such non-consensus variants. Our analysis was limited to relatively high-frequency variants because the sequencing error rate presents certain limitations for the study of RNA as opposed to DNA viruses. Technical advances such as the use of unique molecular identifiers to remove PCR errors may produce more accurate descriptions of MERS-CoV populations in patients (Kinde et al. 2011) . Despite the limitations, we demonstrated the presence of heterogeneous MERS-CoV populations in clinical samples from MERS-CoV-infected patients.',\n",
              " 'Given the large number of cases that resulted from exposure to Patient 14, it was intriguing that Patient 14 displayed the highest intrapatient heterogeneity. Among the 10 singlenucleotide variants that were observed in more than one patient, six variants were present at frequencies >0% in Patient 14 (Fig. 2) . Thus, the majority of intra-and interpatient heterogeneity observed in different patients seemed to originate from the variants present in Patient 14. Our results showed that intrapatient heterogeneity can be transmitted in some cases, indicating that humans can be simultaneously infected with more than one MERS-CoV.',\n",
              " 'Because most of the mixed bases observed in Patient 14 were not completely fixed in the subsequent generation of cases, the single-nucleotide variants might not have had significantly higher fitness than wild type. For example, the sequence from Patient 14 had a mixed base C/T at position 11257. Among sequences from patients exposed to Patient 14, a subset displayed either C or T alone with little intrapatient heterogeneity, whereas others showed similar intrapatient heterogeneity to Patient 14. In addition, we could not find any significant differences in genetic variants based on disease severity group (Supplemental Tables S3  and S4 ). Taken together, genetic variant composition in each patient varied, regardless of the transmissibility or disease severity, suggesting that transmission of individual genetic sequences was stochastic rather than selective. Even if the genetic variants had a selective advantage, the advantage of individual genetic sequences might have been weak and/or varied depending on the patient.',\n",
              " 'Although we could not provide a clear picture of the functional interactions among distinct genetic variants in the population, the high ratio of nonsynonymous to synonymous substitutions offered a clue to their functional impact. The 14 variants consisted of 12 nonsynonymous and two synonymous substitutions. Assuming that the unit of selection might not be an individual variant but the population as a whole, we calculated d N (the number of nonsynonymous changes per nonsynonymous site) and d S (the number of synonymous changes per synonymous site) by the Pamilo-Bianchi-Li method (Li 1993; Pamilo and Bianchi 1993) . The d N /d S ratio was 1.03, hinting at the possibility of positive selection. Notably, six of the 12 nonsynonymous substitutions were found in the spike glycoproteincoding region. As quasispecies theory proposes, the unit of selection might not be an individual virus but the population as a whole. Our data showed that the frequencies of the single mutants (D510G, I529 and D510, I529T) significantly fluctuated among specimens, but the combined frequency of the single mutants was consistently high in most samples, suggesting a combination of variants as the unit of selection.',\n",
              " 'Recently, in an analysis of 13 MERS-CoV genomes associated with the 2015 outbreak in South Korea, Kim et al. (2016c) reported that 11 of those genomes had an I529T mutation in RBD, and one had a D510G mutation. The study showed that D510G and I529T mutations resulted in reduced affinity of RBD for the human CD26 receptor compared with the wildtype RBD. Based on the spread of a mutant MERS-CoV with reduced affinity for the receptor, the authors suggested that MERS-CoV adaptation during human-to-human spread might be driven by host immunological pressure such as neutralizing antibodies (Kim et al. 2016c) . Consistent with the previous analysis, our data showed that the I529T and D510G mutations were observed in the consensus sequences from 29 and 4 of 35 samples, respectively. Furthermore, our analysis at an intrapatient level showed that the frequency of the wild type at both positions was only 6.5% ± 1.7% on average, supporting a strong selection pressure favoring the variants over the wild type.',\n",
              " 'Thus, we questioned whether the selection pressure was exerted by a host immune response such as neutralizing antibodies, as previously suggested (Kim et al. 2016c ). In such cases, a reduction in host immune pressure might increase the frequency of the wild type. Four specimens displaying relatively high frequency (i.e., >10%) of the wild type belonged to Patients 77 and 80. We noticed dramatic changes in routine blood test results such as white blood cell (WBC) counts and C-reactive protein (CRP) levels in these patients. We analyzed 19 serial specimens from eight patients. For this, we used normalized WBC count values expressed as a percentage of the first of a series of samples from each patient. Serial samples from Patients 77 and 80 displayed a dramatic decrease in the normalized WBC count and a simultaneous increase in the frequency of the wild-type allele (Supplemental Fig. S4 ). Whereas WBC counts significantly decreased in those patients, the CRP level increased during the period of MERS-CoV infection, indicating an impaired immune response. Although these data are limited owing to the small sample size and the lack of direct measurement of host immunological pressure, our results suggest that the selection pressure exerted by the host immune response might favor variants with reduced affinity to the host receptor; therefore, a reduction in this selection pressure resulted in the expansion of viruses with the wild-type allele. The characterization and quantification of neutralizing antibodies in patients over time is required to determine their association with the mutants and to validate the hypothesis. Moreover, more accurate descriptions of MERS-CoV populations within patients will advance our understanding of the complex molecular evolution of MERS-CoVs.',\n",
              " 'Because the evolution of a virus is a continuous process that takes place during intrapatient infection and interpatient transmission, the evolution of MERS-CoVs should be studied at both intra-and interpatient levels to obtain a better understanding of the principles underlying the complex molecular evolution of MERS-CoVs in natural populations. However, our knowledge of MERS-CoV evolution primarily depends on analysis at the interpatient level, ignoring genetic diversity within individual patients. In this study, we demonstrated intrapatient heterogeneity in human MERS-CoV isolates. Based on the analyses of the genetic diversity of MERS-CoVs at both the intra-and interpatient levels, our results shed light on the evolutionary dynamics of MERS-CoVs associated with the South Korean outbreak.',\n",
              " \"RNA was extracted from clinical specimens using either a QIAamp DSP Viral RNA Mini Kit (Catalog No. 61904, QIAGEN GmbH) or an automated MagNAPure 96 extraction instrument with a total nucleic acid isolation kit (Roche). The extraction was performed according to the manufacturers' instructions and the extracted RNA was stored at −70°C.\",\n",
              " 'MERS-CoVs were detected in specimens using real-time reverse transcription (rRT)-PCR. Extracted RNAs were screened by targeting the upE region, and positive results were confirmed by a subsequent amplification of orf1a using a PowerChek MERS Real-Time PCR kit (Kogene Biotech, Seoul, South Korea). All rRT-PCR reactions were performed using the 7500 Fast Real-Time PCR System (Applied Biosystems) with a total reaction volume of 20 μL (15 μL of PCR reaction mixture and 5 μL of template RNA). The thermocycling conditions included a reverse transcription reaction for 30 min at 50°C, followed by 10 min at 95°C, and then 40 cycles of 15 sec at 95°C and 60 sec at 60°C. A positive viral template control and a nontemplate control were included in each run. The glyceraldehyde-3-phosphate dehydrogenase (GAPDH) gene was amplified simultaneously as an internal control to monitor PCR inhibition. A positive result was identified by a well-defined exponential fluorescence curve that crossed the defined threshold at ≤35 cycles in both the upE and ORF1a assays.',\n",
              " 'We used X ijbr to denote the allele frequency for the ith sample, the jth chromosomal position, the base (A, T, G, or C), and the rth replicated experiment. If the total depth was <100× at a given ijr, we treated it as missing, irrespective of the b value. We defined the background noise value (N ijb ) as the average of the absolute differences between replicated data for all combinations: I kl = 1, if k , l, I kl = 0, otherwise.',\n",
              " 'Each variant allele frequency was tested by Z with a mean of E jb = n i=1 N ijb /n and a variance of when replicates were available for only n samples.',\n",
              " 'Analyzing the MERS-CoV genome sequences, we noticed that a significant number of nucleotide sites had mixed bases. Because deep sequencing not only generates a consensus sequence but also identifies non-consensus nucleotides at each position, Cotton et al. (2013a) analyzed nucleotide variants present at >1% frequency to determine the variants important for intrahost evolution. In the previous study, the nucleotide variants present at a frequency greater than the sequencing error rate (i.e., 1%) were considered to be true variants, although this estimate may be conservative for most applications. However, errors introduced during reverse transcription and PCR amplification can significantly distort estimates of allele frequencies, especially if a limited amount of RNA is used as an input. Thus, in this study, we evaluated the reproducibility of allele frequencies of non-consensus nucleotides. For this purpose, duplicate libraries generated by independent complementary DNA (cDNA) synthesis using the same RNA samples were sequenced and compared. Allele frequencies of duplicate samples from Patients 80 and 162 were significantly correlated, implying that the majority of mixed bases were a reflection of intrapatient heterogeneity rather than a result of sequencing errors (Fig. 1A ,B).',\n",
              " 'Despite the relatively high reproducibility, we focused on nucleotide variants present at a relatively high frequency (i.e., ≥30%) to minimize false positives among non-consensus variants. Positions where a nucleotide variant was present at a frequency of ≥30% in any of the eight isolates were selected for further investigation using additional samples. Targeted deep sequencing was performed on an additional 27 samples targeting 3003-bp regions that included the variable sites. Eleven libraries from independent cDNA syntheses of five samples, including four libraries in duplicate and one in triplicate, were constructed to evaluate the technical noise in measuring allele frequency. Only variants with frequencies significantly greater than those from technical noise were considered true variants. Technical noise is described in Methods and was based on a 5% significance level after performing Bonferroni adjustment. A total of 16 positions displaying intrapatient heterogeneity were identified through statistical testing. The results from seven specimens were validated using Sanger sequencing. We tested nine sites and confirmed concordant mixed bases at seven positions-namely, positions 6884, 7317, 11257, 21726, 22356, 22984, and 23041 (Fig. 1C ), but found discrepancies at positions 7322 and 19075. Although we were not able to validate all variants by Sanger sequencing owing to a limited sample volume, the results from the test set showed a 78% validation rate. In addition, the frequencies of the two variants at positions 22984 and 23041 (i.e., G at position 22984 and T at 23041; A at 22984 and C at 23041) were highly correlated in the specimens (Supplemental Fig. S3 ), suggesting a tight linkage between these variants instead of random sequencing errors. Fourteen positions exhibiting mixed bases are presented in Figure 2 . These include all seven nucleotide variants identified in the full-genome sequences of the eight MERS-CoV isolates, indicating that intrapatient MERS-CoV heterogeneity was closely associated with isolate-specific variants in the consensus sequences. Taken together, our data demonstrate the intrapatient heterogeneity of MERS-CoVs.',\n",
              " 'Interactions Between Genetic Variants As described above, there was a tight linkage between positions 22984 and 23041-the variant at one position and the wild type at the other position or vice versa (i.e., D510G and I529; D510 and I529T). Based on the genetic linkage, a functional relationship was expected between the variants at these two positions. In fact, these two mutations were located in one of the two major binding patches in the receptor-binding domain (RBD), where escape mutations from neutralizing antibodies were previously reported (Tang et al. 2014) .',\n",
              " 'Based on the tight correlation of base frequencies at positions 22984 and 23041, our data suggested that the double mutant carrying D510G and I529T is rare. Therefore, we selected sequencing reads covering both positions in each specimen to measure the frequencies of the double mutants (i.e., D510G, I529T), the single mutants (i.e., D510G, I529 and D510, I529T), and the wild type (i.e., D510, I529). On average, the frequency of the double mutant was only 1.4% ± 0.3%, whereas the single mutants and the wild type were present at 87.7% ± 1.9% and 6.5% ± 1.7%, respectively (Fig. 3) . Recently, both D510G and I529T mutations in RBD were shown to reduce its affinity for human CD26 compared with the wildtype RBD (Kim et al. 2016c ). Although the previous study did not test the binding affinity of the double mutant, in our data the two mutations are mutually exclusive, suggesting that the double mutant severely impairs viral fitness. Notably, although the frequency of each single mutant varied greatly among specimens, the combined frequency of both single mutants was consistently high in most samples. At the same time, the frequency of the wild type was no more than 10% in most samples (31 of 35 specimens). Thus, our data suggest that there was strong selection pressure favoring the variants of the spike glycoprotein with reduced affinity for the host receptor.',\n",
              " 'Summary of genetic variants in the full-genome sequences of Middle East respiratory syndrome coronavirus (MERS-CoVs) isolates from the South Korean outbreak ( of MERS-CoV associated with the South Korean outbreak reported in this study and those from previous studies were compared. KT029139 was reported in and KT374050-KT374057 were inKim et al. 2016a. All sequences were aligned with the National Center for Biotechnology Information (NCBI) reference sequence (NC_019843.3). At positions with discordant nucleotides, alternative nucleotides are displayed.',\n",
              " 'Reproducibility assessment for the detection of non-consensus variants. Correlation of allele frequencies between sample replicates from (A) Patient 80 and (B) Patient 162. (C) Representative validation by the Sanger sequencing method.',\n",
              " 'Summary of variable sites among 35 samples from 24 patients. At each position, a mixed base is displayed and colored if its frequency was >10%. For mixed bases, the font size reflects the frequency of that base. Mod, moderate; Sev, severe.',\n",
              " 'The fraction of mutant and wild-type alleles at positions 510 and 529 of the spike glycoprotein. To measure the frequencies of the mutant and the wild-type alleles, sequencing reads covering positions 510 and 529 were selected. For each specimen, the read counts supporting each type were divided by the total read counts. The frequencies of the double mutants (D510G, I529T), the single mutants (D510G, I529 and D510, I529T), and the wild-type (D510, I529) alleles are plotted for 35 specimens sorted by sample number.']"
            ]
          },
          "metadata": {
            "tags": []
          },
          "execution_count": 102
        }
      ]
    },
    {
      "cell_type": "markdown",
      "metadata": {
        "id": "-lKpUm3BtqO_",
        "colab_type": "text"
      },
      "source": [
        "# **TIES Domain modelling**\n",
        " * Range of incubation periods for the disease in humans (and how this varies across age and health status) and how long individuals are contagious, even after recovery.\n",
        " * Prevalence of asymptomatic shedding and transmission (e.g., particularly children).\n",
        " * Seasonality of transmission.\n",
        " * Physical science of the coronavirus (e.g., charge distribution, adhesion to hydrophilic/phobic surfaces, environmental survival to inform decontamination efforts for affected areas and provide information about viral shedding).\n",
        " * Persistence and stability on a multitude of substrates and sources (e.g., nasal discharge, sputum, urine, fecal matter, blood).\n",
        " * Persistence of virus on surfaces of different materials (e,g., copper, stainless steel, plastic).\n",
        " * Natural history of the virus and shedding of it from an infected person\n",
        " * Implementation of diagnostics and products to improve clinical processes\n",
        " * Disease models, including animal models for infection, disease and transmission\n",
        " * Tools and studies to monitor phenotypic change and potential adaptation of the virus\n",
        " * Immune response and immunity\n",
        " * Effectiveness of movement control strategies to prevent secondary transmission in health care and community settings\n",
        " * Effectiveness of personal protective equipment (PPE) and its usefulness to reduce risk of transmission in health care and community settings\n",
        " * Role of the environment in transmission\n",
        "\n",
        "Rule-based matching is supervised technique of labeling token series by presribed rules or patterns."
      ]
    },
    {
      "cell_type": "markdown",
      "metadata": {
        "id": "mnYG2AO4VMY0",
        "colab_type": "text"
      },
      "source": [
        "# Ontology Dictionary"
      ]
    },
    {
      "cell_type": "code",
      "metadata": {
        "id": "D1SUbE7pXahT",
        "colab_type": "code",
        "colab": {}
      },
      "source": [
        "def pasteTuple(inp_tuple):\n",
        "  \n",
        "  return(str(inp_tuple[0]) + ' ' + str(inp_tuple[1]) + ' ' + str(inp_tuple[2]))"
      ],
      "execution_count": 0,
      "outputs": []
    },
    {
      "cell_type": "code",
      "metadata": {
        "id": "ZQOa2tpln0U8",
        "colab_type": "code",
        "colab": {}
      },
      "source": [
        "#\n",
        "# Class to handle all Dictionary functions and properties\n",
        "#\n",
        "class OntologyDictionary:\n",
        "    \n",
        "    def __init__(self, ontology=None):\n",
        "      # Initial (constructor) dictionary\n",
        "       self.ontology = [\n",
        "              ('incubation period', 'mean', 'day'),\n",
        "              ('incubation period', 'standard deviation', 'day'),\n",
        "              ('incubation period', 'average', 'day'),\n",
        "              ('patient', 'age', 'year'),\n",
        "              ('patient', 'age', 'children'),\n",
        "              ('patient', 'age', 'teenager'),\n",
        "              ('patient', 'age', 'adult'),\n",
        "              ('patient', 'health status', ''),\n",
        "              ('contageous period', 'minimum', 'day'),\n",
        "              ('contageous period', 'maximum', 'day'),\n",
        "              ('asymptomatic shedding', 'share', ''),\n",
        "              ('persistent', 'copper', 'hour'),\n",
        "              ('persistent', 'stainless steel', 'hour'),\n",
        "              ('persistent', 'plastic', 'hour'),\n",
        "              ('shedding', '', '')\n",
        "              ]\n",
        "\n",
        "    def addRelation(self, entity, prop=\"\", value=\"\"):\n",
        "    \n",
        "      try: \n",
        "        self.ontology.append((entity, prop, value))\n",
        "      except ValueError:\n",
        "        print(\"Entity cannot be empty!\")\n",
        "      return()\n",
        "\n",
        "    def convertOntologyToVectors(self, topics=2):\n",
        "    \n",
        "      self.VectorDict = corpora.Dictionary(self.ontology)\n",
        "      self.VDCorpus = [self.VectorDict.doc2bow(text) for text in self.ontology]\n",
        "\n",
        "      self.lsi = models.LsiModel(self.VDCorpus, id2word=self.VectorDict, num_topics=topics)    \n",
        "      self.index = similarities.MatrixSimilarity(self.lsi[self.VDCorpus]) \n",
        "      self.index.save('/tmp/deerwester.index')\n",
        "      self.index = similarities.MatrixSimilarity.load('/tmp/deerwester.index')\n",
        "      return()  \n",
        "\n",
        "    def convertOntologyToDataframe(self):\n",
        "    \n",
        "      self.ontology.asDF = pd.DataFrame(self.ontology, columns=[':entity', ':property', ':value'])\n",
        "      return()   \n",
        "  \n",
        "    def getSimilarity(self, phrase):\n",
        "  \n",
        "      vec_bow = self.VectorDict.doc2bow(phrase.lower().split())\n",
        "      vec_lsi = self.lsi[vec_bow] \n",
        "    \n",
        "      # Perform a similarity query against the corpus\n",
        "      sims = self.index[vec_lsi]  \n",
        "      print(list(enumerate(sims)))  # print (document_number, document_similarity) 2-tuples\n",
        "      sims = sorted(enumerate(sims), key=lambda item: -item[1])\n",
        "      for i, s in enumerate(sims):\n",
        "        print(s, self.ontology[i])\n",
        "  \n",
        "      return(sims) \n",
        "    \n",
        "    def getOntology(self, ont=[]):\n",
        "\n",
        "      self.ontology = ont\n",
        "      return()\n",
        "\n",
        "    def importOntology(self, uri=''):\n",
        "\n",
        "      return()"
      ],
      "execution_count": 0,
      "outputs": []
    },
    {
      "cell_type": "markdown",
      "metadata": {
        "id": "vxO_11G2zyZQ",
        "colab_type": "text"
      },
      "source": [
        "## Dependency parsing\n",
        "\n",
        "Dependency parsing is unsupervised technique based on common (statistically prevalent) linguistic structure of sentence. There is no semantic analysis or domain knowledge inside. It's fast performance wise and quite abstract in research. Dependency parsing is necessary to refine initial entities those are sufficient to include the whole ontology."
      ]
    },
    {
      "cell_type": "code",
      "metadata": {
        "id": "ixSQnq1G28fX",
        "colab_type": "code",
        "colab": {}
      },
      "source": [
        "def getEntities(sent):\n",
        "  ## chunk 1\n",
        "  ent1 = \"\"\n",
        "  ent2 = \"\"\n",
        "\n",
        "  prv_tok_dep = \"\"    # dependency tag of previous token in the sentence\n",
        "  prv_tok_text = \"\"   # previous token in the sentence\n",
        "\n",
        "  prefix = \"\"\n",
        "  modifier = \"\"\n",
        "\n",
        "  #############################################################\n",
        "  \n",
        "  for tok in nlp(sent):\n",
        "    ## chunk 2\n",
        "    # if token is a punctuation mark then move on to the next token\n",
        "    if tok.dep_ != \"punct\":\n",
        "      # check: token is a compound word or not\n",
        "      if tok.dep_ == \"compound\":\n",
        "        prefix = tok.text\n",
        "        # if the previous word was also a 'compound' then add the current word to it\n",
        "        if prv_tok_dep == \"compound\":\n",
        "          prefix = prv_tok_text + \" \"+ tok.text\n",
        "      \n",
        "      # check: token is a modifier or not\n",
        "      if tok.dep_.endswith(\"mod\") == True:\n",
        "        modifier = tok.text\n",
        "        # if the previous word was also a 'compound' then add the current word to it\n",
        "        if prv_tok_dep == \"compound\":\n",
        "          modifier = prv_tok_text + \" \"+ tok.text\n",
        "      \n",
        "      ## chunk 3\n",
        "      if tok.dep_.find(\"subj\") == True:\n",
        "        ent1 = modifier +\" \"+ prefix + \" \"+ tok.text\n",
        "        prefix = \"\"\n",
        "        modifier = \"\"\n",
        "        prv_tok_dep = \"\"\n",
        "        prv_tok_text = \"\"      \n",
        "\n",
        "      ## chunk 4\n",
        "      if tok.dep_.find(\"obj\") == True:\n",
        "        ent2 = modifier +\" \"+ prefix +\" \"+ tok.text\n",
        "        \n",
        "      ## chunk 5  \n",
        "      # update variables\n",
        "      prv_tok_dep = tok.dep_\n",
        "      prv_tok_text = tok.text\n",
        "  #############################################################\n",
        "\n",
        "  return [ent1.strip(), ent2.strip()]"
      ],
      "execution_count": 0,
      "outputs": []
    },
    {
      "cell_type": "code",
      "metadata": {
        "id": "hBtFuYdw1zTY",
        "colab_type": "code",
        "colab": {}
      },
      "source": [
        "def getRelation(sent):\n",
        "\n",
        "  doc = nlp(sent)\n",
        "\n",
        "  # Matcher class object \n",
        "  matcher = Matcher(nlp.vocab)\n",
        "\n",
        "  #define the pattern \n",
        "  pattern = [\n",
        "              {'DEP':'ROOT'}, \n",
        "              {'DEP':'prep','OP':\"?\"},\n",
        "              {'DEP':'agent','OP':\"?\"},  \n",
        "              {'POS':'ADJ','OP':\"?\"}\n",
        "            ] \n",
        "\n",
        "  matcher.add(\":relates\", None, pattern) \n",
        "\n",
        "  matches = matcher(doc)\n",
        "  k = len(matches) - 1\n",
        "\n",
        "  span = doc[matches[k][1]:matches[k][2]] \n",
        "\n",
        "  return(span.text)"
      ],
      "execution_count": 0,
      "outputs": []
    },
    {
      "cell_type": "code",
      "metadata": {
        "id": "yf4Ma6e1ahwx",
        "colab_type": "code",
        "outputId": "c15db17a-62a4-4614-ac68-ea7fbff755d2",
        "colab": {
          "base_uri": "https://localhost:8080/",
          "height": 272
        }
      },
      "source": [
        "# Ingesting ontology dictionary\n",
        "ont_dic = OntologyDictionary()\n",
        "ont_dic.ontology"
      ],
      "execution_count": 56,
      "outputs": [
        {
          "output_type": "execute_result",
          "data": {
            "text/plain": [
              "[('incubation period', 'mean', 'day'),\n",
              " ('incubation period', 'standard deviation', 'day'),\n",
              " ('incubation period', 'average', 'day'),\n",
              " ('patient', 'age', 'year'),\n",
              " ('patient', 'age', 'children'),\n",
              " ('patient', 'age', 'teenager'),\n",
              " ('patient', 'age', 'adult'),\n",
              " ('patient', 'health status', ''),\n",
              " ('contageous period', 'minimum', 'day'),\n",
              " ('contageous period', 'maximum', 'day'),\n",
              " ('asymptomatic shedding', 'share', ''),\n",
              " ('persistent', 'copper', 'hour'),\n",
              " ('persistent', 'stainless steel', 'hour'),\n",
              " ('persistent', 'plastic', 'hour'),\n",
              " ('shedding', '', '')]"
            ]
          },
          "metadata": {
            "tags": []
          },
          "execution_count": 56
        }
      ]
    },
    {
      "cell_type": "code",
      "metadata": {
        "id": "7-imFfrhv3zG",
        "colab_type": "code",
        "outputId": "7bfbb431-df59-4bda-a495-fe9778e25ba8",
        "colab": {
          "base_uri": "https://localhost:8080/",
          "height": 272
        }
      },
      "source": [
        "ont_list = []\n",
        "for d in ont_dic.ontology:\n",
        "  ont_list.append(pasteTuple(d))\n",
        "ont_list"
      ],
      "execution_count": 57,
      "outputs": [
        {
          "output_type": "execute_result",
          "data": {
            "text/plain": [
              "['incubation period mean day',\n",
              " 'incubation period standard deviation day',\n",
              " 'incubation period average day',\n",
              " 'patient age year',\n",
              " 'patient age children',\n",
              " 'patient age teenager',\n",
              " 'patient age adult',\n",
              " 'patient health status ',\n",
              " 'contageous period minimum day',\n",
              " 'contageous period maximum day',\n",
              " 'asymptomatic shedding share ',\n",
              " 'persistent copper hour',\n",
              " 'persistent stainless steel hour',\n",
              " 'persistent plastic hour',\n",
              " 'shedding  ']"
            ]
          },
          "metadata": {
            "tags": []
          },
          "execution_count": 57
        }
      ]
    },
    {
      "cell_type": "code",
      "metadata": {
        "id": "0Wj3Q8ros5Ox",
        "colab_type": "code",
        "colab": {}
      },
      "source": [
        "ont_tokens = [\n",
        "    [word for word in d.lower().split()]\n",
        "    for d in ont_list\n",
        "]\n",
        "\n",
        "dictionary = corpora.Dictionary(ont_tokens)\n",
        "corpus = [dictionary.doc2bow(t) for t in ont_tokens]"
      ],
      "execution_count": 0,
      "outputs": []
    },
    {
      "cell_type": "code",
      "metadata": {
        "id": "i7CyPkRXw0wa",
        "colab_type": "code",
        "colab": {}
      },
      "source": [
        "lsi = models.LsiModel(corpus, id2word=dictionary, num_topics=2)"
      ],
      "execution_count": 0,
      "outputs": []
    },
    {
      "cell_type": "code",
      "metadata": {
        "id": "fXkQWOUIxJM3",
        "colab_type": "code",
        "outputId": "8fc94d7d-1f18-4b27-d2b5-6628137a94d7",
        "colab": {
          "base_uri": "https://localhost:8080/",
          "height": 71
        }
      },
      "source": [
        "index = similarities.MatrixSimilarity(lsi[corpus])"
      ],
      "execution_count": 60,
      "outputs": [
        {
          "output_type": "stream",
          "text": [
            "/usr/local/lib/python3.6/dist-packages/gensim/matutils.py:737: FutureWarning: Conversion of the second argument of issubdtype from `int` to `np.signedinteger` is deprecated. In future, it will be treated as `np.int64 == np.dtype(int).type`.\n",
            "  if np.issubdtype(vec.dtype, np.int):\n"
          ],
          "name": "stderr"
        }
      ]
    },
    {
      "cell_type": "code",
      "metadata": {
        "id": "q0OkcaQCxPB8",
        "colab_type": "code",
        "outputId": "f7bc0d99-f1bb-4f84-83b6-1a40de64f83d",
        "colab": {
          "base_uri": "https://localhost:8080/",
          "height": 71
        }
      },
      "source": [
        "index.save('/tmp/deerwester.index')\n",
        "index = similarities.MatrixSimilarity.load('/tmp/deerwester.index')"
      ],
      "execution_count": 61,
      "outputs": [
        {
          "output_type": "stream",
          "text": [
            "/usr/local/lib/python3.6/dist-packages/smart_open/smart_open_lib.py:253: UserWarning: This function is deprecated, use smart_open.open instead. See the migration notes for details: https://github.com/RaRe-Technologies/smart_open/blob/master/README.rst#migrating-to-the-new-open-function\n",
            "  'See the migration notes for details: %s' % _MIGRATION_NOTES_URL\n"
          ],
          "name": "stderr"
        }
      ]
    },
    {
      "cell_type": "code",
      "metadata": {
        "id": "QQioXy_yuLMD",
        "colab_type": "code",
        "outputId": "c50af8f3-49eb-4525-a556-db8e7dcdc483",
        "colab": {
          "base_uri": "https://localhost:8080/",
          "height": 66,
          "referenced_widgets": [
            "dd5bc38065b24c82937d430ac34a5078",
            "86774b53c56944aab97948e3c8f250ea",
            "de03b26c260b4e9a8e312cddccdd4f8f",
            "c4311ce2219a42b28ce26fd801fee2ff",
            "2b3eb7c214ea45a6bd2c0af9e74bc1ab",
            "3de1a43e3c7447d397bf9a26fd1d80b7",
            "7ca778c4aaaf41988878118ffec2c551",
            "caef836ddfff49d9b6a5c4a776e307f1"
          ]
        }
      },
      "source": [
        "# Finding candidate entity pairs Subject to Value\n",
        "entity_pairs = []\n",
        "\n",
        "for i in tqdm(sentences):\n",
        "  entity_pairs.append(getEntities(i))"
      ],
      "execution_count": 103,
      "outputs": [
        {
          "output_type": "display_data",
          "data": {
            "application/vnd.jupyter.widget-view+json": {
              "model_id": "dd5bc38065b24c82937d430ac34a5078",
              "version_minor": 0,
              "version_major": 2
            },
            "text/plain": [
              "HBox(children=(FloatProgress(value=0.0, max=170.0), HTML(value='')))"
            ]
          },
          "metadata": {
            "tags": []
          }
        },
        {
          "output_type": "stream",
          "text": [
            "\n"
          ],
          "name": "stdout"
        }
      ]
    },
    {
      "cell_type": "code",
      "metadata": {
        "id": "toWlTtJx8TRZ",
        "colab_type": "code",
        "outputId": "1beca79a-9f62-4356-da40-ab4bca6cd63a",
        "colab": {
          "base_uri": "https://localhost:8080/",
          "height": 66,
          "referenced_widgets": [
            "c064089eff394b40b590b1b22e61e05d",
            "81031160a2504b06becffeffb1f779f2",
            "bce248b5b9fc49628b3a2ca8a617d0a8",
            "a71f3c109e2248098d72f07b9fa1ab87",
            "11f96f15acc14272bd0b85d81187d7ee",
            "1c91f1ec96114f1eb3b8bd5ee96c6907",
            "d38f741ab0e149bb850f3b128cd5a509",
            "6d6ac0e231a54312b245e8c23381347f"
          ]
        }
      },
      "source": [
        "# Finding candidate properties\n",
        "properties = [getRelation(i) for i in tqdm(sentences)]"
      ],
      "execution_count": 104,
      "outputs": [
        {
          "output_type": "display_data",
          "data": {
            "application/vnd.jupyter.widget-view+json": {
              "model_id": "c064089eff394b40b590b1b22e61e05d",
              "version_minor": 0,
              "version_major": 2
            },
            "text/plain": [
              "HBox(children=(FloatProgress(value=0.0, max=170.0), HTML(value='')))"
            ]
          },
          "metadata": {
            "tags": []
          }
        },
        {
          "output_type": "stream",
          "text": [
            "\n"
          ],
          "name": "stdout"
        }
      ]
    },
    {
      "cell_type": "code",
      "metadata": {
        "id": "z7euPpP7oM2x",
        "colab_type": "code",
        "colab": {}
      },
      "source": [
        "# get prepared triples\n",
        "entities = [i[0] for i in entity_pairs]\n",
        "values = [i[1] for i in entity_pairs]"
      ],
      "execution_count": 0,
      "outputs": []
    },
    {
      "cell_type": "code",
      "metadata": {
        "id": "cHdSpNfBGoz7",
        "colab_type": "code",
        "outputId": "c1644130-1db5-48ed-b164-40ce0355f4fa",
        "colab": {
          "base_uri": "https://localhost:8080/",
          "height": 1000
        }
      },
      "source": [
        "phrase_list = []\n",
        "for e, p, v in zip(entities, properties, values):\n",
        "  phrase_list.append(pasteTuple([e, p, v]))\n",
        "phrase_list"
      ],
      "execution_count": 106,
      "outputs": [
        {
          "output_type": "execute_result",
          "data": {
            "text/plain": [
              "['directly  We are demographic  COVID-19',\n",
              " 'additional  data included in manuscript',\n",
              " 'study researchers confirm funders',\n",
              " 'who confirmed with COVID-19 both  January',\n",
              " 'closely healthcare they tested negative negative SARS CoV-2',\n",
              " 'None had exposure',\n",
              " '27 Patient We find microbiological  testing',\n",
              " 'mm  They wore special illness onset',\n",
              " 'positive SARS which 4 COVID-19  diagnosis',\n",
              " '11  symptoms described in Supplementary Supplementary illness results',\n",
              " 'few illness infiltrates noticed in left  lung',\n",
              " 'Most C reactive patients had normal available serum information',\n",
              " 'CoV-2-positive C reactive Management detailed in Supplementary Supplementary  results',\n",
              " 'serial illness interval defined as successive transmission chain',\n",
              " 'potential I findings interpreted as potential Mann Whitney type',\n",
              " 'contact details shown in Supplementary Supplementary  results',\n",
              " 'strong index symptoms had fast fast  onset',\n",
              " 'None reported ',\n",
              " 'We formed team prospectively following contacts',\n",
              " 'Informed Ethics consent obtained from patients',\n",
              " 'double Follow up was until February',\n",
              " 'symptom  onset included three  months',\n",
              " '13 National Health examinations were according Supplementary  methods',\n",
              " '10  patients had radiological viral  admission',\n",
              " 'future control It needed infected containment individuals',\n",
              " 'corresponding time points warranted different  disease',\n",
              " 'largely  which were particularly  winter',\n",
              " 'bilateral pneumonia youngsters showed unilateral unilateral  admission',\n",
              " 'immune  which suggest inflammatory  response',\n",
              " 'age suggest illness onset',\n",
              " 'epidemiological  significances need admission',\n",
              " '8  Absorption observed compared previous pneumonia scan',\n",
              " 'L. Huang cite tracing incubation Infection',\n",
              " 'healthy Wuhan company He took 2019 novel coronavirus disease',\n",
              " 'normal L. Huang admitted to two SARS times',\n",
              " ' cite tracing incubation Infection',\n",
              " '4.0 International It made available perpetuity',\n",
              " '4.0 International It made available perpetuity',\n",
              " '1 Wuhan epidemic declared as international World Health January',\n",
              " 'However adult information remains unclear paediatric  patients',\n",
              " 'case series describes comprehensive  COVID-19',\n",
              " 'Informed  consent obtained from prior data collection',\n",
              " 'typical  features presented with patchy high  lobules',\n",
              " 'limited  findings offer valuable early epidemic children',\n",
              " 'median incubation period analysed for epidemiological paediatric disease COVID-19',\n",
              " 'noticeable hs increase observed in lactate 25 α patients',\n",
              " 'significant ECG findings observed in blood coagulation tests',\n",
              " 'Multimodality therapies Table antibiotic  therapy',\n",
              " '4.0 International It made available perpetuity',\n",
              " 'continuous  variables presented as median  range',\n",
              " '2020 nucleic acid detection analyzed following instructions',\n",
              " 'negative  results checked by consecutive  tests',\n",
              " 'We collected 1 coronavirus February',\n",
              " 'We described paediatric  patients',\n",
              " 'typical lobules features were common paediatric ground glass cases',\n",
              " 'late onset pattern revealed on tomographic lobules scans',\n",
              " 'version patients this',\n",
              " 'dynamic  observation indicated dynamic extended incubation period',\n",
              " '50.00  levels increased SAA',\n",
              " 'decreasing  level noticed prealbumin',\n",
              " '4.0 International It made available perpetuity',\n",
              " 'median symptom duration was 1.00 symptom admission',\n",
              " 'previous adult levels increased myocardial α impairment',\n",
              " 'few  they was noteworthy -5  admission',\n",
              " '4.0 International It made available perpetuity',\n",
              " 'version in late onset cases',\n",
              " 'great  improvements existed in CT treatments',\n",
              " 'Further  information help whole  COVID-19',\n",
              " 'median incubation period was 1 disease course',\n",
              " 'median  day . 2.00 symptom fever',\n",
              " '14 paediatrics males performed on -94.25 paediatrics whom',\n",
              " 'clinical epidemic characteristics remains unclear paediatric  patients',\n",
              " 'extended incubation which characterized with dominant epidemic control',\n",
              " '4.0 International It made available perpetuity',\n",
              " '4.0 International It made available perpetuity',\n",
              " 'cumulative  counts is incorrect later  ones',\n",
              " 'author  who made available perpetuity',\n",
              " 'author  who made available perpetuity',\n",
              " 'author  who made available perpetuity',\n",
              " 'subtle completeness point feel simply completeness sake',\n",
              " '3 minimization process be equivalent 3  unknowns',\n",
              " 'author  who made available perpetuity',\n",
              " 'available incubation one obliged fit parameter model',\n",
              " 'also  degrees note 3 m −',\n",
              " 'author  who made available perpetuity',\n",
              " 'which holder for peer copyright preprint',\n",
              " 'η applies other  distribution',\n",
              " 'aforementioned  we obtained two age groups',\n",
              " 'author  who indicates perpetuity',\n",
              " 'author  who made available perpetuity',\n",
              " '17 incubation time which are full age groups',\n",
              " 'author  who made available perpetuity',\n",
              " '1 τ k /τ logarithmic  intervals',\n",
              " 'least incubation we 2 following  section',\n",
              " 'i.e. thermodynamic which σ ln p τ',\n",
              " 'author  who made available perpetuity',\n",
              " 'which holder for peer copyright preprint',\n",
              " 'author  who made available perpetuity',\n",
              " 'however age data Note differential probability distribution',\n",
              " 'author  who made available perpetuity',\n",
              " 'slight  which present problem',\n",
              " 'author  who made available perpetuity',\n",
              " 'larger ofFigure 3for sample settle 95 contour ofFigure 5b',\n",
              " 'namely % match given by random  chance',\n",
              " 'horizonal time bars are 1  bin',\n",
              " ' see previous age graph',\n",
              " 'upper  limits Note 86 age group',\n",
              " 'coronavirus declared global health Jan',\n",
              " 'author  who funder perpetuity',\n",
              " 'linearly  that shows clear knowledge discovery visualization',\n",
              " '3  rights reuse permission',\n",
              " 'author  who funder perpetuity',\n",
              " 'author  who funder perpetuity',\n",
              " 'author  who funder perpetuity',\n",
              " 'randomly incubation each + existing  dataset',\n",
              " 'clear data We exclude possible exposure time',\n",
              " '.2 confidence level probability H in 2 interval simulation',\n",
              " 'normal confidence interval probability calculated by same  procedure',\n",
              " 'statistical age data consists of ten gender China',\n",
              " 'years  mode is 14 support cases',\n",
              " 'author  who funder perpetuity',\n",
              " 'author  who funder perpetuity',\n",
              " '2  rights reuse permission',\n",
              " 'author  who funder perpetuity',\n",
              " 'author times who funder perpetuity',\n",
              " 'more spread rights reuse permission',\n",
              " 'author  who funder perpetuity',\n",
              " 'even  they spread COVID-19 virus test',\n",
              " 'also incubation scales verify same family patients',\n",
              " 'ongoing  work is other incubation studies',\n",
              " 'More  details found in Result section',\n",
              " 'respectively  rights reuse permission',\n",
              " 'incubation time rights reuse permission',\n",
              " ' under Gaussian different kernel density groups',\n",
              " 'age>=40 group distributions of different age<40 COVID-19',\n",
              " 'gender indicate key incubation COVID-19',\n",
              " ' Compare incubation Age>=40',\n",
              " 'normally  rights reuse permission',\n",
              " '2016 et E sequence from two South positions',\n",
              " '50  differences arisen from small technical consensus measurement',\n",
              " 'new  sequences Seong Korean MERS outbreak',\n",
              " 'targeted Supplemental Table Primers removed from final PCR purification kit',\n",
              " 'fourth generation case who were Patient',\n",
              " '77 Supplemental Table 135 Specimens from respiratory  failure',\n",
              " 'that revealed nucleotide CoV genome variants',\n",
              " '2015 clonal virus we demonstrated functional  implications',\n",
              " 'multiple South Korea data included initial symptom onset',\n",
              " 'mpileup consensus sequence determined from nucleotide  position',\n",
              " 'bar indicates nucleotide  site',\n",
              " 'Raw sequencing data under Read Archive accession number SRP072910',\n",
              " 'informed  study approved patient genome analysis',\n",
              " '2011 et we demonstrated infected MERS CoV patients',\n",
              " 'humans CoV. one  MERS',\n",
              " 'selective  advantage been weak genetic  patient',\n",
              " 'combined I529 frequency showed most  selection',\n",
              " 'intrapatient  frequency showed wild selection type',\n",
              " 'accurate  descriptions advance molecular MERS CoVs',\n",
              " 'intra MERS results shed Korean MERS outbreak',\n",
              " 'total acid isolation extraction performed according extracted ° C',\n",
              " 'exponential fluorescence that identified by defined ≤35 upE',\n",
              " 'replicated N I 0 replicated N combinations',\n",
              " 'when N ijb replicates /n only n samples',\n",
              " 'significantly  majority correlated rather sequencing errors',\n",
              " 'together consensus data demonstrate intrapatient MERS CoVs',\n",
              " 'where  mutations located in neutralizing  antibodies',\n",
              " 'Thus  data suggest reduced host receptor',\n",
              " 'alternative reference nucleotides displayed discordant reference nucleotides',\n",
              " ' validation by Representative Sanger sequencing method',\n",
              " 'mixed font size moderate base',\n",
              " 'total read frequencies plotted for 35 sample number']"
            ]
          },
          "metadata": {
            "tags": []
          },
          "execution_count": 106
        }
      ]
    },
    {
      "cell_type": "code",
      "metadata": {
        "id": "La42-kHFuAr6",
        "colab_type": "code",
        "colab": {}
      },
      "source": [
        "sim_threshold = 0.6\n",
        "cand_df = pd.DataFrame({':entity':entities, ':property':properties, ':value':values})\n",
        "#kg_df = cand_df.apply(pasteTuple, axis=0)\n",
        "# Check validity of candidate tuples\n",
        "drop_ind = []\n",
        "for i, phr in enumerate(phrase_list, start = 0):\n",
        "    vec_bow = dictionary.doc2bow(phr.lower().split())\n",
        "    # convert the relation to LSI space\n",
        "    vec_lsi = lsi[vec_bow]  \n",
        "    sims = index[vec_lsi]  # perform a similarity query against the corpus\n",
        "    sims = sorted(enumerate(sims), key=lambda item: -item[1])\n",
        "    if sims[0][1] < sim_threshold:\n",
        "      drop_ind.append(i)\n",
        "      \n",
        "      \n",
        "kg_df = cand_df.drop(cand_df.index[drop_ind], inplace=False)\n"
      ],
      "execution_count": 0,
      "outputs": []
    },
    {
      "cell_type": "code",
      "metadata": {
        "id": "2SgFPSi-JedR",
        "colab_type": "code",
        "outputId": "bcbd4f0b-f2bb-41b2-9b79-3b43a2123ba0",
        "colab": {
          "base_uri": "https://localhost:8080/",
          "height": 1000
        }
      },
      "source": [
        "print(kg_df)\n",
        "drop_ind"
      ],
      "execution_count": 114,
      "outputs": [
        {
          "output_type": "stream",
          "text": [
            "                             :entity  ...                                 :value\n",
            "6                      27 Patient We  ...               microbiological  testing\n",
            "22   13 National Health examinations  ...                 Supplementary  methods\n",
            "29                               age  ...                          illness onset\n",
            "32                          L. Huang  ...           tracing incubation Infection\n",
            "35                                    ...           tracing incubation Infection\n",
            "38                  1 Wuhan epidemic  ...     international World Health January\n",
            "39         However adult information  ...                   paediatric  patients\n",
            "43                 limited  findings  ...                early epidemic children\n",
            "44          median incubation period  ...            paediatric disease COVID-19\n",
            "57              dynamic  observation  ...             extended incubation period\n",
            "62             previous adult levels  ...                myocardial α impairment\n",
            "68          median incubation period  ...                       1 disease course\n",
            "69                       median  day  ...                     2.00 symptom fever\n",
            "72         extended incubation which  ...                       epidemic control\n",
            "82          available incubation one  ...                    fit parameter model\n",
            "87                aforementioned  we  ...                         two age groups\n",
            "90          17 incubation time which  ...                        full age groups\n",
            "93               least incubation we  ...                     following  section\n",
            "98                  however age data  ...  differential probability distribution\n",
            "105                                   ...                     previous age graph\n",
            "106                    upper  limits  ...                           86 age group\n",
            "107                      coronavirus  ...                      global health Jan\n",
            "114         randomly incubation each  ...                      existing  dataset\n",
            "118             statistical age data  ...                       ten gender China\n",
            "128           also incubation scales  ...                   same family patients\n",
            "129                    ongoing  work  ...               other incubation studies\n",
            "132           incubation time rights  ...                             permission\n",
            "135                           gender  ...                key incubation COVID-19\n",
            "136                                   ...                     incubation Age>=40\n",
            "142       fourth generation case who  ...                                Patient\n",
            "150                  informed  study  ...                patient genome analysis\n",
            "153             selective  advantage  ...                       genetic  patient\n",
            "\n",
            "[32 rows x 3 columns]\n"
          ],
          "name": "stdout"
        },
        {
          "output_type": "execute_result",
          "data": {
            "text/plain": [
              "[0,\n",
              " 1,\n",
              " 2,\n",
              " 3,\n",
              " 4,\n",
              " 5,\n",
              " 7,\n",
              " 8,\n",
              " 9,\n",
              " 10,\n",
              " 11,\n",
              " 12,\n",
              " 13,\n",
              " 14,\n",
              " 15,\n",
              " 16,\n",
              " 17,\n",
              " 18,\n",
              " 19,\n",
              " 20,\n",
              " 21,\n",
              " 23,\n",
              " 24,\n",
              " 25,\n",
              " 26,\n",
              " 27,\n",
              " 28,\n",
              " 30,\n",
              " 31,\n",
              " 33,\n",
              " 34,\n",
              " 36,\n",
              " 37,\n",
              " 40,\n",
              " 41,\n",
              " 42,\n",
              " 45,\n",
              " 46,\n",
              " 47,\n",
              " 48,\n",
              " 49,\n",
              " 50,\n",
              " 51,\n",
              " 52,\n",
              " 53,\n",
              " 54,\n",
              " 55,\n",
              " 56,\n",
              " 58,\n",
              " 59,\n",
              " 60,\n",
              " 61,\n",
              " 63,\n",
              " 64,\n",
              " 65,\n",
              " 66,\n",
              " 67,\n",
              " 70,\n",
              " 71,\n",
              " 73,\n",
              " 74,\n",
              " 75,\n",
              " 76,\n",
              " 77,\n",
              " 78,\n",
              " 79,\n",
              " 80,\n",
              " 81,\n",
              " 83,\n",
              " 84,\n",
              " 85,\n",
              " 86,\n",
              " 88,\n",
              " 89,\n",
              " 91,\n",
              " 92,\n",
              " 94,\n",
              " 95,\n",
              " 96,\n",
              " 97,\n",
              " 99,\n",
              " 100,\n",
              " 101,\n",
              " 102,\n",
              " 103,\n",
              " 104,\n",
              " 108,\n",
              " 109,\n",
              " 110,\n",
              " 111,\n",
              " 112,\n",
              " 113,\n",
              " 115,\n",
              " 116,\n",
              " 117,\n",
              " 119,\n",
              " 120,\n",
              " 121,\n",
              " 122,\n",
              " 123,\n",
              " 124,\n",
              " 125,\n",
              " 126,\n",
              " 127,\n",
              " 130,\n",
              " 131,\n",
              " 133,\n",
              " 134,\n",
              " 137,\n",
              " 138,\n",
              " 139,\n",
              " 140,\n",
              " 141,\n",
              " 143,\n",
              " 144,\n",
              " 145,\n",
              " 146,\n",
              " 147,\n",
              " 148,\n",
              " 149,\n",
              " 151,\n",
              " 152,\n",
              " 154,\n",
              " 155,\n",
              " 156,\n",
              " 157,\n",
              " 158,\n",
              " 159,\n",
              " 160,\n",
              " 161,\n",
              " 162,\n",
              " 163,\n",
              " 164,\n",
              " 165,\n",
              " 166,\n",
              " 167,\n",
              " 168,\n",
              " 169]"
            ]
          },
          "metadata": {
            "tags": []
          },
          "execution_count": 114
        }
      ]
    },
    {
      "cell_type": "markdown",
      "metadata": {
        "id": "ja5i0fXXdLkQ",
        "colab_type": "text"
      },
      "source": [
        "## Knowledge Graph Visual Representation"
      ]
    },
    {
      "cell_type": "code",
      "metadata": {
        "id": "-8rG3TcrNXKt",
        "colab_type": "code",
        "colab": {}
      },
      "source": [
        "import re\n",
        "import networkx as nx\n",
        "import matplotlib.pyplot as plt\n",
        "\n",
        "pd.set_option('display.max_colwidth', 200)\n",
        "\n",
        "%matplotlib inline"
      ],
      "execution_count": 0,
      "outputs": []
    },
    {
      "cell_type": "code",
      "metadata": {
        "id": "Q8iZUjZLN_U9",
        "colab_type": "code",
        "outputId": "1f1b18f6-4bdf-4cb7-a49b-4e6936e6dfe9",
        "colab": {
          "base_uri": "https://localhost:8080/",
          "height": 612
        }
      },
      "source": [
        "print(kg_df)"
      ],
      "execution_count": 116,
      "outputs": [
        {
          "output_type": "stream",
          "text": [
            "                             :entity  ...                                 :value\n",
            "6                      27 Patient We  ...               microbiological  testing\n",
            "22   13 National Health examinations  ...                 Supplementary  methods\n",
            "29                               age  ...                          illness onset\n",
            "32                          L. Huang  ...           tracing incubation Infection\n",
            "35                                    ...           tracing incubation Infection\n",
            "38                  1 Wuhan epidemic  ...     international World Health January\n",
            "39         However adult information  ...                   paediatric  patients\n",
            "43                 limited  findings  ...                early epidemic children\n",
            "44          median incubation period  ...            paediatric disease COVID-19\n",
            "57              dynamic  observation  ...             extended incubation period\n",
            "62             previous adult levels  ...                myocardial α impairment\n",
            "68          median incubation period  ...                       1 disease course\n",
            "69                       median  day  ...                     2.00 symptom fever\n",
            "72         extended incubation which  ...                       epidemic control\n",
            "82          available incubation one  ...                    fit parameter model\n",
            "87                aforementioned  we  ...                         two age groups\n",
            "90          17 incubation time which  ...                        full age groups\n",
            "93               least incubation we  ...                     following  section\n",
            "98                  however age data  ...  differential probability distribution\n",
            "105                                   ...                     previous age graph\n",
            "106                    upper  limits  ...                           86 age group\n",
            "107                      coronavirus  ...                      global health Jan\n",
            "114         randomly incubation each  ...                      existing  dataset\n",
            "118             statistical age data  ...                       ten gender China\n",
            "128           also incubation scales  ...                   same family patients\n",
            "129                    ongoing  work  ...               other incubation studies\n",
            "132           incubation time rights  ...                             permission\n",
            "135                           gender  ...                key incubation COVID-19\n",
            "136                                   ...                     incubation Age>=40\n",
            "142       fourth generation case who  ...                                Patient\n",
            "150                  informed  study  ...                patient genome analysis\n",
            "153             selective  advantage  ...                       genetic  patient\n",
            "\n",
            "[32 rows x 3 columns]\n"
          ],
          "name": "stdout"
        }
      ]
    },
    {
      "cell_type": "code",
      "metadata": {
        "id": "ZJORMgQRM3iP",
        "colab_type": "code",
        "colab": {}
      },
      "source": [
        "def DrawKG(knowledgegraph_df):\n",
        "  \n",
        "  # create a directed-graph from a dataframe\n",
        "  G = nx.from_pandas_edgelist(knowledgegraph_df, \":entity\", \":value\", edge_attr=True, create_using=nx.MultiDiGraph())\n",
        "  \n",
        "  plt.figure(figsize=(16,16))\n",
        "\n",
        "  pos = nx.spring_layout(G)\n",
        "  nx.draw(G, with_labels=True, node_color='skyblue', edge_cmap=plt.cm.Blues, pos = pos)\n",
        "  plt.show()"
      ],
      "execution_count": 0,
      "outputs": []
    },
    {
      "cell_type": "code",
      "metadata": {
        "colab_type": "code",
        "outputId": "b5894c54-916a-454f-f6fc-f94c01ab412d",
        "id": "PahYQdYr8jlc",
        "colab": {
          "base_uri": "https://localhost:8080/",
          "height": 1000
        }
      },
      "source": [
        "\n",
        "DrawKG(kg_df)"
      ],
      "execution_count": 118,
      "outputs": [
        {
          "output_type": "display_data",
          "data": {
            "image/png": "[encoded data removed]",
            "text/plain": [
              "<Figure size 1152x1152 with 1 Axes>"
            ]
          },
          "metadata": {
            "tags": []
          }
        }
      ]
    },
    {
      "cell_type": "code",
      "metadata": {
        "id": "LSTq-klC8vnD",
        "colab_type": "code",
        "outputId": "b3486236-e94b-4732-aac4-9cb3c2c00c53",
        "colab": {
          "base_uri": "https://localhost:8080/",
          "height": 231
        }
      },
      "source": [
        "# extract subject\n",
        "source = [i[0] for i in entity_pairs]\n",
        "\n",
        "# extract object\n",
        "target = [i[1] for i in entity_pairs]\n",
        "\n",
        "kg_df = pd.DataFrame({'source':source, 'target':target, 'edge':relations})\n",
        "\n",
        "DrawKG(kg_df)"
      ],
      "execution_count": 0,
      "outputs": [
        {
          "output_type": "error",
          "ename": "NameError",
          "evalue": "ignored",
          "traceback": [
            "\u001b[0;31m---------------------------------------------------------------------------\u001b[0m",
            "\u001b[0;31mNameError\u001b[0m                                 Traceback (most recent call last)",
            "\u001b[0;32m<ipython-input-29-0d3aeae42c39>\u001b[0m in \u001b[0;36m<module>\u001b[0;34m()\u001b[0m\n\u001b[1;32m      5\u001b[0m \u001b[0mtarget\u001b[0m \u001b[0;34m=\u001b[0m \u001b[0;34m[\u001b[0m\u001b[0mi\u001b[0m\u001b[0;34m[\u001b[0m\u001b[0;36m1\u001b[0m\u001b[0;34m]\u001b[0m \u001b[0;32mfor\u001b[0m \u001b[0mi\u001b[0m \u001b[0;32min\u001b[0m \u001b[0mentity_pairs\u001b[0m\u001b[0;34m]\u001b[0m\u001b[0;34m\u001b[0m\u001b[0;34m\u001b[0m\u001b[0m\n\u001b[1;32m      6\u001b[0m \u001b[0;34m\u001b[0m\u001b[0m\n\u001b[0;32m----> 7\u001b[0;31m \u001b[0mkg_df\u001b[0m \u001b[0;34m=\u001b[0m \u001b[0mpd\u001b[0m\u001b[0;34m.\u001b[0m\u001b[0mDataFrame\u001b[0m\u001b[0;34m(\u001b[0m\u001b[0;34m{\u001b[0m\u001b[0;34m'source'\u001b[0m\u001b[0;34m:\u001b[0m\u001b[0msource\u001b[0m\u001b[0;34m,\u001b[0m \u001b[0;34m'target'\u001b[0m\u001b[0;34m:\u001b[0m\u001b[0mtarget\u001b[0m\u001b[0;34m,\u001b[0m \u001b[0;34m'edge'\u001b[0m\u001b[0;34m:\u001b[0m\u001b[0mrelations\u001b[0m\u001b[0;34m}\u001b[0m\u001b[0;34m)\u001b[0m\u001b[0;34m\u001b[0m\u001b[0;34m\u001b[0m\u001b[0m\n\u001b[0m\u001b[1;32m      8\u001b[0m \u001b[0;34m\u001b[0m\u001b[0m\n\u001b[1;32m      9\u001b[0m \u001b[0mDrawKG\u001b[0m\u001b[0;34m(\u001b[0m\u001b[0mkg_df\u001b[0m\u001b[0;34m)\u001b[0m\u001b[0;34m\u001b[0m\u001b[0;34m\u001b[0m\u001b[0m\n",
            "\u001b[0;31mNameError\u001b[0m: name 'relations' is not defined"
          ]
        }
      ]
    },
    {
      "cell_type": "markdown",
      "metadata": {
        "id": "uFmXwwWoSmRl",
        "colab_type": "text"
      },
      "source": [
        "# Export to CSV/RDF"
      ]
    },
    {
      "cell_type": "code",
      "metadata": {
        "id": "jtfyDMjAXOAe",
        "colab_type": "code",
        "outputId": "a3cc6ac3-bc93-441b-d5b7-d07968a06c7d",
        "colab": {
          "base_uri": "https://localhost:8080/",
          "height": 34
        }
      },
      "source": [
        "# Export to RDF \n",
        "\n",
        "g = Graph()\n",
        "g.bind(\"rdf\", RDF)\n",
        "\n",
        "for index, row in kg_df.iterrows(): \n",
        "  g.add((Literal(row[':entity']), Literal(row[':property']), Literal(row[':value'])))\n",
        "\n",
        "print(g)"
      ],
      "execution_count": 0,
      "outputs": [
        {
          "output_type": "stream",
          "text": [
            "[a rdfg:Graph;rdflib:storage [a rdflib:Store;rdfs:label 'IOMemory']].\n"
          ],
          "name": "stdout"
        }
      ]
    },
    {
      "cell_type": "code",
      "metadata": {
        "id": "ztkzhS6_2cJi",
        "colab_type": "code",
        "outputId": "ca1c1545-ce65-41e9-b027-efb8afbd1ec8",
        "colab": {
          "base_uri": "https://localhost:8080/",
          "height": 122
        }
      },
      "source": [
        "from google.colab import drive\n",
        "drive.mount('/gdrive')"
      ],
      "execution_count": 0,
      "outputs": [
        {
          "output_type": "stream",
          "text": [
            "Go to this URL in a browser: https://accounts.google.com/o/oauth2/auth?client_id=947318989803-6bn6qk8qdgf4n4g3pfee6491hc0brc4i.apps.googleusercontent.com&redirect_uri=urn%3aietf%3awg%3aoauth%3a2.0%3aoob&response_type=code&scope=email%20https%3a%2f%2fwww.googleapis.com%2fauth%2fdocs.test%20https%3a%2f%2fwww.googleapis.com%2fauth%2fdrive%20https%3a%2f%2fwww.googleapis.com%2fauth%2fdrive.photos.readonly%20https%3a%2f%2fwww.googleapis.com%2fauth%2fpeopleapi.readonly\n",
            "\n",
            "Enter your authorization code:\n",
            "··········\n",
            "Mounted at /gdrive\n"
          ],
          "name": "stdout"
        }
      ]
    },
    {
      "cell_type": "code",
      "metadata": {
        "id": "otPDdrYH2SYg",
        "colab_type": "code",
        "colab": {}
      },
      "source": [
        "# RDF turtle should be serialized to write it properly\n",
        "\n",
        "root = os.getcwd()\n",
        "filepath = '/gdrive/My Drive/COVID-19'\n",
        "cwd = os.path.join(root, filepath)\n",
        "os.chdir(cwd)\n",
        "\n",
        "file = open(\"ties-kg.rdf\", mode=\"wb\")\n",
        "g.serialize(destination='ties-kg.rdf', format='turtle')"
      ],
      "execution_count": 0,
      "outputs": []
    },
    {
      "cell_type": "code",
      "metadata": {
        "id": "PbJTRS22jMdA",
        "colab_type": "code",
        "colab": {}
      },
      "source": [
        "#Export to TSV\n",
        "\n",
        "kg_df.to_csv('ties_kg.tsv', sep='\\t', encoding='utf-8', index=False)"
      ],
      "execution_count": 0,
      "outputs": []
    },
    {
      "cell_type": "code",
      "metadata": {
        "id": "fXtPo8W0fYhA",
        "colab_type": "code",
        "outputId": "3dacc1c9-00fc-4cef-fa97-c6818a638df4",
        "colab": {
          "base_uri": "https://localhost:8080/",
          "height": 34
        }
      },
      "source": [
        "import os\n",
        "print(os.listdir())"
      ],
      "execution_count": 0,
      "outputs": [
        {
          "output_type": "stream",
          "text": [
            "['data', 'dataverse', 'ties-kg.rdf']\n"
          ],
          "name": "stdout"
        }
      ]
    },
    {
      "cell_type": "markdown",
      "metadata": {
        "id": "6r4A2_3PSUJ5",
        "colab_type": "text"
      },
      "source": [
        "## Debugging TAGS, POS, LABEL"
      ]
    },
    {
      "cell_type": "code",
      "metadata": {
        "id": "LM8Wsc7H_v6R",
        "colab_type": "code",
        "colab": {}
      },
      "source": [
        "t = []\n",
        "t.append('In a sensitivity analysis, we vary the incubation period from 1 day to 3 days, the infectious period from 5 days to 7 days, and the latent period from 0 days to 1 day.')\n",
        "t.append('We reviewed the literature for the epidemiological parameters: incubation period, infectious period, hospitalization period, hospitalized proportion, case fatality proportion, and R 0 .')\n",
        "t.append('Assuming that the latent period and the infectious period is approximately equal to the incubation period and the length of stay, the mean values of the latent period and the infectious period are preliminarily estimated to be 5 and 10 days, respectively.')\n",
        "t.append('Measles (incubation period of 7-18 days), mumps (incubation period of 12-25 days), rubella (incubation period of 14-23 days), and varicella (incubation period of 10-21 days) are relevant examples.')\n",
        "t.append('In the primary analysis, we assumed an incubation period of 2 days, a latent period of 0 days, and an infectious period of 6 days.')\n",
        "t.append('The average incubation period is 5-6 days with the longest incubation period of 14 days.')\n",
        "t.append('Incubation period: 14–21 days')"
      ],
      "execution_count": 0,
      "outputs": []
    },
    {
      "cell_type": "code",
      "metadata": {
        "id": "gBuaGEYCkSJt",
        "colab_type": "code",
        "colab": {}
      },
      "source": [
        "doc = nlp(t[0])\n",
        "\n",
        "print(\"{: <12} {: <12} {: <8} {: <6} {: <8} {: <8}\".format(\"Text\", \"Lemma\", \"POS\", \"Tag\", \"Dep\", \"Shape\"))\n",
        "print(\"------------------------------------------------------------\")\n",
        "for token in doc:\n",
        "    print(\"{: <12} {: <12} {: <8} {: <6} {: <8} {: <8} {: <8}\".format(token.text, token.lemma_, token.pos_, token.tag_, token.dep_, token.shape_, token.orth))"
      ],
      "execution_count": 0,
      "outputs": []
    },
    {
      "cell_type": "code",
      "metadata": {
        "id": "2BQ0rl6HFeTV",
        "colab_type": "code",
        "colab": {}
      },
      "source": [
        "from spacy import displacy\n",
        "\n",
        "# 'From our definition of incubation period, his incubation period will be 28 days, which is surprisingly high.'\n",
        "doc = nlp(t[0])\n",
        "displacy.render(doc, style='dep', jupyter=True, options={'distance': 80, \"fine_grained\": True})"
      ],
      "execution_count": 0,
      "outputs": []
    },
    {
      "cell_type": "markdown",
      "metadata": {
        "id": "tO2CfpWic1s9",
        "colab_type": "text"
      },
      "source": [
        "### Not tested placeholders"
      ]
    },
    {
      "cell_type": "code",
      "metadata": {
        "id": "aoLviS1TLzhg",
        "colab_type": "code",
        "colab": {}
      },
      "source": [
        "import spacy\n",
        "from spacy.matcher import PhraseMatcher\n",
        "from spacy.tokens import Span\n",
        "\n",
        "nlp = spacy.load(\"en_core_web_sm\")\n",
        "\n",
        "ties = [\"transmission\", \"incubation period\", \"incubation\"]\n",
        "ties_patterns = list(nlp.pipe(ties))\n",
        "print(\"TIES patterns:\", ties_patterns)\n",
        "matcher = PhraseMatcher(nlp.vocab)\n",
        "matcher.add(\"TIES\", None, *ties_patterns)\n",
        "\n",
        "# Define the custom component\n",
        "def TIES_component(doc):\n",
        "    # Apply the matcher to the doc\n",
        "    matches = matcher(doc)\n",
        "    # Create a Span for each match and assign the label \"TIES\"\n",
        "    spans = [Span(doc, start, end, label=\"TIES\") for match_id, start, end in matches]\n",
        "    # Overwrite the doc.ents with the matched spans\n",
        "    doc.ents = spans\n",
        "    return doc\n",
        "\n",
        "\n",
        "# Add the component to the pipeline after the \"ner\" component\n",
        "nlp.add_pipe(TIES_component, after=\"ner\")\n",
        "print(nlp.pipe_names)\n",
        "\n",
        "# Process the text and print the text and label for the doc.ents\n",
        "doc = nlp(sentences[30])\n",
        "print([(ent.text, ent.label_) for ent in doc.ents])"
      ],
      "execution_count": 0,
      "outputs": []
    },
    {
      "cell_type": "code",
      "metadata": {
        "id": "16B--0T7O-p7",
        "colab_type": "code",
        "colab": {}
      },
      "source": [
        "docs = list(nlp.pipe(TEXT))\n",
        "entities = [doc.ents for doc in docs]\n",
        "print(*entities)"
      ],
      "execution_count": 0,
      "outputs": []
    },
    {
      "cell_type": "code",
      "metadata": {
        "id": "IEooQwVIhp5c",
        "colab_type": "code",
        "colab": {}
      },
      "source": [
        "# Depricated\n",
        "def getPeriodEntities(modifier, sentence):\n",
        "  \n",
        "  # Language and Vocabulary setting - English small model\n",
        "  nlp = spacy.load(\"en_core_web_sm\")\n",
        "  \n",
        "  matcher = Matcher(nlp.vocab)\n",
        "  doc = nlp(sentence)\n",
        "   \n",
        "  # 1) \"Incubation period\"  2) \"infection period\"\n",
        "  pattern = [\n",
        "              {'LEMMA': modifier}, {'LEMMA': 'period'}\n",
        "            ]\n",
        "\n",
        "  # Add the pattern to the matcher and apply the matcher to the doc\n",
        "  matcher.add(\":entityPeriod\", None, pattern)\n",
        "  matches = matcher(doc)\n",
        "  \n",
        "  entities = []\n",
        "  \n",
        "  # Iterate over the matches and print the span text\n",
        "  for match_id, start, end in matches:\n",
        "    entities.append(doc[end].orth, doc[start:end].text)\n",
        "    for c in doc[end].token.children:\n",
        "        crossid.append(c.orth, ent_id)\n",
        "    \n",
        "  return(entities)\n",
        "  "
      ],
      "execution_count": 0,
      "outputs": []
    },
    {
      "cell_type": "code",
      "metadata": {
        "id": "3jOTp3M2L1JY",
        "colab_type": "code",
        "colab": {}
      },
      "source": [
        "# Depicated\n",
        "def getPersistenceEntities(sentence):\n",
        "  \n",
        "  # Language and Vocabulary setting - English small model\n",
        "  nlp = spacy.load(\"en_core_web_sm\")\n",
        "  \n",
        "  matcher = Matcher(nlp.vocab)\n",
        "  doc = nlp(sentence)\n",
        "   \n",
        "  # Virus survives on <surface>\n",
        "  pattern_pers = [ \n",
        "                  {\"LEMMA\": \"persist\"}, {\"POS\": \"on\"}, {\"POS\": \"NOUN\"}, {\"OP\": \"*\"}\n",
        "                 ]\n",
        "  pattern_surv = [ \n",
        "                  {\"LEMMA\": \"survive\"}, {\"POS\": \"on\"}, {\"POS\": \"NOUN\"}, {\"OP\": \"*\"}\n",
        "                 ]\n",
        "  # Add the pattern to the matcher and apply the matcher to the doc\n",
        "  matcher.add(\":entityPersistence\", None, pattern_pers, pattern_surv)\n",
        "  matches = matcher(doc)\n",
        "  \n",
        "  entities = []\n",
        "  # Iterate over the matches and print the span text\n",
        "  for match_id, start, end in matches:\n",
        "    entities.append(doc[start:end].text)\n",
        "     \n",
        "  return(entities)"
      ],
      "execution_count": 0,
      "outputs": []
    },
    {
      "cell_type": "code",
      "metadata": {
        "id": "Pl72BE-mEQAe",
        "colab_type": "code",
        "colab": {}
      },
      "source": [
        "# Depricated\n",
        "def getPeriodProperties(sentence):\n",
        "  \n",
        "  # Language and Vocabulary setting - English small model\n",
        "  nlp = spacy.load(\"en_core_web_sm\")\n",
        "  \n",
        "  matcher = Matcher(nlp.vocab)\n",
        "  doc = nlp(sentence)\n",
        "\n",
        "  statistics = [ 'minimum', 'maximum', 'average', 'mean'] \n",
        "  # \"Incubation period maximum is about/approximately 14 days\"\n",
        "  \n",
        "  patterns = [[{\"LEMMA\": stat}] for stat in statistics] \n",
        "  \n",
        "  # Add the pattern to the matcher and apply the matcher to the doc\n",
        "  matcher.add(\":property\", None, *patterns)\n",
        "  matches = matcher(doc)\n",
        "  \n",
        "  properties = []\n",
        "  # Iterate over the matches and print the span text\n",
        "  for match_id, start, end in matches:\n",
        "    properties.append(doc[end].token.orth, doc[start:end].text)\n",
        "     \n",
        "  return(properties)\n"
      ],
      "execution_count": 0,
      "outputs": []
    },
    {
      "cell_type": "code",
      "metadata": {
        "id": "o4GD3RpyGI4N",
        "colab_type": "code",
        "colab": {}
      },
      "source": [
        "# Depricated\n",
        "def getPeriods(sentence):\n",
        "  \n",
        "  # Language and Vocabulary setting - English small model\n",
        "  nlp = spacy.load(\"en_core_web_sm\")\n",
        "  \n",
        "  matcher = Matcher(nlp.vocab)\n",
        "  doc = nlp(sentence)\n",
        "   \n",
        "  # 1) \"2-14 days\" 2) \"from 7 to 14 days.\" 3) \"<5.2 days\" 4) \"~4-12 days\" 5)\n",
        "  pattern = [ \n",
        "              #{\"POS\":\"X\", \"OP\":\"?\", \"POS\":\"NUM\", \"OP\":\"?\", \"POS\":\"HYPH\", \"OP\":\"?\",\n",
        "               {\"POS\":\"NUM\"}, {\"LEMMA\":\"day\"}#,\n",
        "             # {\"POS\":\"X\", \"OP\":\"?\", \"POS\":\"NUM\", \"OP\":\"?\", \"POS\":\"HYPH\", \"OP\":\"?\", \"POS\":\"NUM\", \"LEMMA\":\"hour\"},\n",
        "              #{\"POS\":\"X\", \"OP\":\"?\", \"POS\":\"NUM\", \"OP\":\"?\", \"POS\":\"HYPH\", \"OP\":\"?\", \"POS\":\"NUM\", \"LEMMA\":\"week\"} \n",
        "            ]\n",
        "  \n",
        "  # Add the pattern to the matcher and apply the matcher to the doc\n",
        "  matcher.add(\":period\", None, pattern)\n",
        "  matches = matcher(doc)\n",
        "  \n",
        "  period_values = []\n",
        "  # Iterate over the matches and print the span text\n",
        "  for match_id, start, end in matches:\n",
        "    period_values.append(doc[end].token.orth, doc[start:end].text)\n",
        "    \n",
        "  return(period_values)\n"
      ],
      "execution_count": 0,
      "outputs": []
    },
    {
      "cell_type": "code",
      "metadata": {
        "id": "V-kbOpo37YAQ",
        "colab_type": "code",
        "colab": {}
      },
      "source": [
        "# depricated\n",
        "def getPersistenceMaterials(sentence):\n",
        "  \n",
        "  # Language and Vocabulary setting - English small model\n",
        "  nlp = spacy.load(\"en_core_web_sm\")\n",
        "  \n",
        "  matcher = Matcher(nlp.vocab)\n",
        "  doc = nlp(sentence)\n",
        "   \n",
        "  # Surfaces\n",
        "  pattern_pap = [ \n",
        "                  {\"LEMMA\": \"paper\"}\n",
        "                 ]\n",
        "  pattern_pl = [ \n",
        "                  {\"LEMMA\": \"plastic\"}\n",
        "               ]\n",
        "  pattern_met = [ \n",
        "                  {\"POS\": \"ADJ\" }, {\"OP\": \"?\"}, {\"LEMMA\": \"steel\"}\n",
        "               ]\n",
        "  pattern_gl = [ \n",
        "                  {\"LEMMA\": \"glass\"}\n",
        "               ]\n",
        "\n",
        "  # Add the pattern to the matcher and apply the matcher to the doc\n",
        "  matcher.add(\":entitySurface\", None, pattern_pap, pattern_pl, pattern_met, pattern_gl)\n",
        "  matches = matcher(doc)\n",
        "  \n",
        "  entities = []\n",
        "  # Iterate over the matches and print the span text\n",
        "  for match_id, start, end in matches:\n",
        "    entities.append(doc[start:end].text)\n",
        "     \n",
        "  return(entities)"
      ],
      "execution_count": 0,
      "outputs": []
    }
  ]
}